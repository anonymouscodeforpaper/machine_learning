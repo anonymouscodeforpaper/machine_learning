{
 "cells": [
  {
   "cell_type": "code",
   "execution_count": 1,
   "metadata": {},
   "outputs": [],
   "source": [
    "import pickle\n",
    "import pandas as pd\n",
    "import torch\n",
    "from torch import nn\n",
    "from sklearn.preprocessing import LabelEncoder\n",
    "from concurrent.futures import ProcessPoolExecutor\n",
    "import numpy as np\n",
    "from operator import itemgetter\n",
    "THREADS = 16\n",
    "from sklearn.metrics import precision_score\n",
    "from sklearn.metrics import recall_score\n",
    "from sklearn.metrics import f1_score\n",
    "import time\n",
    "import torch.nn.functional as F\n",
    "loss_func = torch.nn.MSELoss()"
   ]
  },
  {
   "cell_type": "code",
   "execution_count": 2,
   "metadata": {},
   "outputs": [],
   "source": [
    "trainset = pd.read_csv('train.csv')\n",
    "testset = pd.read_csv('test.csv')\n",
    "def traite_train_test(df):\n",
    "    df['actors'] = df['actors'].apply(lambda x: json.loads(x))\n",
    "    df['director'] = df['director'].apply(lambda x: json.loads(x))\n",
    "    df['genre'] = df['genre'].apply(lambda x: json.loads(x))\n",
    "    return df\n",
    "hehe_test = traite_train_test(trainset)\n",
    "df_empty = traite_train_test(testset)\n",
    "df_empty['user_id'] = df_empty['user_id'].astype('int')\n",
    "df_empty['user_rating'] = df_empty['user_rating'].astype('float')\n",
    "df_empty['movie'] = df_empty['movie'].astype('int')\n",
    "hehe_test.index = range(len(hehe_test))\n",
    "df_empty.index = range(len(df_empty))"
   ]
  },
  {
   "cell_type": "code",
   "execution_count": 3,
   "metadata": {},
   "outputs": [
    {
     "name": "stderr",
     "output_type": "stream",
     "text": [
      "<ipython-input-3-55be2c786f61>:1: FutureWarning: The frame.append method is deprecated and will be removed from pandas in a future version. Use pandas.concat instead.\n",
      "  df_all = df_empty.append(hehe_test)\n"
     ]
    }
   ],
   "source": [
    "df_all = df_empty.append(hehe_test)"
   ]
  },
  {
   "cell_type": "code",
   "execution_count": 4,
   "metadata": {},
   "outputs": [
    {
     "data": {
      "text/plain": [
       "(942, 1238)"
      ]
     },
     "execution_count": 4,
     "metadata": {},
     "output_type": "execute_result"
    }
   ],
   "source": [
    "max(hehe_test['user_id']),max(hehe_test['movie'])"
   ]
  },
  {
   "cell_type": "code",
   "execution_count": 5,
   "metadata": {},
   "outputs": [],
   "source": [
    "def basic_fm(BIAS, bias, feature_embeddings):\n",
    "    inter1 = torch.square(feature_embeddings.sum(1))\n",
    "    inter2 = torch.square(feature_embeddings).sum(1)\n",
    "    out = 0.5 * (inter1 - inter2)\n",
    "    out = out.sum()\n",
    "    out = BIAS + bias + out\n",
    "    return out"
   ]
  },
  {
   "cell_type": "code",
   "execution_count": 6,
   "metadata": {},
   "outputs": [],
   "source": [
    "def jiumin(first, user_item_id, actors_id, directors_id, genres_id, aspects, user_item_aspect, bias, BIAS):\n",
    "    val_base = actors_id[first]\n",
    "    actor_base = torch.LongTensor(val_base)\n",
    "    bias_actors = bias(actor_base).squeeze(1).sum()\n",
    "    actors_base = aspects(actor_base)\n",
    "\n",
    "    val_base = directors_id[first]\n",
    "    director_base = torch.LongTensor(val_base)\n",
    "    bias_directors = bias(director_base).squeeze(1).sum()\n",
    "    director_base = aspects(director_base)\n",
    "\n",
    "    val_base = genres_id[first]\n",
    "    genre_base = torch.LongTensor(val_base)\n",
    "    bias_genres = bias(genre_base).squeeze(1).sum()\n",
    "    genre_base = aspects(genre_base)\n",
    "\n",
    "    val_base = user_item_id[first]\n",
    "    user_item_base = torch.LongTensor(val_base)\n",
    "    bias_user_items = bias(user_item_base).squeeze(1).sum()  # 1* n * 1\n",
    "    user_item_base = user_item_aspect(user_item_base)  # 1 * 2 * dim\n",
    "\n",
    "    bias_all = bias_actors + bias_directors + bias_genres + bias_user_items\n",
    "\n",
    "    batch_embedding = torch.cat(\n",
    "        (actors_base, director_base, genre_base, user_item_base), 0)\n",
    "\n",
    "    pre_rating = basic_fm(BIAS, bias_all, batch_embedding)\n",
    "    return pre_rating"
   ]
  },
  {
   "cell_type": "code",
   "execution_count": 7,
   "metadata": {},
   "outputs": [],
   "source": [
    "class FM(nn.Module):\n",
    "    def __init__(self, n_user_item, n_features, n_factors):\n",
    "        super(FM, self).__init__()\n",
    "        self.n_features = n_features\n",
    "        self.n_factors = n_factors\n",
    "        self.features_factors = torch.nn.Embedding(n_features, n_factors)\n",
    "        self.user_item_factors = torch.nn.Embedding(n_user_item, n_factors)\n",
    "        self.bias = torch.nn.Embedding(n_features, 1)\n",
    "        self.BIAS = torch.nn.Embedding(1, 1)\n",
    "\n",
    "    def forward(self, user_item_id, actors_id, directors_id, genres_id):\n",
    "\n",
    "        aspects = self.features_factors\n",
    "        user_item_aspect = self.user_item_factors\n",
    "        bias = self.bias\n",
    "        bias = self.bias\n",
    "        BIAS = self.BIAS.weight.squeeze(1)\n",
    "\n",
    "        first = actors_id.index[0]\n",
    "        pre_rating = jiumin(\n",
    "            first, user_item_id, actors_id, directors_id, genres_id, aspects, user_item_aspect, bias, BIAS)\n",
    "        for i in actors_id.index[1:]:\n",
    "            actors_f = jiumin(i, user_item_id, actors_id,\n",
    "                              directors_id, genres_id, aspects, user_item_aspect, bias, BIAS)\n",
    "            pre_rating = torch.cat((pre_rating, actors_f))\n",
    "        return pre_rating"
   ]
  },
  {
   "cell_type": "code",
   "execution_count": 8,
   "metadata": {},
   "outputs": [],
   "source": [
    "# data = hehe_test.copy()\n",
    "# i = 0\n",
    "# batch_size = 2\n",
    "# num_example = 86572\n",
    "# indices = list(range(num_example))\n",
    "\n",
    "# model_test = FM(2182, 4328, 32)\n",
    "# aspects = model_test.features_factors\n",
    "# user_item_aspect = model_test.user_item_factors\n",
    "# bias = model_test.bias\n",
    "# bias = model_test.bias\n",
    "# BIAS = model_test.BIAS.weight.squeeze(1)\n",
    "\n",
    "\n",
    "# indexs = indices[i:min(i+batch_size, num_example)]\n",
    "# user_item_id = data.iloc[:, 0:2].loc[indexs].values\n",
    "# actors_id = data.iloc[:, 2].loc[indexs]\n",
    "# actors_id.index = range(len(actors_id))\n",
    "# directors_id = data.iloc[:, 3].loc[indexs]\n",
    "# directors_id.index = range(len(directors_id))\n",
    "# genres_id = data.iloc[:, 4].loc[indexs]\n",
    "# genres_id.index = range(len(genres_id))"
   ]
  },
  {
   "cell_type": "code",
   "execution_count": 9,
   "metadata": {},
   "outputs": [],
   "source": [
    "# first = actors_id.index[0]"
   ]
  },
  {
   "cell_type": "code",
   "execution_count": 71,
   "metadata": {},
   "outputs": [
    {
     "data": {
      "text/plain": [
       "0.3026134800550207"
      ]
     },
     "execution_count": 71,
     "metadata": {},
     "output_type": "execute_result"
    }
   ],
   "source": [
    "(0.3788-0.2908)/0.2908"
   ]
  },
  {
   "cell_type": "code",
   "execution_count": 32,
   "metadata": {},
   "outputs": [
    {
     "data": {
      "text/plain": [
       "(tensor(1.1306, grad_fn=<SumBackward0>),\n",
       " tensor(-0.2603, grad_fn=<SumBackward0>),\n",
       " tensor(0.2454, grad_fn=<SumBackward0>),\n",
       " tensor(-0.4410, grad_fn=<SumBackward0>),\n",
       " tensor(0.6748, grad_fn=<AddBackward0>))"
      ]
     },
     "execution_count": 32,
     "metadata": {},
     "output_type": "execute_result"
    }
   ],
   "source": [
    "# bias_actors,bias_directors,bias_genres,bias_user_items,bias_all"
   ]
  },
  {
   "cell_type": "code",
   "execution_count": 33,
   "metadata": {},
   "outputs": [
    {
     "data": {
      "text/plain": [
       "(torch.Size([5, 32]),\n",
       " torch.Size([1, 32]),\n",
       " torch.Size([3, 32]),\n",
       " torch.Size([2, 32]),\n",
       " torch.Size([11, 32]))"
      ]
     },
     "execution_count": 33,
     "metadata": {},
     "output_type": "execute_result"
    }
   ],
   "source": [
    "# actors_base.shape,director_base.shape,genre_base.shape,user_item_base.shape,batch_embedding.shape"
   ]
  },
  {
   "cell_type": "code",
   "execution_count": 31,
   "metadata": {},
   "outputs": [],
   "source": [
    "# val_base = actors_id[first]\n",
    "# actor_base = torch.LongTensor(val_base)\n",
    "# bias_actors = bias(actor_base).sum()\n",
    "# actors_base = aspects(actor_base)\n",
    "\n",
    "# val_base = directors_id[first]\n",
    "# director_base = torch.LongTensor(val_base)\n",
    "# bias_directors = bias(director_base).sum()\n",
    "# director_base = aspects(director_base)\n",
    "\n",
    "# val_base = genres_id[first]\n",
    "# genre_base = torch.LongTensor(val_base)\n",
    "# bias_genres = bias(genre_base).sum()\n",
    "# genre_base = aspects(genre_base)\n",
    "\n",
    "# val_base = user_item_id[first]\n",
    "# user_item_base = torch.LongTensor(val_base)\n",
    "# bias_user_items = bias(user_item_base).squeeze(1).sum()  # 1* n * 1\n",
    "# user_item_base = user_item_aspect(user_item_base)  # 1 * 2 * dim\n",
    "\n",
    "# bias_all = bias_actors + bias_directors + bias_genres + bias_user_items\n",
    "\n",
    "# batch_embedding = torch.cat(\n",
    "#     (user_item_base,actors_base, director_base, genre_base), 0)"
   ]
  },
  {
   "cell_type": "code",
   "execution_count": 11,
   "metadata": {},
   "outputs": [
    {
     "data": {
      "text/plain": [
       "(tensor(1.3844, grad_fn=<SumBackward0>),\n",
       " tensor(-0.9359, grad_fn=<SumBackward0>),\n",
       " tensor(-0.1214, grad_fn=<SumBackward0>),\n",
       " tensor(0.2553, grad_fn=<SumBackward0>),\n",
       " tensor(0.5823, grad_fn=<AddBackward0>))"
      ]
     },
     "execution_count": 11,
     "metadata": {},
     "output_type": "execute_result"
    }
   ],
   "source": [
    "# bias_actors,bias_directors,bias_genres,bias_user_items,bias_all"
   ]
  },
  {
   "cell_type": "code",
   "execution_count": 12,
   "metadata": {},
   "outputs": [
    {
     "data": {
      "text/plain": [
       "(torch.Size([5, 32]),\n",
       " torch.Size([1, 32]),\n",
       " torch.Size([3, 32]),\n",
       " torch.Size([2, 32]),\n",
       " torch.Size([11, 32]))"
      ]
     },
     "execution_count": 12,
     "metadata": {},
     "output_type": "execute_result"
    }
   ],
   "source": [
    "# actors_base.shape,director_base.shape,genre_base.shape,user_item_base.shape,batch_embedding.shape"
   ]
  },
  {
   "cell_type": "code",
   "execution_count": 13,
   "metadata": {},
   "outputs": [
    {
     "data": {
      "text/plain": [
       "torch.Size([11, 32])"
      ]
     },
     "execution_count": 13,
     "metadata": {},
     "output_type": "execute_result"
    }
   ],
   "source": [
    "# batch_embedding.shape"
   ]
  },
  {
   "cell_type": "code",
   "execution_count": 14,
   "metadata": {},
   "outputs": [
    {
     "data": {
      "text/plain": [
       "torch.Size([11])"
      ]
     },
     "execution_count": 14,
     "metadata": {},
     "output_type": "execute_result"
    }
   ],
   "source": [
    "# batch_embedding.sum(1).shape"
   ]
  },
  {
   "cell_type": "code",
   "execution_count": 35,
   "metadata": {},
   "outputs": [
    {
     "data": {
      "text/plain": [
       "torch.Size([32])"
      ]
     },
     "execution_count": 35,
     "metadata": {},
     "output_type": "execute_result"
    }
   ],
   "source": [
    "# inter1 = torch.square(batch_embedding.sum(0))\n",
    "# inter2 = torch.square(batch_embedding).sum(0)\n",
    "# inter1.shape"
   ]
  },
  {
   "cell_type": "code",
   "execution_count": 36,
   "metadata": {},
   "outputs": [],
   "source": [
    "# inter1 = torch.square(batch_embedding.sum(0))\n",
    "# inter2 = torch.square(batch_embedding).sum(0)\n",
    "# out = 0.5 * (inter1 - inter2)\n",
    "# out = out.sum()\n",
    "# out = BIAS + bias_all + out"
   ]
  },
  {
   "cell_type": "code",
   "execution_count": null,
   "metadata": {},
   "outputs": [],
   "source": []
  },
  {
   "cell_type": "code",
   "execution_count": 37,
   "metadata": {},
   "outputs": [],
   "source": [
    "def RMSE(data, model):\n",
    "    user_item_index = data.iloc[:, 0:2].values\n",
    "    actors_id = data.iloc[:, 2] \n",
    "    directors_id = data.iloc[:, 3]\n",
    "    genres_id = data.iloc[:, 4]\n",
    "    rating = torch.FloatTensor(\n",
    "        data.iloc[:, 5].values).to(DEVICE)\n",
    "    prediction = model(user_item_index, actors_id, directors_id, genres_id)\n",
    "    rmse = loss_func(prediction, rating)\n",
    "    mae = torch.nn.L1Loss()(prediction, rating)\n",
    "    \n",
    "    return rmse ** 0.5,mae"
   ]
  },
  {
   "cell_type": "code",
   "execution_count": 38,
   "metadata": {},
   "outputs": [],
   "source": [
    "# hehe_test['movie'] = hehe_test['movie'] + 943\n",
    "# df_empty['movie'] = df_empty['movie'] + 943\n",
    "#df_all['movie'] = df_all['movie'] + 943"
   ]
  },
  {
   "cell_type": "code",
   "execution_count": 39,
   "metadata": {},
   "outputs": [
    {
     "data": {
      "text/plain": [
       "1238"
      ]
     },
     "execution_count": 39,
     "metadata": {},
     "output_type": "execute_result"
    }
   ],
   "source": [
    "max(df_all['movie'])"
   ]
  },
  {
   "cell_type": "code",
   "execution_count": 40,
   "metadata": {},
   "outputs": [],
   "source": [
    "def train(lr, dim, reg, batch_size, num_epochs, data, test):\n",
    "    model = FM(2182, 4328, dim).to(DEVICE)\n",
    "    optimizer = torch.optim.Adam(params=model.parameters(), lr=lr,weight_decay=reg)\n",
    "    scheduler = torch.optim.lr_scheduler.ReduceLROnPlateau(\n",
    "        optimizer, mode='min', factor=0.5, patience=10, threshold_mode='abs',threshold = 0.005)\n",
    "    for epoch in range(num_epochs):\n",
    "        model.train()\n",
    "        t1 = time.time()\n",
    "        num_example = len(data)\n",
    "        indices = list(range(num_example))\n",
    "        for i in tqdm(range(0, num_example, batch_size)):\n",
    "            optimizer.zero_grad()\n",
    "            indexs = indices[i:min(i+batch_size, num_example)]\n",
    "            users_index = data.iloc[:, 0:2].loc[indexs].values\n",
    "            actors_id = data.iloc[:, 2].loc[indexs]\n",
    "            actors_id.index = range(len(actors_id))\n",
    "            directors_id = data.iloc[:, 3].loc[indexs]\n",
    "            directors_id.index = range(len(directors_id))\n",
    "            genres_id = data.iloc[:, 4].loc[indexs]\n",
    "            genres_id.index = range(len(genres_id))\n",
    "            rating = torch.FloatTensor(\n",
    "                data.iloc[:, 5].loc[indexs].values).to(DEVICE)\n",
    "            prediction = model(\n",
    "                users_index, actors_id, directors_id, genres_id)\n",
    "\n",
    "            err = loss_func(prediction, rating) \n",
    "            err.backward()\n",
    "            optimizer.step()\n",
    "        t2 = time.time()\n",
    "        rmse, mae = RMSE(test, model)\n",
    "        scheduler.step(rmse)\n",
    "        print(\"Epoch: \", epoch, \" Loss: \", err, \" RMSE in test set:\",\n",
    "              rmse, \"MAE in test set: \", mae)\n",
    "        print(\"Time consumed is:\", t2-t1)\n",
    "    return rmse, mae, model"
   ]
  },
  {
   "cell_type": "code",
   "execution_count": 41,
   "metadata": {},
   "outputs": [],
   "source": [
    "def grid(lrs, dims, regs, batch_sizes, num_epochs, data, test):\n",
    "    res = []\n",
    "    models = []\n",
    "    qnm = []\n",
    "    for lr in lrs:\n",
    "        for dim in dims:\n",
    "            for reg in regs:\n",
    "                for batch_size in batch_sizes:\n",
    "                    rmse, mae, model = train(\n",
    "                        lr, dim, reg, batch_size, num_epochs, data, test)\n",
    "                    res.append(rmse)\n",
    "                    res.append(mae)\n",
    "\n",
    "                    models.append(model)\n",
    "                    state = { 'model': model.state_dict()}   \n",
    "                    torch.save(state, '/home/jinfeng/Downloads/doctorant/Conférences/dsaa/argumrntative/KR2020-Aspect-Item-Recommender-System-master/data/MOVIELENS/ml-100k/new_models/fm_' + str(lr) + '_' + str(dim) + '_' + str(reg) + '_' + str(batch_size) + '.pkl')\n",
    "                    \n",
    "    return res, models"
   ]
  },
  {
   "cell_type": "code",
   "execution_count": 42,
   "metadata": {},
   "outputs": [],
   "source": [
    "# lr = 1e-2\n",
    "# dim = 32\n",
    "# reg = 4e-5\n",
    "# batch_size = 128 \n",
    "# num_epochs = 100\n",
    "DEVICE = \"cuda\" if torch.cuda.is_available() else \"cpu\""
   ]
  },
  {
   "cell_type": "code",
   "execution_count": 44,
   "metadata": {},
   "outputs": [],
   "source": [
    "from tqdm import tqdm\n",
    "from torch.nn import LeakyReLU\n",
    "# model_fm = train(lr, dim, reg, batch_size, num_epochs, hehe_test,df_empty)"
   ]
  },
  {
   "cell_type": "code",
   "execution_count": 47,
   "metadata": {},
   "outputs": [
    {
     "name": "stderr",
     "output_type": "stream",
     "text": [
      "100%|██████████| 677/677 [00:52<00:00, 12.88it/s]\n"
     ]
    },
    {
     "name": "stdout",
     "output_type": "stream",
     "text": [
      "Epoch:  0  Loss:  tensor(2626.9846, grad_fn=<MseLossBackward0>)  RMSE in test set: tensor(95.2007, grad_fn=<PowBackward0>) MAE in test set:  tensor(71.3269, grad_fn=<L1LossBackward0>)\n",
      "Time consumed is: 52.54913330078125\n"
     ]
    },
    {
     "name": "stderr",
     "output_type": "stream",
     "text": [
      "100%|██████████| 677/677 [00:51<00:00, 13.12it/s]\n"
     ]
    },
    {
     "name": "stdout",
     "output_type": "stream",
     "text": [
      "Epoch:  1  Loss:  tensor(2050.8279, grad_fn=<MseLossBackward0>)  RMSE in test set: tensor(124.4032, grad_fn=<PowBackward0>) MAE in test set:  tensor(88.3026, grad_fn=<L1LossBackward0>)\n",
      "Time consumed is: 51.60443043708801\n"
     ]
    },
    {
     "name": "stderr",
     "output_type": "stream",
     "text": [
      "100%|██████████| 677/677 [00:53<00:00, 12.77it/s]\n"
     ]
    },
    {
     "name": "stdout",
     "output_type": "stream",
     "text": [
      "Epoch:  2  Loss:  tensor(39862.2500, grad_fn=<MseLossBackward0>)  RMSE in test set: tensor(136.7737, grad_fn=<PowBackward0>) MAE in test set:  tensor(102.6846, grad_fn=<L1LossBackward0>)\n",
      "Time consumed is: 53.01623582839966\n"
     ]
    },
    {
     "name": "stderr",
     "output_type": "stream",
     "text": [
      "100%|██████████| 677/677 [00:52<00:00, 12.97it/s]\n"
     ]
    },
    {
     "name": "stdout",
     "output_type": "stream",
     "text": [
      "Epoch:  3  Loss:  tensor(19888.1035, grad_fn=<MseLossBackward0>)  RMSE in test set: tensor(136.7911, grad_fn=<PowBackward0>) MAE in test set:  tensor(100.7509, grad_fn=<L1LossBackward0>)\n",
      "Time consumed is: 52.218167543411255\n"
     ]
    },
    {
     "name": "stderr",
     "output_type": "stream",
     "text": [
      "100%|██████████| 677/677 [00:52<00:00, 12.90it/s]\n"
     ]
    },
    {
     "name": "stdout",
     "output_type": "stream",
     "text": [
      "Epoch:  4  Loss:  tensor(10115.5479, grad_fn=<MseLossBackward0>)  RMSE in test set: tensor(106.1503, grad_fn=<PowBackward0>) MAE in test set:  tensor(80.6354, grad_fn=<L1LossBackward0>)\n",
      "Time consumed is: 52.511030197143555\n"
     ]
    },
    {
     "name": "stderr",
     "output_type": "stream",
     "text": [
      "100%|██████████| 677/677 [00:52<00:00, 12.97it/s]\n"
     ]
    },
    {
     "name": "stdout",
     "output_type": "stream",
     "text": [
      "Epoch:  5  Loss:  tensor(6975.1094, grad_fn=<MseLossBackward0>)  RMSE in test set: tensor(95.2074, grad_fn=<PowBackward0>) MAE in test set:  tensor(65.7109, grad_fn=<L1LossBackward0>)\n",
      "Time consumed is: 52.21037578582764\n"
     ]
    },
    {
     "name": "stderr",
     "output_type": "stream",
     "text": [
      "100%|██████████| 677/677 [00:53<00:00, 12.73it/s]\n"
     ]
    },
    {
     "name": "stdout",
     "output_type": "stream",
     "text": [
      "Epoch:  6  Loss:  tensor(7047.3936, grad_fn=<MseLossBackward0>)  RMSE in test set: tensor(64.8852, grad_fn=<PowBackward0>) MAE in test set:  tensor(46.5285, grad_fn=<L1LossBackward0>)\n",
      "Time consumed is: 53.200400590896606\n"
     ]
    },
    {
     "name": "stderr",
     "output_type": "stream",
     "text": [
      "100%|██████████| 677/677 [00:52<00:00, 12.85it/s]\n"
     ]
    },
    {
     "name": "stdout",
     "output_type": "stream",
     "text": [
      "Epoch:  7  Loss:  tensor(2368.9148, grad_fn=<MseLossBackward0>)  RMSE in test set: tensor(55.9017, grad_fn=<PowBackward0>) MAE in test set:  tensor(42.7609, grad_fn=<L1LossBackward0>)\n",
      "Time consumed is: 52.71614980697632\n"
     ]
    },
    {
     "name": "stderr",
     "output_type": "stream",
     "text": [
      "100%|██████████| 677/677 [01:06<00:00, 10.19it/s]\n"
     ]
    },
    {
     "name": "stdout",
     "output_type": "stream",
     "text": [
      "Epoch:  8  Loss:  tensor(4366.8887, grad_fn=<MseLossBackward0>)  RMSE in test set: tensor(49.0503, grad_fn=<PowBackward0>) MAE in test set:  tensor(37.7015, grad_fn=<L1LossBackward0>)\n",
      "Time consumed is: 66.47048354148865\n"
     ]
    },
    {
     "name": "stderr",
     "output_type": "stream",
     "text": [
      "100%|██████████| 677/677 [00:58<00:00, 11.55it/s]\n"
     ]
    },
    {
     "name": "stdout",
     "output_type": "stream",
     "text": [
      "Epoch:  9  Loss:  tensor(2580.8718, grad_fn=<MseLossBackward0>)  RMSE in test set: tensor(50.1227, grad_fn=<PowBackward0>) MAE in test set:  tensor(35.6347, grad_fn=<L1LossBackward0>)\n",
      "Time consumed is: 58.60501432418823\n"
     ]
    },
    {
     "name": "stderr",
     "output_type": "stream",
     "text": [
      "100%|██████████| 677/677 [00:50<00:00, 13.29it/s]\n"
     ]
    },
    {
     "name": "stdout",
     "output_type": "stream",
     "text": [
      "Epoch:  10  Loss:  tensor(1546.3569, grad_fn=<MseLossBackward0>)  RMSE in test set: tensor(40.4088, grad_fn=<PowBackward0>) MAE in test set:  tensor(31.7070, grad_fn=<L1LossBackward0>)\n",
      "Time consumed is: 50.964842081069946\n"
     ]
    },
    {
     "name": "stderr",
     "output_type": "stream",
     "text": [
      "100%|██████████| 677/677 [00:52<00:00, 12.98it/s]\n"
     ]
    },
    {
     "name": "stdout",
     "output_type": "stream",
     "text": [
      "Epoch:  11  Loss:  tensor(1575.5956, grad_fn=<MseLossBackward0>)  RMSE in test set: tensor(47.1597, grad_fn=<PowBackward0>) MAE in test set:  tensor(35.4294, grad_fn=<L1LossBackward0>)\n",
      "Time consumed is: 52.180237770080566\n"
     ]
    },
    {
     "name": "stderr",
     "output_type": "stream",
     "text": [
      "100%|██████████| 677/677 [00:51<00:00, 13.07it/s]\n"
     ]
    },
    {
     "name": "stdout",
     "output_type": "stream",
     "text": [
      "Epoch:  12  Loss:  tensor(1964.9036, grad_fn=<MseLossBackward0>)  RMSE in test set: tensor(45.0418, grad_fn=<PowBackward0>) MAE in test set:  tensor(34.7432, grad_fn=<L1LossBackward0>)\n",
      "Time consumed is: 51.829527378082275\n"
     ]
    },
    {
     "name": "stderr",
     "output_type": "stream",
     "text": [
      "100%|██████████| 677/677 [00:51<00:00, 13.11it/s]\n"
     ]
    },
    {
     "name": "stdout",
     "output_type": "stream",
     "text": [
      "Epoch:  13  Loss:  tensor(2047.0116, grad_fn=<MseLossBackward0>)  RMSE in test set: tensor(56.6461, grad_fn=<PowBackward0>) MAE in test set:  tensor(42.4762, grad_fn=<L1LossBackward0>)\n",
      "Time consumed is: 51.670191526412964\n"
     ]
    },
    {
     "name": "stderr",
     "output_type": "stream",
     "text": [
      "100%|██████████| 677/677 [00:52<00:00, 12.99it/s]\n"
     ]
    },
    {
     "name": "stdout",
     "output_type": "stream",
     "text": [
      "Epoch:  14  Loss:  tensor(2179.6487, grad_fn=<MseLossBackward0>)  RMSE in test set: tensor(53.1576, grad_fn=<PowBackward0>) MAE in test set:  tensor(41.3649, grad_fn=<L1LossBackward0>)\n",
      "Time consumed is: 52.118176221847534\n"
     ]
    },
    {
     "name": "stderr",
     "output_type": "stream",
     "text": [
      "100%|██████████| 677/677 [00:51<00:00, 13.17it/s]\n"
     ]
    },
    {
     "name": "stdout",
     "output_type": "stream",
     "text": [
      "Epoch:  15  Loss:  tensor(2046.4208, grad_fn=<MseLossBackward0>)  RMSE in test set: tensor(76.8176, grad_fn=<PowBackward0>) MAE in test set:  tensor(56.5915, grad_fn=<L1LossBackward0>)\n",
      "Time consumed is: 51.396788120269775\n"
     ]
    },
    {
     "name": "stderr",
     "output_type": "stream",
     "text": [
      "100%|██████████| 677/677 [00:50<00:00, 13.28it/s]\n"
     ]
    },
    {
     "name": "stdout",
     "output_type": "stream",
     "text": [
      "Epoch:  16  Loss:  tensor(4560.7451, grad_fn=<MseLossBackward0>)  RMSE in test set: tensor(89.9734, grad_fn=<PowBackward0>) MAE in test set:  tensor(63.0148, grad_fn=<L1LossBackward0>)\n",
      "Time consumed is: 50.992005348205566\n"
     ]
    },
    {
     "name": "stderr",
     "output_type": "stream",
     "text": [
      "100%|██████████| 677/677 [00:52<00:00, 13.00it/s]\n"
     ]
    },
    {
     "name": "stdout",
     "output_type": "stream",
     "text": [
      "Epoch:  17  Loss:  tensor(11637.2041, grad_fn=<MseLossBackward0>)  RMSE in test set: tensor(113.0999, grad_fn=<PowBackward0>) MAE in test set:  tensor(84.4921, grad_fn=<L1LossBackward0>)\n",
      "Time consumed is: 52.107893228530884\n"
     ]
    },
    {
     "name": "stderr",
     "output_type": "stream",
     "text": [
      "100%|██████████| 677/677 [00:51<00:00, 13.13it/s]\n"
     ]
    },
    {
     "name": "stdout",
     "output_type": "stream",
     "text": [
      "Epoch:  18  Loss:  tensor(8979.9102, grad_fn=<MseLossBackward0>)  RMSE in test set: tensor(98.4747, grad_fn=<PowBackward0>) MAE in test set:  tensor(72.8064, grad_fn=<L1LossBackward0>)\n",
      "Time consumed is: 51.57786226272583\n"
     ]
    },
    {
     "name": "stderr",
     "output_type": "stream",
     "text": [
      "100%|██████████| 677/677 [00:51<00:00, 13.13it/s]\n"
     ]
    },
    {
     "name": "stdout",
     "output_type": "stream",
     "text": [
      "Epoch:  19  Loss:  tensor(9516.6709, grad_fn=<MseLossBackward0>)  RMSE in test set: tensor(89.4112, grad_fn=<PowBackward0>) MAE in test set:  tensor(72.1903, grad_fn=<L1LossBackward0>)\n",
      "Time consumed is: 51.565879821777344\n"
     ]
    },
    {
     "name": "stderr",
     "output_type": "stream",
     "text": [
      "100%|██████████| 677/677 [00:51<00:00, 13.12it/s]\n"
     ]
    },
    {
     "name": "stdout",
     "output_type": "stream",
     "text": [
      "Epoch:  20  Loss:  tensor(7109.2876, grad_fn=<MseLossBackward0>)  RMSE in test set: tensor(82.0981, grad_fn=<PowBackward0>) MAE in test set:  tensor(62.0068, grad_fn=<L1LossBackward0>)\n",
      "Time consumed is: 51.601954221725464\n"
     ]
    },
    {
     "name": "stderr",
     "output_type": "stream",
     "text": [
      "100%|██████████| 677/677 [00:54<00:00, 12.36it/s]\n"
     ]
    },
    {
     "name": "stdout",
     "output_type": "stream",
     "text": [
      "Epoch:  21  Loss:  tensor(7091.5015, grad_fn=<MseLossBackward0>)  RMSE in test set: tensor(91.2601, grad_fn=<PowBackward0>) MAE in test set:  tensor(66.3807, grad_fn=<L1LossBackward0>)\n",
      "Time consumed is: 54.786322593688965\n"
     ]
    },
    {
     "name": "stderr",
     "output_type": "stream",
     "text": [
      "100%|██████████| 677/677 [01:00<00:00, 11.15it/s]\n"
     ]
    },
    {
     "name": "stdout",
     "output_type": "stream",
     "text": [
      "Epoch:  22  Loss:  tensor(1222.0870, grad_fn=<MseLossBackward0>)  RMSE in test set: tensor(38.0064, grad_fn=<PowBackward0>) MAE in test set:  tensor(30.0716, grad_fn=<L1LossBackward0>)\n",
      "Time consumed is: 60.72169494628906\n"
     ]
    },
    {
     "name": "stderr",
     "output_type": "stream",
     "text": [
      "100%|██████████| 677/677 [00:56<00:00, 11.96it/s]\n"
     ]
    },
    {
     "name": "stdout",
     "output_type": "stream",
     "text": [
      "Epoch:  23  Loss:  tensor(1270.1202, grad_fn=<MseLossBackward0>)  RMSE in test set: tensor(25.1877, grad_fn=<PowBackward0>) MAE in test set:  tensor(18.7165, grad_fn=<L1LossBackward0>)\n",
      "Time consumed is: 56.602630853652954\n"
     ]
    },
    {
     "name": "stderr",
     "output_type": "stream",
     "text": [
      "100%|██████████| 677/677 [01:02<00:00, 10.86it/s]\n"
     ]
    },
    {
     "name": "stdout",
     "output_type": "stream",
     "text": [
      "Epoch:  24  Loss:  tensor(507.6723, grad_fn=<MseLossBackward0>)  RMSE in test set: tensor(21.7279, grad_fn=<PowBackward0>) MAE in test set:  tensor(15.8911, grad_fn=<L1LossBackward0>)\n",
      "Time consumed is: 62.3471097946167\n"
     ]
    },
    {
     "name": "stderr",
     "output_type": "stream",
     "text": [
      "100%|██████████| 677/677 [00:55<00:00, 12.13it/s]\n"
     ]
    },
    {
     "name": "stdout",
     "output_type": "stream",
     "text": [
      "Epoch:  25  Loss:  tensor(339.8434, grad_fn=<MseLossBackward0>)  RMSE in test set: tensor(25.9875, grad_fn=<PowBackward0>) MAE in test set:  tensor(19.0970, grad_fn=<L1LossBackward0>)\n",
      "Time consumed is: 55.81821656227112\n"
     ]
    },
    {
     "name": "stderr",
     "output_type": "stream",
     "text": [
      "100%|██████████| 677/677 [00:52<00:00, 12.96it/s]\n"
     ]
    },
    {
     "name": "stdout",
     "output_type": "stream",
     "text": [
      "Epoch:  26  Loss:  tensor(521.7514, grad_fn=<MseLossBackward0>)  RMSE in test set: tensor(29.1390, grad_fn=<PowBackward0>) MAE in test set:  tensor(21.2658, grad_fn=<L1LossBackward0>)\n",
      "Time consumed is: 52.23824882507324\n"
     ]
    },
    {
     "name": "stderr",
     "output_type": "stream",
     "text": [
      "100%|██████████| 677/677 [00:51<00:00, 13.19it/s]\n"
     ]
    },
    {
     "name": "stdout",
     "output_type": "stream",
     "text": [
      "Epoch:  27  Loss:  tensor(877.3467, grad_fn=<MseLossBackward0>)  RMSE in test set: tensor(30.1076, grad_fn=<PowBackward0>) MAE in test set:  tensor(22.5250, grad_fn=<L1LossBackward0>)\n",
      "Time consumed is: 51.339812994003296\n"
     ]
    },
    {
     "name": "stderr",
     "output_type": "stream",
     "text": [
      "100%|██████████| 677/677 [00:54<00:00, 12.45it/s]\n"
     ]
    },
    {
     "name": "stdout",
     "output_type": "stream",
     "text": [
      "Epoch:  28  Loss:  tensor(939.6014, grad_fn=<MseLossBackward0>)  RMSE in test set: tensor(32.7695, grad_fn=<PowBackward0>) MAE in test set:  tensor(24.7401, grad_fn=<L1LossBackward0>)\n",
      "Time consumed is: 54.39367699623108\n"
     ]
    },
    {
     "name": "stderr",
     "output_type": "stream",
     "text": [
      "100%|██████████| 677/677 [00:53<00:00, 12.69it/s]\n"
     ]
    },
    {
     "name": "stdout",
     "output_type": "stream",
     "text": [
      "Epoch:  29  Loss:  tensor(1111.1736, grad_fn=<MseLossBackward0>)  RMSE in test set: tensor(33.5924, grad_fn=<PowBackward0>) MAE in test set:  tensor(26.0280, grad_fn=<L1LossBackward0>)\n",
      "Time consumed is: 53.36581516265869\n"
     ]
    },
    {
     "name": "stderr",
     "output_type": "stream",
     "text": [
      "100%|██████████| 677/677 [00:53<00:00, 12.76it/s]\n"
     ]
    },
    {
     "name": "stdout",
     "output_type": "stream",
     "text": [
      "Epoch:  30  Loss:  tensor(943.0346, grad_fn=<MseLossBackward0>)  RMSE in test set: tensor(34.3241, grad_fn=<PowBackward0>) MAE in test set:  tensor(25.9729, grad_fn=<L1LossBackward0>)\n",
      "Time consumed is: 53.082480907440186\n"
     ]
    },
    {
     "name": "stderr",
     "output_type": "stream",
     "text": [
      "100%|██████████| 677/677 [00:51<00:00, 13.14it/s]\n"
     ]
    },
    {
     "name": "stdout",
     "output_type": "stream",
     "text": [
      "Epoch:  31  Loss:  tensor(1097.8777, grad_fn=<MseLossBackward0>)  RMSE in test set: tensor(35.6883, grad_fn=<PowBackward0>) MAE in test set:  tensor(27.6387, grad_fn=<L1LossBackward0>)\n",
      "Time consumed is: 51.53447341918945\n"
     ]
    },
    {
     "name": "stderr",
     "output_type": "stream",
     "text": [
      "100%|██████████| 677/677 [00:51<00:00, 13.20it/s]\n"
     ]
    },
    {
     "name": "stdout",
     "output_type": "stream",
     "text": [
      "Epoch:  32  Loss:  tensor(1047.3500, grad_fn=<MseLossBackward0>)  RMSE in test set: tensor(30.8347, grad_fn=<PowBackward0>) MAE in test set:  tensor(24.6690, grad_fn=<L1LossBackward0>)\n",
      "Time consumed is: 51.316874265670776\n"
     ]
    },
    {
     "name": "stderr",
     "output_type": "stream",
     "text": [
      "100%|██████████| 677/677 [00:50<00:00, 13.32it/s]\n"
     ]
    },
    {
     "name": "stdout",
     "output_type": "stream",
     "text": [
      "Epoch:  33  Loss:  tensor(922.7280, grad_fn=<MseLossBackward0>)  RMSE in test set: tensor(28.6492, grad_fn=<PowBackward0>) MAE in test set:  tensor(22.3885, grad_fn=<L1LossBackward0>)\n",
      "Time consumed is: 50.83864879608154\n"
     ]
    },
    {
     "name": "stderr",
     "output_type": "stream",
     "text": [
      "100%|██████████| 677/677 [00:51<00:00, 13.21it/s]\n"
     ]
    },
    {
     "name": "stdout",
     "output_type": "stream",
     "text": [
      "Epoch:  34  Loss:  tensor(556.3466, grad_fn=<MseLossBackward0>)  RMSE in test set: tensor(28.2632, grad_fn=<PowBackward0>) MAE in test set:  tensor(21.9583, grad_fn=<L1LossBackward0>)\n",
      "Time consumed is: 51.26324129104614\n"
     ]
    },
    {
     "name": "stderr",
     "output_type": "stream",
     "text": [
      "100%|██████████| 677/677 [00:51<00:00, 13.23it/s]\n"
     ]
    },
    {
     "name": "stdout",
     "output_type": "stream",
     "text": [
      "Epoch:  35  Loss:  tensor(1127.9286, grad_fn=<MseLossBackward0>)  RMSE in test set: tensor(24.8174, grad_fn=<PowBackward0>) MAE in test set:  tensor(19.2495, grad_fn=<L1LossBackward0>)\n",
      "Time consumed is: 51.18154859542847\n"
     ]
    },
    {
     "name": "stderr",
     "output_type": "stream",
     "text": [
      "100%|██████████| 677/677 [00:51<00:00, 13.19it/s]\n"
     ]
    },
    {
     "name": "stdout",
     "output_type": "stream",
     "text": [
      "Epoch:  36  Loss:  tensor(193.3729, grad_fn=<MseLossBackward0>)  RMSE in test set: tensor(12.9999, grad_fn=<PowBackward0>) MAE in test set:  tensor(9.7912, grad_fn=<L1LossBackward0>)\n",
      "Time consumed is: 51.35668587684631\n"
     ]
    },
    {
     "name": "stderr",
     "output_type": "stream",
     "text": [
      "100%|██████████| 677/677 [00:50<00:00, 13.30it/s]\n"
     ]
    },
    {
     "name": "stdout",
     "output_type": "stream",
     "text": [
      "Epoch:  37  Loss:  tensor(81.4739, grad_fn=<MseLossBackward0>)  RMSE in test set: tensor(8.7765, grad_fn=<PowBackward0>) MAE in test set:  tensor(6.2267, grad_fn=<L1LossBackward0>)\n",
      "Time consumed is: 50.90325212478638\n"
     ]
    },
    {
     "name": "stderr",
     "output_type": "stream",
     "text": [
      "100%|██████████| 677/677 [00:50<00:00, 13.33it/s]\n"
     ]
    },
    {
     "name": "stdout",
     "output_type": "stream",
     "text": [
      "Epoch:  38  Loss:  tensor(97.8017, grad_fn=<MseLossBackward0>)  RMSE in test set: tensor(7.9069, grad_fn=<PowBackward0>) MAE in test set:  tensor(5.3440, grad_fn=<L1LossBackward0>)\n",
      "Time consumed is: 50.7885046005249\n"
     ]
    },
    {
     "name": "stderr",
     "output_type": "stream",
     "text": [
      "100%|██████████| 677/677 [00:53<00:00, 12.76it/s]\n"
     ]
    },
    {
     "name": "stdout",
     "output_type": "stream",
     "text": [
      "Epoch:  39  Loss:  tensor(80.9668, grad_fn=<MseLossBackward0>)  RMSE in test set: tensor(10.9720, grad_fn=<PowBackward0>) MAE in test set:  tensor(8.2013, grad_fn=<L1LossBackward0>)\n",
      "Time consumed is: 53.06756067276001\n"
     ]
    },
    {
     "name": "stderr",
     "output_type": "stream",
     "text": [
      "100%|██████████| 677/677 [00:53<00:00, 12.65it/s]\n"
     ]
    },
    {
     "name": "stdout",
     "output_type": "stream",
     "text": [
      "Epoch:  40  Loss:  tensor(123.5579, grad_fn=<MseLossBackward0>)  RMSE in test set: tensor(11.8332, grad_fn=<PowBackward0>) MAE in test set:  tensor(8.9332, grad_fn=<L1LossBackward0>)\n",
      "Time consumed is: 53.51216387748718\n"
     ]
    },
    {
     "name": "stderr",
     "output_type": "stream",
     "text": [
      "100%|██████████| 677/677 [00:53<00:00, 12.73it/s]\n"
     ]
    },
    {
     "name": "stdout",
     "output_type": "stream",
     "text": [
      "Epoch:  41  Loss:  tensor(138.9041, grad_fn=<MseLossBackward0>)  RMSE in test set: tensor(13.5424, grad_fn=<PowBackward0>) MAE in test set:  tensor(10.5687, grad_fn=<L1LossBackward0>)\n",
      "Time consumed is: 53.19317436218262\n"
     ]
    },
    {
     "name": "stderr",
     "output_type": "stream",
     "text": [
      "100%|██████████| 677/677 [00:52<00:00, 12.79it/s]\n"
     ]
    },
    {
     "name": "stdout",
     "output_type": "stream",
     "text": [
      "Epoch:  42  Loss:  tensor(182.6707, grad_fn=<MseLossBackward0>)  RMSE in test set: tensor(13.0956, grad_fn=<PowBackward0>) MAE in test set:  tensor(10.1386, grad_fn=<L1LossBackward0>)\n",
      "Time consumed is: 52.94752526283264\n"
     ]
    },
    {
     "name": "stderr",
     "output_type": "stream",
     "text": [
      "100%|██████████| 677/677 [00:53<00:00, 12.77it/s]\n"
     ]
    },
    {
     "name": "stdout",
     "output_type": "stream",
     "text": [
      "Epoch:  43  Loss:  tensor(177.3089, grad_fn=<MseLossBackward0>)  RMSE in test set: tensor(13.2367, grad_fn=<PowBackward0>) MAE in test set:  tensor(10.2056, grad_fn=<L1LossBackward0>)\n",
      "Time consumed is: 53.04312229156494\n"
     ]
    },
    {
     "name": "stderr",
     "output_type": "stream",
     "text": [
      "100%|██████████| 677/677 [00:52<00:00, 12.78it/s]\n"
     ]
    },
    {
     "name": "stdout",
     "output_type": "stream",
     "text": [
      "Epoch:  44  Loss:  tensor(142.1633, grad_fn=<MseLossBackward0>)  RMSE in test set: tensor(11.6919, grad_fn=<PowBackward0>) MAE in test set:  tensor(9.1236, grad_fn=<L1LossBackward0>)\n",
      "Time consumed is: 52.97337865829468\n"
     ]
    },
    {
     "name": "stderr",
     "output_type": "stream",
     "text": [
      "100%|██████████| 677/677 [00:52<00:00, 12.80it/s]\n"
     ]
    },
    {
     "name": "stdout",
     "output_type": "stream",
     "text": [
      "Epoch:  45  Loss:  tensor(161.3368, grad_fn=<MseLossBackward0>)  RMSE in test set: tensor(11.3382, grad_fn=<PowBackward0>) MAE in test set:  tensor(8.8782, grad_fn=<L1LossBackward0>)\n",
      "Time consumed is: 52.90665006637573\n"
     ]
    },
    {
     "name": "stderr",
     "output_type": "stream",
     "text": [
      "100%|██████████| 677/677 [00:53<00:00, 12.69it/s]\n"
     ]
    },
    {
     "name": "stdout",
     "output_type": "stream",
     "text": [
      "Epoch:  46  Loss:  tensor(141.3716, grad_fn=<MseLossBackward0>)  RMSE in test set: tensor(11.9269, grad_fn=<PowBackward0>) MAE in test set:  tensor(9.4599, grad_fn=<L1LossBackward0>)\n",
      "Time consumed is: 53.38327360153198\n"
     ]
    },
    {
     "name": "stderr",
     "output_type": "stream",
     "text": [
      "100%|██████████| 677/677 [00:52<00:00, 12.78it/s]\n"
     ]
    },
    {
     "name": "stdout",
     "output_type": "stream",
     "text": [
      "Epoch:  47  Loss:  tensor(93.5181, grad_fn=<MseLossBackward0>)  RMSE in test set: tensor(12.4622, grad_fn=<PowBackward0>) MAE in test set:  tensor(9.6161, grad_fn=<L1LossBackward0>)\n",
      "Time consumed is: 53.0047492980957\n"
     ]
    },
    {
     "name": "stderr",
     "output_type": "stream",
     "text": [
      "100%|██████████| 677/677 [00:53<00:00, 12.71it/s]\n"
     ]
    },
    {
     "name": "stdout",
     "output_type": "stream",
     "text": [
      "Epoch:  48  Loss:  tensor(136.1970, grad_fn=<MseLossBackward0>)  RMSE in test set: tensor(13.3750, grad_fn=<PowBackward0>) MAE in test set:  tensor(9.9485, grad_fn=<L1LossBackward0>)\n",
      "Time consumed is: 53.265167474746704\n"
     ]
    },
    {
     "name": "stderr",
     "output_type": "stream",
     "text": [
      "100%|██████████| 677/677 [00:52<00:00, 12.78it/s]\n"
     ]
    },
    {
     "name": "stdout",
     "output_type": "stream",
     "text": [
      "Epoch:  49  Loss:  tensor(93.4971, grad_fn=<MseLossBackward0>)  RMSE in test set: tensor(10.7626, grad_fn=<PowBackward0>) MAE in test set:  tensor(8.4402, grad_fn=<L1LossBackward0>)\n",
      "Time consumed is: 52.971845626831055\n"
     ]
    },
    {
     "name": "stderr",
     "output_type": "stream",
     "text": [
      "100%|██████████| 677/677 [00:53<00:00, 12.72it/s]\n"
     ]
    },
    {
     "name": "stdout",
     "output_type": "stream",
     "text": [
      "Epoch:  50  Loss:  tensor(20.7869, grad_fn=<MseLossBackward0>)  RMSE in test set: tensor(5.7113, grad_fn=<PowBackward0>) MAE in test set:  tensor(4.3701, grad_fn=<L1LossBackward0>)\n",
      "Time consumed is: 53.24078059196472\n"
     ]
    },
    {
     "name": "stderr",
     "output_type": "stream",
     "text": [
      "100%|██████████| 677/677 [00:53<00:00, 12.77it/s]\n"
     ]
    },
    {
     "name": "stdout",
     "output_type": "stream",
     "text": [
      "Epoch:  51  Loss:  tensor(21.3175, grad_fn=<MseLossBackward0>)  RMSE in test set: tensor(3.7098, grad_fn=<PowBackward0>) MAE in test set:  tensor(2.5946, grad_fn=<L1LossBackward0>)\n",
      "Time consumed is: 53.02668809890747\n"
     ]
    },
    {
     "name": "stderr",
     "output_type": "stream",
     "text": [
      "100%|██████████| 677/677 [00:53<00:00, 12.74it/s]\n"
     ]
    },
    {
     "name": "stdout",
     "output_type": "stream",
     "text": [
      "Epoch:  52  Loss:  tensor(14.6496, grad_fn=<MseLossBackward0>)  RMSE in test set: tensor(3.6961, grad_fn=<PowBackward0>) MAE in test set:  tensor(2.6602, grad_fn=<L1LossBackward0>)\n",
      "Time consumed is: 53.1374876499176\n"
     ]
    },
    {
     "name": "stderr",
     "output_type": "stream",
     "text": [
      "100%|██████████| 677/677 [00:53<00:00, 12.71it/s]\n"
     ]
    },
    {
     "name": "stdout",
     "output_type": "stream",
     "text": [
      "Epoch:  53  Loss:  tensor(18.3747, grad_fn=<MseLossBackward0>)  RMSE in test set: tensor(4.3357, grad_fn=<PowBackward0>) MAE in test set:  tensor(3.1617, grad_fn=<L1LossBackward0>)\n",
      "Time consumed is: 53.290194511413574\n"
     ]
    },
    {
     "name": "stderr",
     "output_type": "stream",
     "text": [
      "100%|██████████| 677/677 [00:53<00:00, 12.73it/s]\n"
     ]
    },
    {
     "name": "stdout",
     "output_type": "stream",
     "text": [
      "Epoch:  54  Loss:  tensor(32.5727, grad_fn=<MseLossBackward0>)  RMSE in test set: tensor(5.7835, grad_fn=<PowBackward0>) MAE in test set:  tensor(4.4106, grad_fn=<L1LossBackward0>)\n",
      "Time consumed is: 53.18171143531799\n"
     ]
    },
    {
     "name": "stderr",
     "output_type": "stream",
     "text": [
      "100%|██████████| 677/677 [00:53<00:00, 12.75it/s]\n"
     ]
    },
    {
     "name": "stdout",
     "output_type": "stream",
     "text": [
      "Epoch:  55  Loss:  tensor(35.4743, grad_fn=<MseLossBackward0>)  RMSE in test set: tensor(6.0531, grad_fn=<PowBackward0>) MAE in test set:  tensor(4.8277, grad_fn=<L1LossBackward0>)\n",
      "Time consumed is: 53.12023425102234\n"
     ]
    },
    {
     "name": "stderr",
     "output_type": "stream",
     "text": [
      "100%|██████████| 677/677 [00:53<00:00, 12.59it/s]\n"
     ]
    },
    {
     "name": "stdout",
     "output_type": "stream",
     "text": [
      "Epoch:  56  Loss:  tensor(39.8765, grad_fn=<MseLossBackward0>)  RMSE in test set: tensor(6.3143, grad_fn=<PowBackward0>) MAE in test set:  tensor(4.8562, grad_fn=<L1LossBackward0>)\n",
      "Time consumed is: 53.797250747680664\n"
     ]
    },
    {
     "name": "stderr",
     "output_type": "stream",
     "text": [
      "100%|██████████| 677/677 [00:53<00:00, 12.57it/s]\n"
     ]
    },
    {
     "name": "stdout",
     "output_type": "stream",
     "text": [
      "Epoch:  57  Loss:  tensor(24.2379, grad_fn=<MseLossBackward0>)  RMSE in test set: tensor(6.1053, grad_fn=<PowBackward0>) MAE in test set:  tensor(4.6681, grad_fn=<L1LossBackward0>)\n",
      "Time consumed is: 53.85131883621216\n"
     ]
    },
    {
     "name": "stderr",
     "output_type": "stream",
     "text": [
      "100%|██████████| 677/677 [00:53<00:00, 12.61it/s]\n"
     ]
    },
    {
     "name": "stdout",
     "output_type": "stream",
     "text": [
      "Epoch:  58  Loss:  tensor(27.0581, grad_fn=<MseLossBackward0>)  RMSE in test set: tensor(5.4630, grad_fn=<PowBackward0>) MAE in test set:  tensor(4.2301, grad_fn=<L1LossBackward0>)\n",
      "Time consumed is: 53.68179893493652\n"
     ]
    },
    {
     "name": "stderr",
     "output_type": "stream",
     "text": [
      "100%|██████████| 677/677 [00:53<00:00, 12.72it/s]\n"
     ]
    },
    {
     "name": "stdout",
     "output_type": "stream",
     "text": [
      "Epoch:  59  Loss:  tensor(24.3699, grad_fn=<MseLossBackward0>)  RMSE in test set: tensor(5.1476, grad_fn=<PowBackward0>) MAE in test set:  tensor(4.0042, grad_fn=<L1LossBackward0>)\n",
      "Time consumed is: 53.22306275367737\n"
     ]
    },
    {
     "name": "stderr",
     "output_type": "stream",
     "text": [
      "100%|██████████| 677/677 [00:53<00:00, 12.72it/s]\n"
     ]
    },
    {
     "name": "stdout",
     "output_type": "stream",
     "text": [
      "Epoch:  60  Loss:  tensor(34.7974, grad_fn=<MseLossBackward0>)  RMSE in test set: tensor(5.0790, grad_fn=<PowBackward0>) MAE in test set:  tensor(3.8541, grad_fn=<L1LossBackward0>)\n",
      "Time consumed is: 53.2290563583374\n"
     ]
    },
    {
     "name": "stderr",
     "output_type": "stream",
     "text": [
      "100%|██████████| 677/677 [00:53<00:00, 12.73it/s]\n"
     ]
    },
    {
     "name": "stdout",
     "output_type": "stream",
     "text": [
      "Epoch:  61  Loss:  tensor(21.2012, grad_fn=<MseLossBackward0>)  RMSE in test set: tensor(5.5597, grad_fn=<PowBackward0>) MAE in test set:  tensor(4.2791, grad_fn=<L1LossBackward0>)\n",
      "Time consumed is: 53.188549518585205\n"
     ]
    },
    {
     "name": "stderr",
     "output_type": "stream",
     "text": [
      "100%|██████████| 677/677 [00:53<00:00, 12.70it/s]\n"
     ]
    },
    {
     "name": "stdout",
     "output_type": "stream",
     "text": [
      "Epoch:  62  Loss:  tensor(19.7978, grad_fn=<MseLossBackward0>)  RMSE in test set: tensor(5.5552, grad_fn=<PowBackward0>) MAE in test set:  tensor(4.2163, grad_fn=<L1LossBackward0>)\n",
      "Time consumed is: 53.33878755569458\n"
     ]
    },
    {
     "name": "stderr",
     "output_type": "stream",
     "text": [
      "100%|██████████| 677/677 [00:53<00:00, 12.71it/s]\n"
     ]
    },
    {
     "name": "stdout",
     "output_type": "stream",
     "text": [
      "Epoch:  63  Loss:  tensor(17.1821, grad_fn=<MseLossBackward0>)  RMSE in test set: tensor(5.6836, grad_fn=<PowBackward0>) MAE in test set:  tensor(4.3684, grad_fn=<L1LossBackward0>)\n",
      "Time consumed is: 53.29345202445984\n"
     ]
    },
    {
     "name": "stderr",
     "output_type": "stream",
     "text": [
      "100%|██████████| 677/677 [00:53<00:00, 12.75it/s]\n"
     ]
    },
    {
     "name": "stdout",
     "output_type": "stream",
     "text": [
      "Epoch:  64  Loss:  tensor(8.1286, grad_fn=<MseLossBackward0>)  RMSE in test set: tensor(2.7390, grad_fn=<PowBackward0>) MAE in test set:  tensor(2.1829, grad_fn=<L1LossBackward0>)\n",
      "Time consumed is: 53.11507749557495\n"
     ]
    },
    {
     "name": "stderr",
     "output_type": "stream",
     "text": [
      "100%|██████████| 677/677 [00:53<00:00, 12.74it/s]\n"
     ]
    },
    {
     "name": "stdout",
     "output_type": "stream",
     "text": [
      "Epoch:  65  Loss:  tensor(5.9766, grad_fn=<MseLossBackward0>)  RMSE in test set: tensor(1.9392, grad_fn=<PowBackward0>) MAE in test set:  tensor(1.3844, grad_fn=<L1LossBackward0>)\n",
      "Time consumed is: 53.162601709365845\n"
     ]
    },
    {
     "name": "stderr",
     "output_type": "stream",
     "text": [
      "100%|██████████| 677/677 [00:53<00:00, 12.73it/s]\n"
     ]
    },
    {
     "name": "stdout",
     "output_type": "stream",
     "text": [
      "Epoch:  66  Loss:  tensor(5.1876, grad_fn=<MseLossBackward0>)  RMSE in test set: tensor(1.9126, grad_fn=<PowBackward0>) MAE in test set:  tensor(1.3524, grad_fn=<L1LossBackward0>)\n",
      "Time consumed is: 53.17709970474243\n"
     ]
    },
    {
     "name": "stderr",
     "output_type": "stream",
     "text": [
      "100%|██████████| 677/677 [00:53<00:00, 12.70it/s]\n"
     ]
    },
    {
     "name": "stdout",
     "output_type": "stream",
     "text": [
      "Epoch:  67  Loss:  tensor(6.0425, grad_fn=<MseLossBackward0>)  RMSE in test set: tensor(2.1423, grad_fn=<PowBackward0>) MAE in test set:  tensor(1.6039, grad_fn=<L1LossBackward0>)\n",
      "Time consumed is: 53.32782578468323\n"
     ]
    },
    {
     "name": "stderr",
     "output_type": "stream",
     "text": [
      "100%|██████████| 677/677 [00:53<00:00, 12.65it/s]\n"
     ]
    },
    {
     "name": "stdout",
     "output_type": "stream",
     "text": [
      "Epoch:  68  Loss:  tensor(6.6182, grad_fn=<MseLossBackward0>)  RMSE in test set: tensor(2.8320, grad_fn=<PowBackward0>) MAE in test set:  tensor(2.0799, grad_fn=<L1LossBackward0>)\n",
      "Time consumed is: 53.510908126831055\n"
     ]
    },
    {
     "name": "stderr",
     "output_type": "stream",
     "text": [
      "100%|██████████| 677/677 [00:53<00:00, 12.68it/s]\n"
     ]
    },
    {
     "name": "stdout",
     "output_type": "stream",
     "text": [
      "Epoch:  69  Loss:  tensor(9.9891, grad_fn=<MseLossBackward0>)  RMSE in test set: tensor(3.5003, grad_fn=<PowBackward0>) MAE in test set:  tensor(2.7816, grad_fn=<L1LossBackward0>)\n",
      "Time consumed is: 53.412097692489624\n"
     ]
    },
    {
     "name": "stderr",
     "output_type": "stream",
     "text": [
      "100%|██████████| 677/677 [00:53<00:00, 12.70it/s]\n"
     ]
    },
    {
     "name": "stdout",
     "output_type": "stream",
     "text": [
      "Epoch:  70  Loss:  tensor(8.9383, grad_fn=<MseLossBackward0>)  RMSE in test set: tensor(3.3198, grad_fn=<PowBackward0>) MAE in test set:  tensor(2.5405, grad_fn=<L1LossBackward0>)\n",
      "Time consumed is: 53.302157163619995\n"
     ]
    },
    {
     "name": "stderr",
     "output_type": "stream",
     "text": [
      "100%|██████████| 677/677 [00:53<00:00, 12.58it/s]\n"
     ]
    },
    {
     "name": "stdout",
     "output_type": "stream",
     "text": [
      "Epoch:  71  Loss:  tensor(6.0186, grad_fn=<MseLossBackward0>)  RMSE in test set: tensor(3.0549, grad_fn=<PowBackward0>) MAE in test set:  tensor(2.4373, grad_fn=<L1LossBackward0>)\n",
      "Time consumed is: 53.820149421691895\n"
     ]
    },
    {
     "name": "stderr",
     "output_type": "stream",
     "text": [
      "100%|██████████| 677/677 [00:53<00:00, 12.72it/s]\n"
     ]
    },
    {
     "name": "stdout",
     "output_type": "stream",
     "text": [
      "Epoch:  72  Loss:  tensor(8.8992, grad_fn=<MseLossBackward0>)  RMSE in test set: tensor(2.7920, grad_fn=<PowBackward0>) MAE in test set:  tensor(2.1086, grad_fn=<L1LossBackward0>)\n",
      "Time consumed is: 53.219382762908936\n"
     ]
    },
    {
     "name": "stderr",
     "output_type": "stream",
     "text": [
      "100%|██████████| 677/677 [00:53<00:00, 12.62it/s]\n"
     ]
    },
    {
     "name": "stdout",
     "output_type": "stream",
     "text": [
      "Epoch:  73  Loss:  tensor(6.3264, grad_fn=<MseLossBackward0>)  RMSE in test set: tensor(2.7132, grad_fn=<PowBackward0>) MAE in test set:  tensor(2.1534, grad_fn=<L1LossBackward0>)\n",
      "Time consumed is: 53.643333196640015\n"
     ]
    },
    {
     "name": "stderr",
     "output_type": "stream",
     "text": [
      "100%|██████████| 677/677 [00:53<00:00, 12.74it/s]\n"
     ]
    },
    {
     "name": "stdout",
     "output_type": "stream",
     "text": [
      "Epoch:  74  Loss:  tensor(8.2734, grad_fn=<MseLossBackward0>)  RMSE in test set: tensor(2.6481, grad_fn=<PowBackward0>) MAE in test set:  tensor(2.0440, grad_fn=<L1LossBackward0>)\n",
      "Time consumed is: 53.13840293884277\n"
     ]
    },
    {
     "name": "stderr",
     "output_type": "stream",
     "text": [
      "100%|██████████| 677/677 [00:53<00:00, 12.57it/s]\n"
     ]
    },
    {
     "name": "stdout",
     "output_type": "stream",
     "text": [
      "Epoch:  75  Loss:  tensor(4.7503, grad_fn=<MseLossBackward0>)  RMSE in test set: tensor(3.0608, grad_fn=<PowBackward0>) MAE in test set:  tensor(2.3999, grad_fn=<L1LossBackward0>)\n",
      "Time consumed is: 53.86737322807312\n"
     ]
    },
    {
     "name": "stderr",
     "output_type": "stream",
     "text": [
      "100%|██████████| 677/677 [00:53<00:00, 12.65it/s]\n"
     ]
    },
    {
     "name": "stdout",
     "output_type": "stream",
     "text": [
      "Epoch:  76  Loss:  tensor(7.7413, grad_fn=<MseLossBackward0>)  RMSE in test set: tensor(2.7199, grad_fn=<PowBackward0>) MAE in test set:  tensor(2.0813, grad_fn=<L1LossBackward0>)\n",
      "Time consumed is: 53.51659083366394\n"
     ]
    },
    {
     "name": "stderr",
     "output_type": "stream",
     "text": [
      "100%|██████████| 677/677 [00:53<00:00, 12.71it/s]\n"
     ]
    },
    {
     "name": "stdout",
     "output_type": "stream",
     "text": [
      "Epoch:  77  Loss:  tensor(5.1842, grad_fn=<MseLossBackward0>)  RMSE in test set: tensor(2.9087, grad_fn=<PowBackward0>) MAE in test set:  tensor(2.3034, grad_fn=<L1LossBackward0>)\n",
      "Time consumed is: 53.29372763633728\n"
     ]
    },
    {
     "name": "stderr",
     "output_type": "stream",
     "text": [
      "100%|██████████| 677/677 [00:53<00:00, 12.72it/s]\n"
     ]
    },
    {
     "name": "stdout",
     "output_type": "stream",
     "text": [
      "Epoch:  78  Loss:  tensor(2.8755, grad_fn=<MseLossBackward0>)  RMSE in test set: tensor(1.6026, grad_fn=<PowBackward0>) MAE in test set:  tensor(1.2644, grad_fn=<L1LossBackward0>)\n",
      "Time consumed is: 53.25722074508667\n"
     ]
    },
    {
     "name": "stderr",
     "output_type": "stream",
     "text": [
      "100%|██████████| 677/677 [00:53<00:00, 12.59it/s]\n"
     ]
    },
    {
     "name": "stdout",
     "output_type": "stream",
     "text": [
      "Epoch:  79  Loss:  tensor(2.3916, grad_fn=<MseLossBackward0>)  RMSE in test set: tensor(1.4478, grad_fn=<PowBackward0>) MAE in test set:  tensor(1.1015, grad_fn=<L1LossBackward0>)\n",
      "Time consumed is: 53.76573371887207\n"
     ]
    },
    {
     "name": "stderr",
     "output_type": "stream",
     "text": [
      "100%|██████████| 677/677 [00:53<00:00, 12.68it/s]\n"
     ]
    },
    {
     "name": "stdout",
     "output_type": "stream",
     "text": [
      "Epoch:  80  Loss:  tensor(2.4301, grad_fn=<MseLossBackward0>)  RMSE in test set: tensor(1.4348, grad_fn=<PowBackward0>) MAE in test set:  tensor(1.0843, grad_fn=<L1LossBackward0>)\n",
      "Time consumed is: 53.38780188560486\n"
     ]
    },
    {
     "name": "stderr",
     "output_type": "stream",
     "text": [
      "100%|██████████| 677/677 [00:53<00:00, 12.64it/s]\n"
     ]
    },
    {
     "name": "stdout",
     "output_type": "stream",
     "text": [
      "Epoch:  81  Loss:  tensor(2.3906, grad_fn=<MseLossBackward0>)  RMSE in test set: tensor(1.4741, grad_fn=<PowBackward0>) MAE in test set:  tensor(1.1226, grad_fn=<L1LossBackward0>)\n",
      "Time consumed is: 53.57202196121216\n"
     ]
    },
    {
     "name": "stderr",
     "output_type": "stream",
     "text": [
      "100%|██████████| 677/677 [00:53<00:00, 12.61it/s]\n"
     ]
    },
    {
     "name": "stdout",
     "output_type": "stream",
     "text": [
      "Epoch:  82  Loss:  tensor(3.0167, grad_fn=<MseLossBackward0>)  RMSE in test set: tensor(1.7719, grad_fn=<PowBackward0>) MAE in test set:  tensor(1.3526, grad_fn=<L1LossBackward0>)\n",
      "Time consumed is: 53.689212799072266\n"
     ]
    },
    {
     "name": "stderr",
     "output_type": "stream",
     "text": [
      "100%|██████████| 677/677 [00:53<00:00, 12.65it/s]\n"
     ]
    },
    {
     "name": "stdout",
     "output_type": "stream",
     "text": [
      "Epoch:  83  Loss:  tensor(3.8591, grad_fn=<MseLossBackward0>)  RMSE in test set: tensor(1.8976, grad_fn=<PowBackward0>) MAE in test set:  tensor(1.4942, grad_fn=<L1LossBackward0>)\n",
      "Time consumed is: 53.51600742340088\n"
     ]
    },
    {
     "name": "stderr",
     "output_type": "stream",
     "text": [
      "100%|██████████| 677/677 [00:53<00:00, 12.66it/s]\n"
     ]
    },
    {
     "name": "stdout",
     "output_type": "stream",
     "text": [
      "Epoch:  84  Loss:  tensor(2.9699, grad_fn=<MseLossBackward0>)  RMSE in test set: tensor(2.0107, grad_fn=<PowBackward0>) MAE in test set:  tensor(1.5855, grad_fn=<L1LossBackward0>)\n",
      "Time consumed is: 53.48344159126282\n"
     ]
    },
    {
     "name": "stderr",
     "output_type": "stream",
     "text": [
      "100%|██████████| 677/677 [00:53<00:00, 12.60it/s]\n"
     ]
    },
    {
     "name": "stdout",
     "output_type": "stream",
     "text": [
      "Epoch:  85  Loss:  tensor(2.3836, grad_fn=<MseLossBackward0>)  RMSE in test set: tensor(1.7691, grad_fn=<PowBackward0>) MAE in test set:  tensor(1.3930, grad_fn=<L1LossBackward0>)\n",
      "Time consumed is: 53.75583815574646\n"
     ]
    },
    {
     "name": "stderr",
     "output_type": "stream",
     "text": [
      "100%|██████████| 677/677 [00:53<00:00, 12.60it/s]\n"
     ]
    },
    {
     "name": "stdout",
     "output_type": "stream",
     "text": [
      "Epoch:  86  Loss:  tensor(2.7098, grad_fn=<MseLossBackward0>)  RMSE in test set: tensor(1.7697, grad_fn=<PowBackward0>) MAE in test set:  tensor(1.3769, grad_fn=<L1LossBackward0>)\n",
      "Time consumed is: 53.74260592460632\n"
     ]
    },
    {
     "name": "stderr",
     "output_type": "stream",
     "text": [
      "100%|██████████| 677/677 [00:53<00:00, 12.58it/s]\n"
     ]
    },
    {
     "name": "stdout",
     "output_type": "stream",
     "text": [
      "Epoch:  87  Loss:  tensor(2.8536, grad_fn=<MseLossBackward0>)  RMSE in test set: tensor(1.7830, grad_fn=<PowBackward0>) MAE in test set:  tensor(1.3910, grad_fn=<L1LossBackward0>)\n",
      "Time consumed is: 53.8094961643219\n"
     ]
    },
    {
     "name": "stderr",
     "output_type": "stream",
     "text": [
      "100%|██████████| 677/677 [00:53<00:00, 12.63it/s]\n"
     ]
    },
    {
     "name": "stdout",
     "output_type": "stream",
     "text": [
      "Epoch:  88  Loss:  tensor(2.9356, grad_fn=<MseLossBackward0>)  RMSE in test set: tensor(1.7044, grad_fn=<PowBackward0>) MAE in test set:  tensor(1.3286, grad_fn=<L1LossBackward0>)\n",
      "Time consumed is: 53.62321972846985\n"
     ]
    },
    {
     "name": "stderr",
     "output_type": "stream",
     "text": [
      "100%|██████████| 677/677 [00:53<00:00, 12.56it/s]\n"
     ]
    },
    {
     "name": "stdout",
     "output_type": "stream",
     "text": [
      "Epoch:  89  Loss:  tensor(2.0663, grad_fn=<MseLossBackward0>)  RMSE in test set: tensor(1.7527, grad_fn=<PowBackward0>) MAE in test set:  tensor(1.4141, grad_fn=<L1LossBackward0>)\n",
      "Time consumed is: 53.92780327796936\n"
     ]
    },
    {
     "name": "stderr",
     "output_type": "stream",
     "text": [
      "100%|██████████| 677/677 [00:54<00:00, 12.52it/s]\n"
     ]
    },
    {
     "name": "stdout",
     "output_type": "stream",
     "text": [
      "Epoch:  90  Loss:  tensor(2.8948, grad_fn=<MseLossBackward0>)  RMSE in test set: tensor(1.7058, grad_fn=<PowBackward0>) MAE in test set:  tensor(1.3397, grad_fn=<L1LossBackward0>)\n",
      "Time consumed is: 54.0953688621521\n"
     ]
    },
    {
     "name": "stderr",
     "output_type": "stream",
     "text": [
      "100%|██████████| 677/677 [00:53<00:00, 12.54it/s]\n"
     ]
    },
    {
     "name": "stdout",
     "output_type": "stream",
     "text": [
      "Epoch:  91  Loss:  tensor(1.9859, grad_fn=<MseLossBackward0>)  RMSE in test set: tensor(1.7267, grad_fn=<PowBackward0>) MAE in test set:  tensor(1.3506, grad_fn=<L1LossBackward0>)\n",
      "Time consumed is: 53.994186878204346\n"
     ]
    },
    {
     "name": "stderr",
     "output_type": "stream",
     "text": [
      "100%|██████████| 677/677 [00:54<00:00, 12.52it/s]\n"
     ]
    },
    {
     "name": "stdout",
     "output_type": "stream",
     "text": [
      "Epoch:  92  Loss:  tensor(1.3416, grad_fn=<MseLossBackward0>)  RMSE in test set: tensor(1.2672, grad_fn=<PowBackward0>) MAE in test set:  tensor(1.0211, grad_fn=<L1LossBackward0>)\n",
      "Time consumed is: 54.084519147872925\n"
     ]
    },
    {
     "name": "stderr",
     "output_type": "stream",
     "text": [
      "100%|██████████| 677/677 [00:54<00:00, 12.52it/s]\n"
     ]
    },
    {
     "name": "stdout",
     "output_type": "stream",
     "text": [
      "Epoch:  93  Loss:  tensor(1.2884, grad_fn=<MseLossBackward0>)  RMSE in test set: tensor(1.2315, grad_fn=<PowBackward0>) MAE in test set:  tensor(0.9846, grad_fn=<L1LossBackward0>)\n",
      "Time consumed is: 54.06980228424072\n"
     ]
    },
    {
     "name": "stderr",
     "output_type": "stream",
     "text": [
      "100%|██████████| 677/677 [00:54<00:00, 12.52it/s]\n"
     ]
    },
    {
     "name": "stdout",
     "output_type": "stream",
     "text": [
      "Epoch:  94  Loss:  tensor(1.3184, grad_fn=<MseLossBackward0>)  RMSE in test set: tensor(1.2229, grad_fn=<PowBackward0>) MAE in test set:  tensor(0.9818, grad_fn=<L1LossBackward0>)\n",
      "Time consumed is: 54.09401607513428\n"
     ]
    },
    {
     "name": "stderr",
     "output_type": "stream",
     "text": [
      "100%|██████████| 677/677 [00:54<00:00, 12.53it/s]\n"
     ]
    },
    {
     "name": "stdout",
     "output_type": "stream",
     "text": [
      "Epoch:  95  Loss:  tensor(1.1604, grad_fn=<MseLossBackward0>)  RMSE in test set: tensor(1.2318, grad_fn=<PowBackward0>) MAE in test set:  tensor(0.9781, grad_fn=<L1LossBackward0>)\n",
      "Time consumed is: 54.04742693901062\n"
     ]
    },
    {
     "name": "stderr",
     "output_type": "stream",
     "text": [
      "100%|██████████| 677/677 [00:54<00:00, 12.47it/s]\n"
     ]
    },
    {
     "name": "stdout",
     "output_type": "stream",
     "text": [
      "Epoch:  96  Loss:  tensor(1.4888, grad_fn=<MseLossBackward0>)  RMSE in test set: tensor(1.3294, grad_fn=<PowBackward0>) MAE in test set:  tensor(1.0647, grad_fn=<L1LossBackward0>)\n",
      "Time consumed is: 54.28693962097168\n"
     ]
    },
    {
     "name": "stderr",
     "output_type": "stream",
     "text": [
      "100%|██████████| 677/677 [00:54<00:00, 12.53it/s]\n"
     ]
    },
    {
     "name": "stdout",
     "output_type": "stream",
     "text": [
      "Epoch:  97  Loss:  tensor(1.2494, grad_fn=<MseLossBackward0>)  RMSE in test set: tensor(1.3010, grad_fn=<PowBackward0>) MAE in test set:  tensor(1.0308, grad_fn=<L1LossBackward0>)\n",
      "Time consumed is: 54.02343773841858\n"
     ]
    },
    {
     "name": "stderr",
     "output_type": "stream",
     "text": [
      "100%|██████████| 677/677 [00:54<00:00, 12.52it/s]\n"
     ]
    },
    {
     "name": "stdout",
     "output_type": "stream",
     "text": [
      "Epoch:  98  Loss:  tensor(1.3989, grad_fn=<MseLossBackward0>)  RMSE in test set: tensor(1.3884, grad_fn=<PowBackward0>) MAE in test set:  tensor(1.1097, grad_fn=<L1LossBackward0>)\n",
      "Time consumed is: 54.09908413887024\n"
     ]
    },
    {
     "name": "stderr",
     "output_type": "stream",
     "text": [
      "100%|██████████| 677/677 [00:55<00:00, 12.22it/s]\n"
     ]
    },
    {
     "name": "stdout",
     "output_type": "stream",
     "text": [
      "Epoch:  99  Loss:  tensor(1.0969, grad_fn=<MseLossBackward0>)  RMSE in test set: tensor(1.2842, grad_fn=<PowBackward0>) MAE in test set:  tensor(1.0363, grad_fn=<L1LossBackward0>)\n",
      "Time consumed is: 55.41948938369751\n"
     ]
    },
    {
     "name": "stderr",
     "output_type": "stream",
     "text": [
      "100%|██████████| 170/170 [00:50<00:00,  3.39it/s]\n"
     ]
    },
    {
     "name": "stdout",
     "output_type": "stream",
     "text": [
      "Epoch:  0  Loss:  tensor(553.7976, grad_fn=<MseLossBackward0>)  RMSE in test set: tensor(27.1598, grad_fn=<PowBackward0>) MAE in test set:  tensor(19.6483, grad_fn=<L1LossBackward0>)\n",
      "Time consumed is: 50.1060516834259\n"
     ]
    },
    {
     "name": "stderr",
     "output_type": "stream",
     "text": [
      "100%|██████████| 170/170 [00:49<00:00,  3.45it/s]\n"
     ]
    },
    {
     "name": "stdout",
     "output_type": "stream",
     "text": [
      "Epoch:  1  Loss:  tensor(641.3615, grad_fn=<MseLossBackward0>)  RMSE in test set: tensor(35.9508, grad_fn=<PowBackward0>) MAE in test set:  tensor(27.6753, grad_fn=<L1LossBackward0>)\n",
      "Time consumed is: 49.33145308494568\n"
     ]
    },
    {
     "name": "stderr",
     "output_type": "stream",
     "text": [
      "100%|██████████| 170/170 [00:50<00:00,  3.37it/s]\n"
     ]
    },
    {
     "name": "stdout",
     "output_type": "stream",
     "text": [
      "Epoch:  2  Loss:  tensor(5046.6763, grad_fn=<MseLossBackward0>)  RMSE in test set: tensor(36.4091, grad_fn=<PowBackward0>) MAE in test set:  tensor(29.5591, grad_fn=<L1LossBackward0>)\n",
      "Time consumed is: 50.46432828903198\n"
     ]
    },
    {
     "name": "stderr",
     "output_type": "stream",
     "text": [
      "100%|██████████| 170/170 [00:49<00:00,  3.45it/s]\n"
     ]
    },
    {
     "name": "stdout",
     "output_type": "stream",
     "text": [
      "Epoch:  3  Loss:  tensor(1246.8199, grad_fn=<MseLossBackward0>)  RMSE in test set: tensor(29.3839, grad_fn=<PowBackward0>) MAE in test set:  tensor(22.2800, grad_fn=<L1LossBackward0>)\n",
      "Time consumed is: 49.31650638580322\n"
     ]
    },
    {
     "name": "stderr",
     "output_type": "stream",
     "text": [
      "100%|██████████| 170/170 [00:49<00:00,  3.41it/s]\n"
     ]
    },
    {
     "name": "stdout",
     "output_type": "stream",
     "text": [
      "Epoch:  4  Loss:  tensor(1655.9824, grad_fn=<MseLossBackward0>)  RMSE in test set: tensor(23.9831, grad_fn=<PowBackward0>) MAE in test set:  tensor(17.7965, grad_fn=<L1LossBackward0>)\n",
      "Time consumed is: 49.83265280723572\n"
     ]
    },
    {
     "name": "stderr",
     "output_type": "stream",
     "text": [
      "100%|██████████| 170/170 [00:50<00:00,  3.38it/s]\n"
     ]
    },
    {
     "name": "stdout",
     "output_type": "stream",
     "text": [
      "Epoch:  5  Loss:  tensor(407.7548, grad_fn=<MseLossBackward0>)  RMSE in test set: tensor(17.7352, grad_fn=<PowBackward0>) MAE in test set:  tensor(13.5186, grad_fn=<L1LossBackward0>)\n",
      "Time consumed is: 50.34760785102844\n"
     ]
    },
    {
     "name": "stderr",
     "output_type": "stream",
     "text": [
      "100%|██████████| 170/170 [00:50<00:00,  3.34it/s]\n"
     ]
    },
    {
     "name": "stdout",
     "output_type": "stream",
     "text": [
      "Epoch:  6  Loss:  tensor(283.3977, grad_fn=<MseLossBackward0>)  RMSE in test set: tensor(15.9698, grad_fn=<PowBackward0>) MAE in test set:  tensor(11.7227, grad_fn=<L1LossBackward0>)\n",
      "Time consumed is: 50.95146632194519\n"
     ]
    },
    {
     "name": "stderr",
     "output_type": "stream",
     "text": [
      "100%|██████████| 170/170 [00:51<00:00,  3.33it/s]\n"
     ]
    },
    {
     "name": "stdout",
     "output_type": "stream",
     "text": [
      "Epoch:  7  Loss:  tensor(177.9686, grad_fn=<MseLossBackward0>)  RMSE in test set: tensor(12.9825, grad_fn=<PowBackward0>) MAE in test set:  tensor(9.7208, grad_fn=<L1LossBackward0>)\n",
      "Time consumed is: 51.03543758392334\n"
     ]
    },
    {
     "name": "stderr",
     "output_type": "stream",
     "text": [
      "100%|██████████| 170/170 [00:51<00:00,  3.33it/s]\n"
     ]
    },
    {
     "name": "stdout",
     "output_type": "stream",
     "text": [
      "Epoch:  8  Loss:  tensor(153.4327, grad_fn=<MseLossBackward0>)  RMSE in test set: tensor(13.0937, grad_fn=<PowBackward0>) MAE in test set:  tensor(9.8294, grad_fn=<L1LossBackward0>)\n",
      "Time consumed is: 51.04536843299866\n"
     ]
    },
    {
     "name": "stderr",
     "output_type": "stream",
     "text": [
      "100%|██████████| 170/170 [00:49<00:00,  3.42it/s]\n"
     ]
    },
    {
     "name": "stdout",
     "output_type": "stream",
     "text": [
      "Epoch:  9  Loss:  tensor(172.3228, grad_fn=<MseLossBackward0>)  RMSE in test set: tensor(11.1866, grad_fn=<PowBackward0>) MAE in test set:  tensor(8.3726, grad_fn=<L1LossBackward0>)\n",
      "Time consumed is: 49.73517322540283\n"
     ]
    },
    {
     "name": "stderr",
     "output_type": "stream",
     "text": [
      "100%|██████████| 170/170 [00:50<00:00,  3.37it/s]\n"
     ]
    },
    {
     "name": "stdout",
     "output_type": "stream",
     "text": [
      "Epoch:  10  Loss:  tensor(79.0138, grad_fn=<MseLossBackward0>)  RMSE in test set: tensor(12.1356, grad_fn=<PowBackward0>) MAE in test set:  tensor(8.8536, grad_fn=<L1LossBackward0>)\n",
      "Time consumed is: 50.43369150161743\n"
     ]
    },
    {
     "name": "stderr",
     "output_type": "stream",
     "text": [
      "100%|██████████| 170/170 [00:50<00:00,  3.40it/s]\n"
     ]
    },
    {
     "name": "stdout",
     "output_type": "stream",
     "text": [
      "Epoch:  11  Loss:  tensor(262.6942, grad_fn=<MseLossBackward0>)  RMSE in test set: tensor(11.2519, grad_fn=<PowBackward0>) MAE in test set:  tensor(8.4736, grad_fn=<L1LossBackward0>)\n",
      "Time consumed is: 50.04253959655762\n"
     ]
    },
    {
     "name": "stderr",
     "output_type": "stream",
     "text": [
      "100%|██████████| 170/170 [00:51<00:00,  3.28it/s]\n"
     ]
    },
    {
     "name": "stdout",
     "output_type": "stream",
     "text": [
      "Epoch:  12  Loss:  tensor(112.4837, grad_fn=<MseLossBackward0>)  RMSE in test set: tensor(11.1421, grad_fn=<PowBackward0>) MAE in test set:  tensor(8.2204, grad_fn=<L1LossBackward0>)\n",
      "Time consumed is: 51.911078453063965\n"
     ]
    },
    {
     "name": "stderr",
     "output_type": "stream",
     "text": [
      "100%|██████████| 170/170 [00:50<00:00,  3.35it/s]\n"
     ]
    },
    {
     "name": "stdout",
     "output_type": "stream",
     "text": [
      "Epoch:  13  Loss:  tensor(70.2617, grad_fn=<MseLossBackward0>)  RMSE in test set: tensor(10.2096, grad_fn=<PowBackward0>) MAE in test set:  tensor(7.4469, grad_fn=<L1LossBackward0>)\n",
      "Time consumed is: 50.787997245788574\n"
     ]
    },
    {
     "name": "stderr",
     "output_type": "stream",
     "text": [
      "100%|██████████| 170/170 [00:50<00:00,  3.39it/s]\n"
     ]
    },
    {
     "name": "stdout",
     "output_type": "stream",
     "text": [
      "Epoch:  14  Loss:  tensor(91.5320, grad_fn=<MseLossBackward0>)  RMSE in test set: tensor(9.7871, grad_fn=<PowBackward0>) MAE in test set:  tensor(7.1765, grad_fn=<L1LossBackward0>)\n",
      "Time consumed is: 50.17743492126465\n"
     ]
    },
    {
     "name": "stderr",
     "output_type": "stream",
     "text": [
      "100%|██████████| 170/170 [00:50<00:00,  3.39it/s]\n"
     ]
    },
    {
     "name": "stdout",
     "output_type": "stream",
     "text": [
      "Epoch:  15  Loss:  tensor(53.5054, grad_fn=<MseLossBackward0>)  RMSE in test set: tensor(8.4400, grad_fn=<PowBackward0>) MAE in test set:  tensor(5.8917, grad_fn=<L1LossBackward0>)\n",
      "Time consumed is: 50.14373707771301\n"
     ]
    },
    {
     "name": "stderr",
     "output_type": "stream",
     "text": [
      "100%|██████████| 170/170 [00:54<00:00,  3.14it/s]\n"
     ]
    },
    {
     "name": "stdout",
     "output_type": "stream",
     "text": [
      "Epoch:  16  Loss:  tensor(82.1375, grad_fn=<MseLossBackward0>)  RMSE in test set: tensor(9.1190, grad_fn=<PowBackward0>) MAE in test set:  tensor(6.8180, grad_fn=<L1LossBackward0>)\n",
      "Time consumed is: 54.06396746635437\n"
     ]
    },
    {
     "name": "stderr",
     "output_type": "stream",
     "text": [
      "100%|██████████| 170/170 [01:00<00:00,  2.80it/s]\n"
     ]
    },
    {
     "name": "stdout",
     "output_type": "stream",
     "text": [
      "Epoch:  17  Loss:  tensor(86.6192, grad_fn=<MseLossBackward0>)  RMSE in test set: tensor(11.0771, grad_fn=<PowBackward0>) MAE in test set:  tensor(8.3721, grad_fn=<L1LossBackward0>)\n",
      "Time consumed is: 60.714688301086426\n"
     ]
    },
    {
     "name": "stderr",
     "output_type": "stream",
     "text": [
      "100%|██████████| 170/170 [00:51<00:00,  3.30it/s]\n"
     ]
    },
    {
     "name": "stdout",
     "output_type": "stream",
     "text": [
      "Epoch:  18  Loss:  tensor(114.7790, grad_fn=<MseLossBackward0>)  RMSE in test set: tensor(9.6226, grad_fn=<PowBackward0>) MAE in test set:  tensor(7.0406, grad_fn=<L1LossBackward0>)\n",
      "Time consumed is: 51.558664083480835\n"
     ]
    },
    {
     "name": "stderr",
     "output_type": "stream",
     "text": [
      "100%|██████████| 170/170 [00:51<00:00,  3.31it/s]\n"
     ]
    },
    {
     "name": "stdout",
     "output_type": "stream",
     "text": [
      "Epoch:  19  Loss:  tensor(118.8189, grad_fn=<MseLossBackward0>)  RMSE in test set: tensor(11.1284, grad_fn=<PowBackward0>) MAE in test set:  tensor(7.9897, grad_fn=<L1LossBackward0>)\n",
      "Time consumed is: 51.435874700546265\n"
     ]
    },
    {
     "name": "stderr",
     "output_type": "stream",
     "text": [
      "100%|██████████| 170/170 [00:49<00:00,  3.41it/s]\n"
     ]
    },
    {
     "name": "stdout",
     "output_type": "stream",
     "text": [
      "Epoch:  20  Loss:  tensor(115.4953, grad_fn=<MseLossBackward0>)  RMSE in test set: tensor(13.0332, grad_fn=<PowBackward0>) MAE in test set:  tensor(9.3347, grad_fn=<L1LossBackward0>)\n",
      "Time consumed is: 49.862651348114014\n"
     ]
    },
    {
     "name": "stderr",
     "output_type": "stream",
     "text": [
      "100%|██████████| 170/170 [00:56<00:00,  3.00it/s]\n"
     ]
    },
    {
     "name": "stdout",
     "output_type": "stream",
     "text": [
      "Epoch:  21  Loss:  tensor(89.0981, grad_fn=<MseLossBackward0>)  RMSE in test set: tensor(11.2850, grad_fn=<PowBackward0>) MAE in test set:  tensor(8.6530, grad_fn=<L1LossBackward0>)\n",
      "Time consumed is: 56.65636992454529\n"
     ]
    },
    {
     "name": "stderr",
     "output_type": "stream",
     "text": [
      "100%|██████████| 170/170 [00:56<00:00,  3.00it/s]\n"
     ]
    },
    {
     "name": "stdout",
     "output_type": "stream",
     "text": [
      "Epoch:  22  Loss:  tensor(193.1347, grad_fn=<MseLossBackward0>)  RMSE in test set: tensor(11.1888, grad_fn=<PowBackward0>) MAE in test set:  tensor(8.3699, grad_fn=<L1LossBackward0>)\n",
      "Time consumed is: 56.7376127243042\n"
     ]
    },
    {
     "name": "stderr",
     "output_type": "stream",
     "text": [
      "100%|██████████| 170/170 [00:51<00:00,  3.33it/s]\n"
     ]
    },
    {
     "name": "stdout",
     "output_type": "stream",
     "text": [
      "Epoch:  23  Loss:  tensor(127.8052, grad_fn=<MseLossBackward0>)  RMSE in test set: tensor(12.6699, grad_fn=<PowBackward0>) MAE in test set:  tensor(9.1075, grad_fn=<L1LossBackward0>)\n",
      "Time consumed is: 51.08681321144104\n"
     ]
    },
    {
     "name": "stderr",
     "output_type": "stream",
     "text": [
      "100%|██████████| 170/170 [00:52<00:00,  3.23it/s]\n"
     ]
    },
    {
     "name": "stdout",
     "output_type": "stream",
     "text": [
      "Epoch:  24  Loss:  tensor(231.8126, grad_fn=<MseLossBackward0>)  RMSE in test set: tensor(11.3946, grad_fn=<PowBackward0>) MAE in test set:  tensor(8.6038, grad_fn=<L1LossBackward0>)\n",
      "Time consumed is: 52.64979290962219\n"
     ]
    },
    {
     "name": "stderr",
     "output_type": "stream",
     "text": [
      "100%|██████████| 170/170 [00:50<00:00,  3.37it/s]\n"
     ]
    },
    {
     "name": "stdout",
     "output_type": "stream",
     "text": [
      "Epoch:  25  Loss:  tensor(174.6622, grad_fn=<MseLossBackward0>)  RMSE in test set: tensor(10.4719, grad_fn=<PowBackward0>) MAE in test set:  tensor(7.3905, grad_fn=<L1LossBackward0>)\n",
      "Time consumed is: 50.4902880191803\n"
     ]
    },
    {
     "name": "stderr",
     "output_type": "stream",
     "text": [
      "100%|██████████| 170/170 [00:52<00:00,  3.24it/s]\n"
     ]
    },
    {
     "name": "stdout",
     "output_type": "stream",
     "text": [
      "Epoch:  26  Loss:  tensor(319.3398, grad_fn=<MseLossBackward0>)  RMSE in test set: tensor(13.0113, grad_fn=<PowBackward0>) MAE in test set:  tensor(8.9508, grad_fn=<L1LossBackward0>)\n",
      "Time consumed is: 52.52281832695007\n"
     ]
    },
    {
     "name": "stderr",
     "output_type": "stream",
     "text": [
      "100%|██████████| 170/170 [00:50<00:00,  3.39it/s]\n"
     ]
    },
    {
     "name": "stdout",
     "output_type": "stream",
     "text": [
      "Epoch:  27  Loss:  tensor(72.0695, grad_fn=<MseLossBackward0>)  RMSE in test set: tensor(9.1533, grad_fn=<PowBackward0>) MAE in test set:  tensor(6.6353, grad_fn=<L1LossBackward0>)\n",
      "Time consumed is: 50.18229389190674\n"
     ]
    },
    {
     "name": "stderr",
     "output_type": "stream",
     "text": [
      "100%|██████████| 170/170 [00:51<00:00,  3.32it/s]\n"
     ]
    },
    {
     "name": "stdout",
     "output_type": "stream",
     "text": [
      "Epoch:  28  Loss:  tensor(40.3561, grad_fn=<MseLossBackward0>)  RMSE in test set: tensor(6.6649, grad_fn=<PowBackward0>) MAE in test set:  tensor(4.9411, grad_fn=<L1LossBackward0>)\n",
      "Time consumed is: 51.19663095474243\n"
     ]
    },
    {
     "name": "stderr",
     "output_type": "stream",
     "text": [
      "100%|██████████| 170/170 [00:56<00:00,  3.02it/s]\n"
     ]
    },
    {
     "name": "stdout",
     "output_type": "stream",
     "text": [
      "Epoch:  29  Loss:  tensor(29.8987, grad_fn=<MseLossBackward0>)  RMSE in test set: tensor(5.5237, grad_fn=<PowBackward0>) MAE in test set:  tensor(4.0352, grad_fn=<L1LossBackward0>)\n",
      "Time consumed is: 56.273762226104736\n"
     ]
    },
    {
     "name": "stderr",
     "output_type": "stream",
     "text": [
      "100%|██████████| 170/170 [00:55<00:00,  3.05it/s]\n"
     ]
    },
    {
     "name": "stdout",
     "output_type": "stream",
     "text": [
      "Epoch:  30  Loss:  tensor(20.5238, grad_fn=<MseLossBackward0>)  RMSE in test set: tensor(4.8950, grad_fn=<PowBackward0>) MAE in test set:  tensor(3.4563, grad_fn=<L1LossBackward0>)\n",
      "Time consumed is: 55.72468852996826\n"
     ]
    },
    {
     "name": "stderr",
     "output_type": "stream",
     "text": [
      "100%|██████████| 170/170 [00:54<00:00,  3.09it/s]\n"
     ]
    },
    {
     "name": "stdout",
     "output_type": "stream",
     "text": [
      "Epoch:  31  Loss:  tensor(13.1476, grad_fn=<MseLossBackward0>)  RMSE in test set: tensor(4.6605, grad_fn=<PowBackward0>) MAE in test set:  tensor(3.3527, grad_fn=<L1LossBackward0>)\n",
      "Time consumed is: 54.95804715156555\n"
     ]
    },
    {
     "name": "stderr",
     "output_type": "stream",
     "text": [
      "100%|██████████| 170/170 [00:51<00:00,  3.29it/s]\n"
     ]
    },
    {
     "name": "stdout",
     "output_type": "stream",
     "text": [
      "Epoch:  32  Loss:  tensor(10.7909, grad_fn=<MseLossBackward0>)  RMSE in test set: tensor(4.4203, grad_fn=<PowBackward0>) MAE in test set:  tensor(3.2038, grad_fn=<L1LossBackward0>)\n",
      "Time consumed is: 51.66938853263855\n"
     ]
    },
    {
     "name": "stderr",
     "output_type": "stream",
     "text": [
      "100%|██████████| 170/170 [00:51<00:00,  3.28it/s]\n"
     ]
    },
    {
     "name": "stdout",
     "output_type": "stream",
     "text": [
      "Epoch:  33  Loss:  tensor(11.1051, grad_fn=<MseLossBackward0>)  RMSE in test set: tensor(4.4606, grad_fn=<PowBackward0>) MAE in test set:  tensor(3.3189, grad_fn=<L1LossBackward0>)\n",
      "Time consumed is: 51.897377252578735\n"
     ]
    },
    {
     "name": "stderr",
     "output_type": "stream",
     "text": [
      "100%|██████████| 170/170 [00:50<00:00,  3.36it/s]\n"
     ]
    },
    {
     "name": "stdout",
     "output_type": "stream",
     "text": [
      "Epoch:  34  Loss:  tensor(11.2683, grad_fn=<MseLossBackward0>)  RMSE in test set: tensor(4.3650, grad_fn=<PowBackward0>) MAE in test set:  tensor(3.1888, grad_fn=<L1LossBackward0>)\n",
      "Time consumed is: 50.60954308509827\n"
     ]
    },
    {
     "name": "stderr",
     "output_type": "stream",
     "text": [
      "100%|██████████| 170/170 [00:50<00:00,  3.34it/s]\n"
     ]
    },
    {
     "name": "stdout",
     "output_type": "stream",
     "text": [
      "Epoch:  35  Loss:  tensor(12.1492, grad_fn=<MseLossBackward0>)  RMSE in test set: tensor(4.2083, grad_fn=<PowBackward0>) MAE in test set:  tensor(3.1153, grad_fn=<L1LossBackward0>)\n",
      "Time consumed is: 50.89617586135864\n"
     ]
    },
    {
     "name": "stderr",
     "output_type": "stream",
     "text": [
      "100%|██████████| 170/170 [00:51<00:00,  3.27it/s]\n"
     ]
    },
    {
     "name": "stdout",
     "output_type": "stream",
     "text": [
      "Epoch:  36  Loss:  tensor(16.7970, grad_fn=<MseLossBackward0>)  RMSE in test set: tensor(4.7922, grad_fn=<PowBackward0>) MAE in test set:  tensor(3.4659, grad_fn=<L1LossBackward0>)\n",
      "Time consumed is: 51.993733644485474\n"
     ]
    },
    {
     "name": "stderr",
     "output_type": "stream",
     "text": [
      "100%|██████████| 170/170 [00:59<00:00,  2.86it/s]\n"
     ]
    },
    {
     "name": "stdout",
     "output_type": "stream",
     "text": [
      "Epoch:  37  Loss:  tensor(17.3377, grad_fn=<MseLossBackward0>)  RMSE in test set: tensor(4.6819, grad_fn=<PowBackward0>) MAE in test set:  tensor(3.4774, grad_fn=<L1LossBackward0>)\n",
      "Time consumed is: 59.50136470794678\n"
     ]
    },
    {
     "name": "stderr",
     "output_type": "stream",
     "text": [
      "100%|██████████| 170/170 [00:50<00:00,  3.34it/s]\n"
     ]
    },
    {
     "name": "stdout",
     "output_type": "stream",
     "text": [
      "Epoch:  38  Loss:  tensor(23.5767, grad_fn=<MseLossBackward0>)  RMSE in test set: tensor(4.8656, grad_fn=<PowBackward0>) MAE in test set:  tensor(3.4714, grad_fn=<L1LossBackward0>)\n",
      "Time consumed is: 50.97026777267456\n"
     ]
    },
    {
     "name": "stderr",
     "output_type": "stream",
     "text": [
      "100%|██████████| 170/170 [00:51<00:00,  3.32it/s]\n"
     ]
    },
    {
     "name": "stdout",
     "output_type": "stream",
     "text": [
      "Epoch:  39  Loss:  tensor(28.1272, grad_fn=<MseLossBackward0>)  RMSE in test set: tensor(5.0952, grad_fn=<PowBackward0>) MAE in test set:  tensor(3.7705, grad_fn=<L1LossBackward0>)\n",
      "Time consumed is: 51.2188880443573\n"
     ]
    },
    {
     "name": "stderr",
     "output_type": "stream",
     "text": [
      "100%|██████████| 170/170 [00:50<00:00,  3.36it/s]\n"
     ]
    },
    {
     "name": "stdout",
     "output_type": "stream",
     "text": [
      "Epoch:  40  Loss:  tensor(24.0008, grad_fn=<MseLossBackward0>)  RMSE in test set: tensor(5.6284, grad_fn=<PowBackward0>) MAE in test set:  tensor(3.9956, grad_fn=<L1LossBackward0>)\n",
      "Time consumed is: 50.532819747924805\n"
     ]
    },
    {
     "name": "stderr",
     "output_type": "stream",
     "text": [
      "100%|██████████| 170/170 [00:52<00:00,  3.25it/s]\n"
     ]
    },
    {
     "name": "stdout",
     "output_type": "stream",
     "text": [
      "Epoch:  41  Loss:  tensor(44.7374, grad_fn=<MseLossBackward0>)  RMSE in test set: tensor(6.5882, grad_fn=<PowBackward0>) MAE in test set:  tensor(4.4923, grad_fn=<L1LossBackward0>)\n",
      "Time consumed is: 52.35191750526428\n"
     ]
    },
    {
     "name": "stderr",
     "output_type": "stream",
     "text": [
      "100%|██████████| 170/170 [00:51<00:00,  3.33it/s]\n"
     ]
    },
    {
     "name": "stdout",
     "output_type": "stream",
     "text": [
      "Epoch:  42  Loss:  tensor(20.3587, grad_fn=<MseLossBackward0>)  RMSE in test set: tensor(6.1965, grad_fn=<PowBackward0>) MAE in test set:  tensor(4.6366, grad_fn=<L1LossBackward0>)\n",
      "Time consumed is: 51.03134250640869\n"
     ]
    },
    {
     "name": "stderr",
     "output_type": "stream",
     "text": [
      "100%|██████████| 170/170 [00:51<00:00,  3.33it/s]\n"
     ]
    },
    {
     "name": "stdout",
     "output_type": "stream",
     "text": [
      "Epoch:  43  Loss:  tensor(28.8291, grad_fn=<MseLossBackward0>)  RMSE in test set: tensor(4.6670, grad_fn=<PowBackward0>) MAE in test set:  tensor(3.4253, grad_fn=<L1LossBackward0>)\n",
      "Time consumed is: 51.109108209609985\n"
     ]
    },
    {
     "name": "stderr",
     "output_type": "stream",
     "text": [
      "100%|██████████| 170/170 [00:50<00:00,  3.35it/s]\n"
     ]
    },
    {
     "name": "stdout",
     "output_type": "stream",
     "text": [
      "Epoch:  44  Loss:  tensor(20.3848, grad_fn=<MseLossBackward0>)  RMSE in test set: tensor(4.6582, grad_fn=<PowBackward0>) MAE in test set:  tensor(3.3130, grad_fn=<L1LossBackward0>)\n",
      "Time consumed is: 50.792173862457275\n"
     ]
    },
    {
     "name": "stderr",
     "output_type": "stream",
     "text": [
      "100%|██████████| 170/170 [00:52<00:00,  3.26it/s]\n"
     ]
    },
    {
     "name": "stdout",
     "output_type": "stream",
     "text": [
      "Epoch:  45  Loss:  tensor(16.0535, grad_fn=<MseLossBackward0>)  RMSE in test set: tensor(3.9590, grad_fn=<PowBackward0>) MAE in test set:  tensor(2.8243, grad_fn=<L1LossBackward0>)\n",
      "Time consumed is: 52.12380599975586\n"
     ]
    },
    {
     "name": "stderr",
     "output_type": "stream",
     "text": [
      "100%|██████████| 170/170 [00:51<00:00,  3.29it/s]\n"
     ]
    },
    {
     "name": "stdout",
     "output_type": "stream",
     "text": [
      "Epoch:  46  Loss:  tensor(14.5349, grad_fn=<MseLossBackward0>)  RMSE in test set: tensor(4.2617, grad_fn=<PowBackward0>) MAE in test set:  tensor(3.0923, grad_fn=<L1LossBackward0>)\n",
      "Time consumed is: 51.7276976108551\n"
     ]
    },
    {
     "name": "stderr",
     "output_type": "stream",
     "text": [
      "100%|██████████| 170/170 [00:51<00:00,  3.27it/s]\n"
     ]
    },
    {
     "name": "stdout",
     "output_type": "stream",
     "text": [
      "Epoch:  47  Loss:  tensor(10.3278, grad_fn=<MseLossBackward0>)  RMSE in test set: tensor(4.6298, grad_fn=<PowBackward0>) MAE in test set:  tensor(3.4169, grad_fn=<L1LossBackward0>)\n",
      "Time consumed is: 51.99047541618347\n"
     ]
    },
    {
     "name": "stderr",
     "output_type": "stream",
     "text": [
      "100%|██████████| 170/170 [00:51<00:00,  3.27it/s]\n"
     ]
    },
    {
     "name": "stdout",
     "output_type": "stream",
     "text": [
      "Epoch:  48  Loss:  tensor(20.9519, grad_fn=<MseLossBackward0>)  RMSE in test set: tensor(4.6558, grad_fn=<PowBackward0>) MAE in test set:  tensor(3.3696, grad_fn=<L1LossBackward0>)\n",
      "Time consumed is: 51.95182538032532\n"
     ]
    },
    {
     "name": "stderr",
     "output_type": "stream",
     "text": [
      "100%|██████████| 170/170 [00:50<00:00,  3.34it/s]\n"
     ]
    },
    {
     "name": "stdout",
     "output_type": "stream",
     "text": [
      "Epoch:  49  Loss:  tensor(18.5459, grad_fn=<MseLossBackward0>)  RMSE in test set: tensor(5.4216, grad_fn=<PowBackward0>) MAE in test set:  tensor(4.0417, grad_fn=<L1LossBackward0>)\n",
      "Time consumed is: 50.836510181427\n"
     ]
    },
    {
     "name": "stderr",
     "output_type": "stream",
     "text": [
      "100%|██████████| 170/170 [00:51<00:00,  3.27it/s]\n"
     ]
    },
    {
     "name": "stdout",
     "output_type": "stream",
     "text": [
      "Epoch:  50  Loss:  tensor(35.9578, grad_fn=<MseLossBackward0>)  RMSE in test set: tensor(5.1876, grad_fn=<PowBackward0>) MAE in test set:  tensor(3.8265, grad_fn=<L1LossBackward0>)\n",
      "Time consumed is: 51.9329833984375\n"
     ]
    },
    {
     "name": "stderr",
     "output_type": "stream",
     "text": [
      "100%|██████████| 170/170 [00:51<00:00,  3.29it/s]\n"
     ]
    },
    {
     "name": "stdout",
     "output_type": "stream",
     "text": [
      "Epoch:  51  Loss:  tensor(20.2617, grad_fn=<MseLossBackward0>)  RMSE in test set: tensor(6.5214, grad_fn=<PowBackward0>) MAE in test set:  tensor(4.4747, grad_fn=<L1LossBackward0>)\n",
      "Time consumed is: 51.63054037094116\n"
     ]
    },
    {
     "name": "stderr",
     "output_type": "stream",
     "text": [
      "100%|██████████| 170/170 [00:51<00:00,  3.31it/s]\n"
     ]
    },
    {
     "name": "stdout",
     "output_type": "stream",
     "text": [
      "Epoch:  52  Loss:  tensor(50.2690, grad_fn=<MseLossBackward0>)  RMSE in test set: tensor(6.8401, grad_fn=<PowBackward0>) MAE in test set:  tensor(5.1081, grad_fn=<L1LossBackward0>)\n",
      "Time consumed is: 51.39271402359009\n"
     ]
    },
    {
     "name": "stderr",
     "output_type": "stream",
     "text": [
      "100%|██████████| 170/170 [00:52<00:00,  3.24it/s]\n"
     ]
    },
    {
     "name": "stdout",
     "output_type": "stream",
     "text": [
      "Epoch:  53  Loss:  tensor(53.6603, grad_fn=<MseLossBackward0>)  RMSE in test set: tensor(6.3417, grad_fn=<PowBackward0>) MAE in test set:  tensor(4.8446, grad_fn=<L1LossBackward0>)\n",
      "Time consumed is: 52.40400552749634\n"
     ]
    },
    {
     "name": "stderr",
     "output_type": "stream",
     "text": [
      "100%|██████████| 170/170 [00:51<00:00,  3.27it/s]\n"
     ]
    },
    {
     "name": "stdout",
     "output_type": "stream",
     "text": [
      "Epoch:  54  Loss:  tensor(69.3723, grad_fn=<MseLossBackward0>)  RMSE in test set: tensor(5.3620, grad_fn=<PowBackward0>) MAE in test set:  tensor(3.9885, grad_fn=<L1LossBackward0>)\n",
      "Time consumed is: 51.95484519004822\n"
     ]
    },
    {
     "name": "stderr",
     "output_type": "stream",
     "text": [
      "100%|██████████| 170/170 [00:51<00:00,  3.31it/s]\n"
     ]
    },
    {
     "name": "stdout",
     "output_type": "stream",
     "text": [
      "Epoch:  55  Loss:  tensor(55.6204, grad_fn=<MseLossBackward0>)  RMSE in test set: tensor(5.5618, grad_fn=<PowBackward0>) MAE in test set:  tensor(3.9097, grad_fn=<L1LossBackward0>)\n",
      "Time consumed is: 51.39734864234924\n"
     ]
    },
    {
     "name": "stderr",
     "output_type": "stream",
     "text": [
      "100%|██████████| 170/170 [00:51<00:00,  3.31it/s]\n"
     ]
    },
    {
     "name": "stdout",
     "output_type": "stream",
     "text": [
      "Epoch:  56  Loss:  tensor(59.4044, grad_fn=<MseLossBackward0>)  RMSE in test set: tensor(5.6432, grad_fn=<PowBackward0>) MAE in test set:  tensor(4.1793, grad_fn=<L1LossBackward0>)\n",
      "Time consumed is: 51.42191958427429\n"
     ]
    },
    {
     "name": "stderr",
     "output_type": "stream",
     "text": [
      "100%|██████████| 170/170 [00:50<00:00,  3.35it/s]\n"
     ]
    },
    {
     "name": "stdout",
     "output_type": "stream",
     "text": [
      "Epoch:  57  Loss:  tensor(18.9412, grad_fn=<MseLossBackward0>)  RMSE in test set: tensor(4.6014, grad_fn=<PowBackward0>) MAE in test set:  tensor(3.5324, grad_fn=<L1LossBackward0>)\n",
      "Time consumed is: 50.764811992645264\n"
     ]
    },
    {
     "name": "stderr",
     "output_type": "stream",
     "text": [
      "100%|██████████| 170/170 [00:51<00:00,  3.30it/s]\n"
     ]
    },
    {
     "name": "stdout",
     "output_type": "stream",
     "text": [
      "Epoch:  58  Loss:  tensor(5.0385, grad_fn=<MseLossBackward0>)  RMSE in test set: tensor(3.5732, grad_fn=<PowBackward0>) MAE in test set:  tensor(2.6190, grad_fn=<L1LossBackward0>)\n",
      "Time consumed is: 51.54017758369446\n"
     ]
    },
    {
     "name": "stderr",
     "output_type": "stream",
     "text": [
      "100%|██████████| 170/170 [00:51<00:00,  3.29it/s]\n"
     ]
    },
    {
     "name": "stdout",
     "output_type": "stream",
     "text": [
      "Epoch:  59  Loss:  tensor(2.6283, grad_fn=<MseLossBackward0>)  RMSE in test set: tensor(3.1601, grad_fn=<PowBackward0>) MAE in test set:  tensor(2.2841, grad_fn=<L1LossBackward0>)\n",
      "Time consumed is: 51.73411679267883\n"
     ]
    },
    {
     "name": "stderr",
     "output_type": "stream",
     "text": [
      "100%|██████████| 170/170 [00:52<00:00,  3.25it/s]\n"
     ]
    },
    {
     "name": "stdout",
     "output_type": "stream",
     "text": [
      "Epoch:  60  Loss:  tensor(2.1971, grad_fn=<MseLossBackward0>)  RMSE in test set: tensor(2.9949, grad_fn=<PowBackward0>) MAE in test set:  tensor(2.1558, grad_fn=<L1LossBackward0>)\n",
      "Time consumed is: 52.32218599319458\n"
     ]
    },
    {
     "name": "stderr",
     "output_type": "stream",
     "text": [
      "100%|██████████| 170/170 [00:51<00:00,  3.28it/s]\n"
     ]
    },
    {
     "name": "stdout",
     "output_type": "stream",
     "text": [
      "Epoch:  61  Loss:  tensor(1.8406, grad_fn=<MseLossBackward0>)  RMSE in test set: tensor(2.9884, grad_fn=<PowBackward0>) MAE in test set:  tensor(2.1791, grad_fn=<L1LossBackward0>)\n",
      "Time consumed is: 51.77236008644104\n"
     ]
    },
    {
     "name": "stderr",
     "output_type": "stream",
     "text": [
      "100%|██████████| 170/170 [00:52<00:00,  3.26it/s]\n"
     ]
    },
    {
     "name": "stdout",
     "output_type": "stream",
     "text": [
      "Epoch:  62  Loss:  tensor(1.9221, grad_fn=<MseLossBackward0>)  RMSE in test set: tensor(2.8574, grad_fn=<PowBackward0>) MAE in test set:  tensor(2.0863, grad_fn=<L1LossBackward0>)\n",
      "Time consumed is: 52.08569073677063\n"
     ]
    },
    {
     "name": "stderr",
     "output_type": "stream",
     "text": [
      "100%|██████████| 170/170 [00:51<00:00,  3.31it/s]\n"
     ]
    },
    {
     "name": "stdout",
     "output_type": "stream",
     "text": [
      "Epoch:  63  Loss:  tensor(1.6882, grad_fn=<MseLossBackward0>)  RMSE in test set: tensor(2.8295, grad_fn=<PowBackward0>) MAE in test set:  tensor(2.1013, grad_fn=<L1LossBackward0>)\n",
      "Time consumed is: 51.322713136672974\n"
     ]
    },
    {
     "name": "stderr",
     "output_type": "stream",
     "text": [
      "100%|██████████| 170/170 [00:52<00:00,  3.26it/s]\n"
     ]
    },
    {
     "name": "stdout",
     "output_type": "stream",
     "text": [
      "Epoch:  64  Loss:  tensor(1.7644, grad_fn=<MseLossBackward0>)  RMSE in test set: tensor(2.7644, grad_fn=<PowBackward0>) MAE in test set:  tensor(2.0795, grad_fn=<L1LossBackward0>)\n",
      "Time consumed is: 52.15590476989746\n"
     ]
    },
    {
     "name": "stderr",
     "output_type": "stream",
     "text": [
      "100%|██████████| 170/170 [00:50<00:00,  3.35it/s]\n"
     ]
    },
    {
     "name": "stdout",
     "output_type": "stream",
     "text": [
      "Epoch:  65  Loss:  tensor(1.9895, grad_fn=<MseLossBackward0>)  RMSE in test set: tensor(2.6201, grad_fn=<PowBackward0>) MAE in test set:  tensor(2.0027, grad_fn=<L1LossBackward0>)\n",
      "Time consumed is: 50.71114253997803\n"
     ]
    },
    {
     "name": "stderr",
     "output_type": "stream",
     "text": [
      "100%|██████████| 170/170 [00:52<00:00,  3.21it/s]\n"
     ]
    },
    {
     "name": "stdout",
     "output_type": "stream",
     "text": [
      "Epoch:  66  Loss:  tensor(2.1443, grad_fn=<MseLossBackward0>)  RMSE in test set: tensor(2.6114, grad_fn=<PowBackward0>) MAE in test set:  tensor(1.9891, grad_fn=<L1LossBackward0>)\n",
      "Time consumed is: 52.95498323440552\n"
     ]
    },
    {
     "name": "stderr",
     "output_type": "stream",
     "text": [
      "100%|██████████| 170/170 [00:50<00:00,  3.34it/s]\n"
     ]
    },
    {
     "name": "stdout",
     "output_type": "stream",
     "text": [
      "Epoch:  67  Loss:  tensor(3.7763, grad_fn=<MseLossBackward0>)  RMSE in test set: tensor(2.4434, grad_fn=<PowBackward0>) MAE in test set:  tensor(1.8742, grad_fn=<L1LossBackward0>)\n",
      "Time consumed is: 50.96704125404358\n"
     ]
    },
    {
     "name": "stderr",
     "output_type": "stream",
     "text": [
      "100%|██████████| 170/170 [00:51<00:00,  3.28it/s]\n"
     ]
    },
    {
     "name": "stdout",
     "output_type": "stream",
     "text": [
      "Epoch:  68  Loss:  tensor(5.8003, grad_fn=<MseLossBackward0>)  RMSE in test set: tensor(2.4681, grad_fn=<PowBackward0>) MAE in test set:  tensor(1.8726, grad_fn=<L1LossBackward0>)\n",
      "Time consumed is: 51.87538194656372\n"
     ]
    },
    {
     "name": "stderr",
     "output_type": "stream",
     "text": [
      "100%|██████████| 170/170 [00:51<00:00,  3.28it/s]\n"
     ]
    },
    {
     "name": "stdout",
     "output_type": "stream",
     "text": [
      "Epoch:  69  Loss:  tensor(5.6461, grad_fn=<MseLossBackward0>)  RMSE in test set: tensor(2.7306, grad_fn=<PowBackward0>) MAE in test set:  tensor(1.9329, grad_fn=<L1LossBackward0>)\n",
      "Time consumed is: 51.90920162200928\n"
     ]
    },
    {
     "name": "stderr",
     "output_type": "stream",
     "text": [
      "100%|██████████| 170/170 [00:51<00:00,  3.30it/s]\n"
     ]
    },
    {
     "name": "stdout",
     "output_type": "stream",
     "text": [
      "Epoch:  70  Loss:  tensor(4.5333, grad_fn=<MseLossBackward0>)  RMSE in test set: tensor(2.6156, grad_fn=<PowBackward0>) MAE in test set:  tensor(1.9371, grad_fn=<L1LossBackward0>)\n",
      "Time consumed is: 51.497575521469116\n"
     ]
    },
    {
     "name": "stderr",
     "output_type": "stream",
     "text": [
      "100%|██████████| 170/170 [00:50<00:00,  3.34it/s]\n"
     ]
    },
    {
     "name": "stdout",
     "output_type": "stream",
     "text": [
      "Epoch:  71  Loss:  tensor(5.7037, grad_fn=<MseLossBackward0>)  RMSE in test set: tensor(2.4369, grad_fn=<PowBackward0>) MAE in test set:  tensor(1.7070, grad_fn=<L1LossBackward0>)\n",
      "Time consumed is: 50.84545564651489\n"
     ]
    },
    {
     "name": "stderr",
     "output_type": "stream",
     "text": [
      "100%|██████████| 170/170 [00:51<00:00,  3.33it/s]\n"
     ]
    },
    {
     "name": "stdout",
     "output_type": "stream",
     "text": [
      "Epoch:  72  Loss:  tensor(5.2092, grad_fn=<MseLossBackward0>)  RMSE in test set: tensor(2.4894, grad_fn=<PowBackward0>) MAE in test set:  tensor(1.8789, grad_fn=<L1LossBackward0>)\n",
      "Time consumed is: 51.09647846221924\n"
     ]
    },
    {
     "name": "stderr",
     "output_type": "stream",
     "text": [
      "100%|██████████| 170/170 [00:51<00:00,  3.33it/s]\n"
     ]
    },
    {
     "name": "stdout",
     "output_type": "stream",
     "text": [
      "Epoch:  73  Loss:  tensor(7.8604, grad_fn=<MseLossBackward0>)  RMSE in test set: tensor(3.0289, grad_fn=<PowBackward0>) MAE in test set:  tensor(2.3489, grad_fn=<L1LossBackward0>)\n",
      "Time consumed is: 51.0497362613678\n"
     ]
    },
    {
     "name": "stderr",
     "output_type": "stream",
     "text": [
      "100%|██████████| 170/170 [00:51<00:00,  3.27it/s]\n"
     ]
    },
    {
     "name": "stdout",
     "output_type": "stream",
     "text": [
      "Epoch:  74  Loss:  tensor(7.2795, grad_fn=<MseLossBackward0>)  RMSE in test set: tensor(2.5357, grad_fn=<PowBackward0>) MAE in test set:  tensor(1.9334, grad_fn=<L1LossBackward0>)\n",
      "Time consumed is: 51.9176242351532\n"
     ]
    },
    {
     "name": "stderr",
     "output_type": "stream",
     "text": [
      "100%|██████████| 170/170 [00:51<00:00,  3.32it/s]\n"
     ]
    },
    {
     "name": "stdout",
     "output_type": "stream",
     "text": [
      "Epoch:  75  Loss:  tensor(7.5571, grad_fn=<MseLossBackward0>)  RMSE in test set: tensor(2.1815, grad_fn=<PowBackward0>) MAE in test set:  tensor(1.5683, grad_fn=<L1LossBackward0>)\n",
      "Time consumed is: 51.19461274147034\n"
     ]
    },
    {
     "name": "stderr",
     "output_type": "stream",
     "text": [
      "100%|██████████| 170/170 [00:51<00:00,  3.28it/s]\n"
     ]
    },
    {
     "name": "stdout",
     "output_type": "stream",
     "text": [
      "Epoch:  76  Loss:  tensor(3.2792, grad_fn=<MseLossBackward0>)  RMSE in test set: tensor(2.2305, grad_fn=<PowBackward0>) MAE in test set:  tensor(1.6528, grad_fn=<L1LossBackward0>)\n",
      "Time consumed is: 51.76777958869934\n"
     ]
    },
    {
     "name": "stderr",
     "output_type": "stream",
     "text": [
      "100%|██████████| 170/170 [00:50<00:00,  3.39it/s]\n"
     ]
    },
    {
     "name": "stdout",
     "output_type": "stream",
     "text": [
      "Epoch:  77  Loss:  tensor(3.7326, grad_fn=<MseLossBackward0>)  RMSE in test set: tensor(2.8568, grad_fn=<PowBackward0>) MAE in test set:  tensor(2.3590, grad_fn=<L1LossBackward0>)\n",
      "Time consumed is: 50.10591006278992\n"
     ]
    },
    {
     "name": "stderr",
     "output_type": "stream",
     "text": [
      "100%|██████████| 170/170 [00:51<00:00,  3.28it/s]\n"
     ]
    },
    {
     "name": "stdout",
     "output_type": "stream",
     "text": [
      "Epoch:  78  Loss:  tensor(7.7276, grad_fn=<MseLossBackward0>)  RMSE in test set: tensor(2.6097, grad_fn=<PowBackward0>) MAE in test set:  tensor(1.9890, grad_fn=<L1LossBackward0>)\n",
      "Time consumed is: 51.90812420845032\n"
     ]
    },
    {
     "name": "stderr",
     "output_type": "stream",
     "text": [
      "100%|██████████| 170/170 [00:52<00:00,  3.26it/s]\n"
     ]
    },
    {
     "name": "stdout",
     "output_type": "stream",
     "text": [
      "Epoch:  79  Loss:  tensor(7.2415, grad_fn=<MseLossBackward0>)  RMSE in test set: tensor(3.1619, grad_fn=<PowBackward0>) MAE in test set:  tensor(2.4342, grad_fn=<L1LossBackward0>)\n",
      "Time consumed is: 52.08336138725281\n"
     ]
    },
    {
     "name": "stderr",
     "output_type": "stream",
     "text": [
      "100%|██████████| 170/170 [00:51<00:00,  3.29it/s]\n"
     ]
    },
    {
     "name": "stdout",
     "output_type": "stream",
     "text": [
      "Epoch:  80  Loss:  tensor(7.1279, grad_fn=<MseLossBackward0>)  RMSE in test set: tensor(2.5415, grad_fn=<PowBackward0>) MAE in test set:  tensor(1.8863, grad_fn=<L1LossBackward0>)\n",
      "Time consumed is: 51.64643669128418\n"
     ]
    },
    {
     "name": "stderr",
     "output_type": "stream",
     "text": [
      "100%|██████████| 170/170 [00:50<00:00,  3.35it/s]\n"
     ]
    },
    {
     "name": "stdout",
     "output_type": "stream",
     "text": [
      "Epoch:  81  Loss:  tensor(7.7147, grad_fn=<MseLossBackward0>)  RMSE in test set: tensor(2.9991, grad_fn=<PowBackward0>) MAE in test set:  tensor(2.1002, grad_fn=<L1LossBackward0>)\n",
      "Time consumed is: 50.757060527801514\n"
     ]
    },
    {
     "name": "stderr",
     "output_type": "stream",
     "text": [
      "100%|██████████| 170/170 [00:50<00:00,  3.35it/s]\n"
     ]
    },
    {
     "name": "stdout",
     "output_type": "stream",
     "text": [
      "Epoch:  82  Loss:  tensor(7.1928, grad_fn=<MseLossBackward0>)  RMSE in test set: tensor(2.9957, grad_fn=<PowBackward0>) MAE in test set:  tensor(2.2875, grad_fn=<L1LossBackward0>)\n",
      "Time consumed is: 50.681328535079956\n"
     ]
    },
    {
     "name": "stderr",
     "output_type": "stream",
     "text": [
      "100%|██████████| 170/170 [00:53<00:00,  3.20it/s]\n"
     ]
    },
    {
     "name": "stdout",
     "output_type": "stream",
     "text": [
      "Epoch:  83  Loss:  tensor(17.3023, grad_fn=<MseLossBackward0>)  RMSE in test set: tensor(3.7053, grad_fn=<PowBackward0>) MAE in test set:  tensor(3.0107, grad_fn=<L1LossBackward0>)\n",
      "Time consumed is: 53.14780640602112\n"
     ]
    },
    {
     "name": "stderr",
     "output_type": "stream",
     "text": [
      "100%|██████████| 170/170 [00:51<00:00,  3.32it/s]\n"
     ]
    },
    {
     "name": "stdout",
     "output_type": "stream",
     "text": [
      "Epoch:  84  Loss:  tensor(13.4303, grad_fn=<MseLossBackward0>)  RMSE in test set: tensor(3.2494, grad_fn=<PowBackward0>) MAE in test set:  tensor(2.6099, grad_fn=<L1LossBackward0>)\n",
      "Time consumed is: 51.143230676651\n"
     ]
    },
    {
     "name": "stderr",
     "output_type": "stream",
     "text": [
      "100%|██████████| 170/170 [00:51<00:00,  3.28it/s]\n"
     ]
    },
    {
     "name": "stdout",
     "output_type": "stream",
     "text": [
      "Epoch:  85  Loss:  tensor(9.4632, grad_fn=<MseLossBackward0>)  RMSE in test set: tensor(2.6951, grad_fn=<PowBackward0>) MAE in test set:  tensor(2.0645, grad_fn=<L1LossBackward0>)\n",
      "Time consumed is: 51.80010724067688\n"
     ]
    },
    {
     "name": "stderr",
     "output_type": "stream",
     "text": [
      "100%|██████████| 170/170 [00:51<00:00,  3.30it/s]\n"
     ]
    },
    {
     "name": "stdout",
     "output_type": "stream",
     "text": [
      "Epoch:  86  Loss:  tensor(3.6367, grad_fn=<MseLossBackward0>)  RMSE in test set: tensor(2.4667, grad_fn=<PowBackward0>) MAE in test set:  tensor(1.9002, grad_fn=<L1LossBackward0>)\n",
      "Time consumed is: 51.553913593292236\n"
     ]
    },
    {
     "name": "stderr",
     "output_type": "stream",
     "text": [
      "100%|██████████| 170/170 [00:51<00:00,  3.31it/s]\n"
     ]
    },
    {
     "name": "stdout",
     "output_type": "stream",
     "text": [
      "Epoch:  87  Loss:  tensor(1.6804, grad_fn=<MseLossBackward0>)  RMSE in test set: tensor(2.2235, grad_fn=<PowBackward0>) MAE in test set:  tensor(1.7700, grad_fn=<L1LossBackward0>)\n",
      "Time consumed is: 51.44219446182251\n"
     ]
    },
    {
     "name": "stderr",
     "output_type": "stream",
     "text": [
      "100%|██████████| 170/170 [00:52<00:00,  3.25it/s]\n"
     ]
    },
    {
     "name": "stdout",
     "output_type": "stream",
     "text": [
      "Epoch:  88  Loss:  tensor(1.2106, grad_fn=<MseLossBackward0>)  RMSE in test set: tensor(1.8010, grad_fn=<PowBackward0>) MAE in test set:  tensor(1.3797, grad_fn=<L1LossBackward0>)\n",
      "Time consumed is: 52.385812282562256\n"
     ]
    },
    {
     "name": "stderr",
     "output_type": "stream",
     "text": [
      "100%|██████████| 170/170 [00:52<00:00,  3.25it/s]\n"
     ]
    },
    {
     "name": "stdout",
     "output_type": "stream",
     "text": [
      "Epoch:  89  Loss:  tensor(0.7955, grad_fn=<MseLossBackward0>)  RMSE in test set: tensor(1.5829, grad_fn=<PowBackward0>) MAE in test set:  tensor(1.1963, grad_fn=<L1LossBackward0>)\n",
      "Time consumed is: 52.26780080795288\n"
     ]
    },
    {
     "name": "stderr",
     "output_type": "stream",
     "text": [
      "100%|██████████| 170/170 [00:51<00:00,  3.31it/s]\n"
     ]
    },
    {
     "name": "stdout",
     "output_type": "stream",
     "text": [
      "Epoch:  90  Loss:  tensor(0.6988, grad_fn=<MseLossBackward0>)  RMSE in test set: tensor(1.5331, grad_fn=<PowBackward0>) MAE in test set:  tensor(1.1685, grad_fn=<L1LossBackward0>)\n",
      "Time consumed is: 51.36876964569092\n"
     ]
    },
    {
     "name": "stderr",
     "output_type": "stream",
     "text": [
      "100%|██████████| 170/170 [00:52<00:00,  3.25it/s]\n"
     ]
    },
    {
     "name": "stdout",
     "output_type": "stream",
     "text": [
      "Epoch:  91  Loss:  tensor(0.6507, grad_fn=<MseLossBackward0>)  RMSE in test set: tensor(1.4997, grad_fn=<PowBackward0>) MAE in test set:  tensor(1.1529, grad_fn=<L1LossBackward0>)\n",
      "Time consumed is: 52.347169399261475\n"
     ]
    },
    {
     "name": "stderr",
     "output_type": "stream",
     "text": [
      "100%|██████████| 170/170 [00:53<00:00,  3.17it/s]\n"
     ]
    },
    {
     "name": "stdout",
     "output_type": "stream",
     "text": [
      "Epoch:  92  Loss:  tensor(0.6012, grad_fn=<MseLossBackward0>)  RMSE in test set: tensor(1.4661, grad_fn=<PowBackward0>) MAE in test set:  tensor(1.1385, grad_fn=<L1LossBackward0>)\n",
      "Time consumed is: 53.651894330978394\n"
     ]
    },
    {
     "name": "stderr",
     "output_type": "stream",
     "text": [
      "100%|██████████| 170/170 [00:51<00:00,  3.28it/s]\n"
     ]
    },
    {
     "name": "stdout",
     "output_type": "stream",
     "text": [
      "Epoch:  93  Loss:  tensor(0.5739, grad_fn=<MseLossBackward0>)  RMSE in test set: tensor(1.4567, grad_fn=<PowBackward0>) MAE in test set:  tensor(1.1389, grad_fn=<L1LossBackward0>)\n",
      "Time consumed is: 51.78361415863037\n"
     ]
    },
    {
     "name": "stderr",
     "output_type": "stream",
     "text": [
      "100%|██████████| 170/170 [00:51<00:00,  3.27it/s]\n"
     ]
    },
    {
     "name": "stdout",
     "output_type": "stream",
     "text": [
      "Epoch:  94  Loss:  tensor(0.5510, grad_fn=<MseLossBackward0>)  RMSE in test set: tensor(1.4243, grad_fn=<PowBackward0>) MAE in test set:  tensor(1.1166, grad_fn=<L1LossBackward0>)\n",
      "Time consumed is: 51.93259000778198\n"
     ]
    },
    {
     "name": "stderr",
     "output_type": "stream",
     "text": [
      "100%|██████████| 170/170 [00:53<00:00,  3.21it/s]\n"
     ]
    },
    {
     "name": "stdout",
     "output_type": "stream",
     "text": [
      "Epoch:  95  Loss:  tensor(0.5473, grad_fn=<MseLossBackward0>)  RMSE in test set: tensor(1.4109, grad_fn=<PowBackward0>) MAE in test set:  tensor(1.1073, grad_fn=<L1LossBackward0>)\n",
      "Time consumed is: 53.04795050621033\n"
     ]
    },
    {
     "name": "stderr",
     "output_type": "stream",
     "text": [
      "100%|██████████| 170/170 [00:51<00:00,  3.28it/s]\n"
     ]
    },
    {
     "name": "stdout",
     "output_type": "stream",
     "text": [
      "Epoch:  96  Loss:  tensor(0.5507, grad_fn=<MseLossBackward0>)  RMSE in test set: tensor(1.3524, grad_fn=<PowBackward0>) MAE in test set:  tensor(1.0596, grad_fn=<L1LossBackward0>)\n",
      "Time consumed is: 51.83499550819397\n"
     ]
    },
    {
     "name": "stderr",
     "output_type": "stream",
     "text": [
      "100%|██████████| 170/170 [00:52<00:00,  3.26it/s]\n"
     ]
    },
    {
     "name": "stdout",
     "output_type": "stream",
     "text": [
      "Epoch:  97  Loss:  tensor(0.5622, grad_fn=<MseLossBackward0>)  RMSE in test set: tensor(1.3551, grad_fn=<PowBackward0>) MAE in test set:  tensor(1.0456, grad_fn=<L1LossBackward0>)\n",
      "Time consumed is: 52.208786964416504\n"
     ]
    },
    {
     "name": "stderr",
     "output_type": "stream",
     "text": [
      "100%|██████████| 170/170 [00:52<00:00,  3.21it/s]\n"
     ]
    },
    {
     "name": "stdout",
     "output_type": "stream",
     "text": [
      "Epoch:  98  Loss:  tensor(0.7912, grad_fn=<MseLossBackward0>)  RMSE in test set: tensor(1.3070, grad_fn=<PowBackward0>) MAE in test set:  tensor(1.0047, grad_fn=<L1LossBackward0>)\n",
      "Time consumed is: 52.90108561515808\n"
     ]
    },
    {
     "name": "stderr",
     "output_type": "stream",
     "text": [
      "100%|██████████| 170/170 [00:51<00:00,  3.27it/s]\n"
     ]
    },
    {
     "name": "stdout",
     "output_type": "stream",
     "text": [
      "Epoch:  99  Loss:  tensor(0.8712, grad_fn=<MseLossBackward0>)  RMSE in test set: tensor(1.3066, grad_fn=<PowBackward0>) MAE in test set:  tensor(0.9787, grad_fn=<L1LossBackward0>)\n",
      "Time consumed is: 51.97543525695801\n"
     ]
    },
    {
     "name": "stderr",
     "output_type": "stream",
     "text": [
      "100%|██████████| 677/677 [00:55<00:00, 12.18it/s]\n"
     ]
    },
    {
     "name": "stdout",
     "output_type": "stream",
     "text": [
      "Epoch:  0  Loss:  tensor(1252.2247, grad_fn=<MseLossBackward0>)  RMSE in test set: tensor(87.7206, grad_fn=<PowBackward0>) MAE in test set:  tensor(66.3624, grad_fn=<L1LossBackward0>)\n",
      "Time consumed is: 55.60319471359253\n"
     ]
    },
    {
     "name": "stderr",
     "output_type": "stream",
     "text": [
      "100%|██████████| 677/677 [00:52<00:00, 12.81it/s]\n"
     ]
    },
    {
     "name": "stdout",
     "output_type": "stream",
     "text": [
      "Epoch:  1  Loss:  tensor(4331.6284, grad_fn=<MseLossBackward0>)  RMSE in test set: tensor(143.1078, grad_fn=<PowBackward0>) MAE in test set:  tensor(104.6646, grad_fn=<L1LossBackward0>)\n",
      "Time consumed is: 52.84116315841675\n"
     ]
    },
    {
     "name": "stderr",
     "output_type": "stream",
     "text": [
      "100%|██████████| 677/677 [00:56<00:00, 11.99it/s]\n"
     ]
    },
    {
     "name": "stdout",
     "output_type": "stream",
     "text": [
      "Epoch:  2  Loss:  tensor(25770.9688, grad_fn=<MseLossBackward0>)  RMSE in test set: tensor(173.2059, grad_fn=<PowBackward0>) MAE in test set:  tensor(127.3631, grad_fn=<L1LossBackward0>)\n",
      "Time consumed is: 56.45515012741089\n"
     ]
    },
    {
     "name": "stderr",
     "output_type": "stream",
     "text": [
      "100%|██████████| 677/677 [00:54<00:00, 12.38it/s]\n"
     ]
    },
    {
     "name": "stdout",
     "output_type": "stream",
     "text": [
      "Epoch:  3  Loss:  tensor(27394.4043, grad_fn=<MseLossBackward0>)  RMSE in test set: tensor(136.4203, grad_fn=<PowBackward0>) MAE in test set:  tensor(100.1932, grad_fn=<L1LossBackward0>)\n",
      "Time consumed is: 54.693273067474365\n"
     ]
    },
    {
     "name": "stderr",
     "output_type": "stream",
     "text": [
      "100%|██████████| 677/677 [00:55<00:00, 12.23it/s]\n"
     ]
    },
    {
     "name": "stdout",
     "output_type": "stream",
     "text": [
      "Epoch:  4  Loss:  tensor(22276.8340, grad_fn=<MseLossBackward0>)  RMSE in test set: tensor(85.1186, grad_fn=<PowBackward0>) MAE in test set:  tensor(64.7807, grad_fn=<L1LossBackward0>)\n",
      "Time consumed is: 55.36744499206543\n"
     ]
    },
    {
     "name": "stderr",
     "output_type": "stream",
     "text": [
      "100%|██████████| 677/677 [00:54<00:00, 12.39it/s]\n"
     ]
    },
    {
     "name": "stdout",
     "output_type": "stream",
     "text": [
      "Epoch:  5  Loss:  tensor(14056.9883, grad_fn=<MseLossBackward0>)  RMSE in test set: tensor(83.7882, grad_fn=<PowBackward0>) MAE in test set:  tensor(62.0550, grad_fn=<L1LossBackward0>)\n",
      "Time consumed is: 54.64193677902222\n"
     ]
    },
    {
     "name": "stderr",
     "output_type": "stream",
     "text": [
      "100%|██████████| 677/677 [00:56<00:00, 12.01it/s]\n"
     ]
    },
    {
     "name": "stdout",
     "output_type": "stream",
     "text": [
      "Epoch:  6  Loss:  tensor(4429.9224, grad_fn=<MseLossBackward0>)  RMSE in test set: tensor(80.3706, grad_fn=<PowBackward0>) MAE in test set:  tensor(57.3978, grad_fn=<L1LossBackward0>)\n",
      "Time consumed is: 56.35707473754883\n"
     ]
    },
    {
     "name": "stderr",
     "output_type": "stream",
     "text": [
      "100%|██████████| 677/677 [00:54<00:00, 12.44it/s]\n"
     ]
    },
    {
     "name": "stdout",
     "output_type": "stream",
     "text": [
      "Epoch:  7  Loss:  tensor(4067.5852, grad_fn=<MseLossBackward0>)  RMSE in test set: tensor(66.6036, grad_fn=<PowBackward0>) MAE in test set:  tensor(50.8746, grad_fn=<L1LossBackward0>)\n",
      "Time consumed is: 54.43340086936951\n"
     ]
    },
    {
     "name": "stderr",
     "output_type": "stream",
     "text": [
      "100%|██████████| 677/677 [00:55<00:00, 12.12it/s]\n"
     ]
    },
    {
     "name": "stdout",
     "output_type": "stream",
     "text": [
      "Epoch:  8  Loss:  tensor(3739.3552, grad_fn=<MseLossBackward0>)  RMSE in test set: tensor(55.2687, grad_fn=<PowBackward0>) MAE in test set:  tensor(41.8659, grad_fn=<L1LossBackward0>)\n",
      "Time consumed is: 55.86502289772034\n"
     ]
    },
    {
     "name": "stderr",
     "output_type": "stream",
     "text": [
      "100%|██████████| 677/677 [00:55<00:00, 12.22it/s]\n"
     ]
    },
    {
     "name": "stdout",
     "output_type": "stream",
     "text": [
      "Epoch:  9  Loss:  tensor(2018.5793, grad_fn=<MseLossBackward0>)  RMSE in test set: tensor(48.3454, grad_fn=<PowBackward0>) MAE in test set:  tensor(37.8876, grad_fn=<L1LossBackward0>)\n",
      "Time consumed is: 55.41730976104736\n"
     ]
    },
    {
     "name": "stderr",
     "output_type": "stream",
     "text": [
      "100%|██████████| 677/677 [00:54<00:00, 12.38it/s]\n"
     ]
    },
    {
     "name": "stdout",
     "output_type": "stream",
     "text": [
      "Epoch:  10  Loss:  tensor(1452.7190, grad_fn=<MseLossBackward0>)  RMSE in test set: tensor(46.2600, grad_fn=<PowBackward0>) MAE in test set:  tensor(33.6289, grad_fn=<L1LossBackward0>)\n",
      "Time consumed is: 54.69414401054382\n"
     ]
    },
    {
     "name": "stderr",
     "output_type": "stream",
     "text": [
      "100%|██████████| 677/677 [00:54<00:00, 12.33it/s]\n"
     ]
    },
    {
     "name": "stdout",
     "output_type": "stream",
     "text": [
      "Epoch:  11  Loss:  tensor(2823.0867, grad_fn=<MseLossBackward0>)  RMSE in test set: tensor(53.3561, grad_fn=<PowBackward0>) MAE in test set:  tensor(37.3274, grad_fn=<L1LossBackward0>)\n",
      "Time consumed is: 54.931246519088745\n"
     ]
    },
    {
     "name": "stderr",
     "output_type": "stream",
     "text": [
      "100%|██████████| 677/677 [00:56<00:00, 12.01it/s]\n"
     ]
    },
    {
     "name": "stdout",
     "output_type": "stream",
     "text": [
      "Epoch:  12  Loss:  tensor(2100.4465, grad_fn=<MseLossBackward0>)  RMSE in test set: tensor(52.4013, grad_fn=<PowBackward0>) MAE in test set:  tensor(39.9588, grad_fn=<L1LossBackward0>)\n",
      "Time consumed is: 56.38417935371399\n"
     ]
    },
    {
     "name": "stderr",
     "output_type": "stream",
     "text": [
      "100%|██████████| 677/677 [00:54<00:00, 12.36it/s]\n"
     ]
    },
    {
     "name": "stdout",
     "output_type": "stream",
     "text": [
      "Epoch:  13  Loss:  tensor(2790.6516, grad_fn=<MseLossBackward0>)  RMSE in test set: tensor(54.8566, grad_fn=<PowBackward0>) MAE in test set:  tensor(42.0827, grad_fn=<L1LossBackward0>)\n",
      "Time consumed is: 54.77166390419006\n"
     ]
    },
    {
     "name": "stderr",
     "output_type": "stream",
     "text": [
      "100%|██████████| 677/677 [00:56<00:00, 12.05it/s]\n"
     ]
    },
    {
     "name": "stdout",
     "output_type": "stream",
     "text": [
      "Epoch:  14  Loss:  tensor(5145.5015, grad_fn=<MseLossBackward0>)  RMSE in test set: tensor(63.5711, grad_fn=<PowBackward0>) MAE in test set:  tensor(46.4739, grad_fn=<L1LossBackward0>)\n",
      "Time consumed is: 56.17919039726257\n"
     ]
    },
    {
     "name": "stderr",
     "output_type": "stream",
     "text": [
      "100%|██████████| 677/677 [00:54<00:00, 12.34it/s]\n"
     ]
    },
    {
     "name": "stdout",
     "output_type": "stream",
     "text": [
      "Epoch:  15  Loss:  tensor(5450.6035, grad_fn=<MseLossBackward0>)  RMSE in test set: tensor(80.8623, grad_fn=<PowBackward0>) MAE in test set:  tensor(58.1861, grad_fn=<L1LossBackward0>)\n",
      "Time consumed is: 54.85937261581421\n"
     ]
    },
    {
     "name": "stderr",
     "output_type": "stream",
     "text": [
      "100%|██████████| 677/677 [00:56<00:00, 11.95it/s]\n"
     ]
    },
    {
     "name": "stdout",
     "output_type": "stream",
     "text": [
      "Epoch:  16  Loss:  tensor(8294.6396, grad_fn=<MseLossBackward0>)  RMSE in test set: tensor(78.2073, grad_fn=<PowBackward0>) MAE in test set:  tensor(57.0648, grad_fn=<L1LossBackward0>)\n",
      "Time consumed is: 56.67846441268921\n"
     ]
    },
    {
     "name": "stderr",
     "output_type": "stream",
     "text": [
      "100%|██████████| 677/677 [00:53<00:00, 12.54it/s]\n"
     ]
    },
    {
     "name": "stdout",
     "output_type": "stream",
     "text": [
      "Epoch:  17  Loss:  tensor(3507.4307, grad_fn=<MseLossBackward0>)  RMSE in test set: tensor(80.7252, grad_fn=<PowBackward0>) MAE in test set:  tensor(60.9602, grad_fn=<L1LossBackward0>)\n",
      "Time consumed is: 53.997090101242065\n"
     ]
    },
    {
     "name": "stderr",
     "output_type": "stream",
     "text": [
      "100%|██████████| 677/677 [00:56<00:00, 12.07it/s]\n"
     ]
    },
    {
     "name": "stdout",
     "output_type": "stream",
     "text": [
      "Epoch:  18  Loss:  tensor(9237.2051, grad_fn=<MseLossBackward0>)  RMSE in test set: tensor(95.2671, grad_fn=<PowBackward0>) MAE in test set:  tensor(70.8304, grad_fn=<L1LossBackward0>)\n",
      "Time consumed is: 56.09157705307007\n"
     ]
    },
    {
     "name": "stderr",
     "output_type": "stream",
     "text": [
      "100%|██████████| 677/677 [00:56<00:00, 12.03it/s]\n"
     ]
    },
    {
     "name": "stdout",
     "output_type": "stream",
     "text": [
      "Epoch:  19  Loss:  tensor(8389.6211, grad_fn=<MseLossBackward0>)  RMSE in test set: tensor(92.9218, grad_fn=<PowBackward0>) MAE in test set:  tensor(72.0634, grad_fn=<L1LossBackward0>)\n",
      "Time consumed is: 56.25996375083923\n"
     ]
    },
    {
     "name": "stderr",
     "output_type": "stream",
     "text": [
      "100%|██████████| 677/677 [00:55<00:00, 12.28it/s]\n"
     ]
    },
    {
     "name": "stdout",
     "output_type": "stream",
     "text": [
      "Epoch:  20  Loss:  tensor(6516.1699, grad_fn=<MseLossBackward0>)  RMSE in test set: tensor(82.6169, grad_fn=<PowBackward0>) MAE in test set:  tensor(61.7164, grad_fn=<L1LossBackward0>)\n",
      "Time consumed is: 55.15781378746033\n"
     ]
    },
    {
     "name": "stderr",
     "output_type": "stream",
     "text": [
      "100%|██████████| 677/677 [00:54<00:00, 12.42it/s]\n"
     ]
    },
    {
     "name": "stdout",
     "output_type": "stream",
     "text": [
      "Epoch:  21  Loss:  tensor(5351.2451, grad_fn=<MseLossBackward0>)  RMSE in test set: tensor(69.4640, grad_fn=<PowBackward0>) MAE in test set:  tensor(55.9096, grad_fn=<L1LossBackward0>)\n",
      "Time consumed is: 54.526710748672485\n"
     ]
    },
    {
     "name": "stderr",
     "output_type": "stream",
     "text": [
      "100%|██████████| 677/677 [00:55<00:00, 12.10it/s]\n"
     ]
    },
    {
     "name": "stdout",
     "output_type": "stream",
     "text": [
      "Epoch:  22  Loss:  tensor(1226.4288, grad_fn=<MseLossBackward0>)  RMSE in test set: tensor(39.3223, grad_fn=<PowBackward0>) MAE in test set:  tensor(30.4044, grad_fn=<L1LossBackward0>)\n",
      "Time consumed is: 55.97703242301941\n"
     ]
    },
    {
     "name": "stderr",
     "output_type": "stream",
     "text": [
      "100%|██████████| 677/677 [00:55<00:00, 12.13it/s]\n"
     ]
    },
    {
     "name": "stdout",
     "output_type": "stream",
     "text": [
      "Epoch:  23  Loss:  tensor(913.1483, grad_fn=<MseLossBackward0>)  RMSE in test set: tensor(30.7884, grad_fn=<PowBackward0>) MAE in test set:  tensor(20.0366, grad_fn=<L1LossBackward0>)\n",
      "Time consumed is: 55.83295774459839\n"
     ]
    },
    {
     "name": "stderr",
     "output_type": "stream",
     "text": [
      "100%|██████████| 677/677 [00:56<00:00, 11.98it/s]\n"
     ]
    },
    {
     "name": "stdout",
     "output_type": "stream",
     "text": [
      "Epoch:  24  Loss:  tensor(391.4595, grad_fn=<MseLossBackward0>)  RMSE in test set: tensor(20.8866, grad_fn=<PowBackward0>) MAE in test set:  tensor(15.1718, grad_fn=<L1LossBackward0>)\n",
      "Time consumed is: 56.49858236312866\n"
     ]
    },
    {
     "name": "stderr",
     "output_type": "stream",
     "text": [
      "100%|██████████| 677/677 [00:55<00:00, 12.24it/s]\n"
     ]
    },
    {
     "name": "stdout",
     "output_type": "stream",
     "text": [
      "Epoch:  25  Loss:  tensor(1023.5227, grad_fn=<MseLossBackward0>)  RMSE in test set: tensor(26.8172, grad_fn=<PowBackward0>) MAE in test set:  tensor(18.9810, grad_fn=<L1LossBackward0>)\n",
      "Time consumed is: 55.30316686630249\n"
     ]
    },
    {
     "name": "stderr",
     "output_type": "stream",
     "text": [
      "100%|██████████| 677/677 [00:55<00:00, 12.20it/s]\n"
     ]
    },
    {
     "name": "stdout",
     "output_type": "stream",
     "text": [
      "Epoch:  26  Loss:  tensor(889.8899, grad_fn=<MseLossBackward0>)  RMSE in test set: tensor(27.0230, grad_fn=<PowBackward0>) MAE in test set:  tensor(20.7682, grad_fn=<L1LossBackward0>)\n",
      "Time consumed is: 55.49680471420288\n"
     ]
    },
    {
     "name": "stderr",
     "output_type": "stream",
     "text": [
      "100%|██████████| 677/677 [00:54<00:00, 12.34it/s]\n"
     ]
    },
    {
     "name": "stdout",
     "output_type": "stream",
     "text": [
      "Epoch:  27  Loss:  tensor(881.1607, grad_fn=<MseLossBackward0>)  RMSE in test set: tensor(28.6391, grad_fn=<PowBackward0>) MAE in test set:  tensor(21.9070, grad_fn=<L1LossBackward0>)\n",
      "Time consumed is: 54.85002374649048\n"
     ]
    },
    {
     "name": "stderr",
     "output_type": "stream",
     "text": [
      "100%|██████████| 677/677 [00:56<00:00, 12.03it/s]\n"
     ]
    },
    {
     "name": "stdout",
     "output_type": "stream",
     "text": [
      "Epoch:  28  Loss:  tensor(643.5818, grad_fn=<MseLossBackward0>)  RMSE in test set: tensor(31.5559, grad_fn=<PowBackward0>) MAE in test set:  tensor(24.2253, grad_fn=<L1LossBackward0>)\n",
      "Time consumed is: 56.27134442329407\n"
     ]
    },
    {
     "name": "stderr",
     "output_type": "stream",
     "text": [
      "100%|██████████| 677/677 [00:54<00:00, 12.38it/s]\n"
     ]
    },
    {
     "name": "stdout",
     "output_type": "stream",
     "text": [
      "Epoch:  29  Loss:  tensor(670.1642, grad_fn=<MseLossBackward0>)  RMSE in test set: tensor(27.5402, grad_fn=<PowBackward0>) MAE in test set:  tensor(21.6567, grad_fn=<L1LossBackward0>)\n",
      "Time consumed is: 54.68158149719238\n"
     ]
    },
    {
     "name": "stderr",
     "output_type": "stream",
     "text": [
      "100%|██████████| 677/677 [00:56<00:00, 12.00it/s]\n"
     ]
    },
    {
     "name": "stdout",
     "output_type": "stream",
     "text": [
      "Epoch:  30  Loss:  tensor(758.5104, grad_fn=<MseLossBackward0>)  RMSE in test set: tensor(25.5681, grad_fn=<PowBackward0>) MAE in test set:  tensor(19.8699, grad_fn=<L1LossBackward0>)\n",
      "Time consumed is: 56.423168659210205\n"
     ]
    },
    {
     "name": "stderr",
     "output_type": "stream",
     "text": [
      "100%|██████████| 677/677 [00:57<00:00, 11.70it/s]\n"
     ]
    },
    {
     "name": "stdout",
     "output_type": "stream",
     "text": [
      "Epoch:  31  Loss:  tensor(715.4693, grad_fn=<MseLossBackward0>)  RMSE in test set: tensor(26.7135, grad_fn=<PowBackward0>) MAE in test set:  tensor(20.7303, grad_fn=<L1LossBackward0>)\n",
      "Time consumed is: 57.85903453826904\n"
     ]
    },
    {
     "name": "stderr",
     "output_type": "stream",
     "text": [
      "100%|██████████| 677/677 [00:56<00:00, 12.07it/s]\n"
     ]
    },
    {
     "name": "stdout",
     "output_type": "stream",
     "text": [
      "Epoch:  32  Loss:  tensor(1039.5433, grad_fn=<MseLossBackward0>)  RMSE in test set: tensor(28.1262, grad_fn=<PowBackward0>) MAE in test set:  tensor(21.3675, grad_fn=<L1LossBackward0>)\n",
      "Time consumed is: 56.09103274345398\n"
     ]
    },
    {
     "name": "stderr",
     "output_type": "stream",
     "text": [
      "100%|██████████| 677/677 [00:55<00:00, 12.20it/s]\n"
     ]
    },
    {
     "name": "stdout",
     "output_type": "stream",
     "text": [
      "Epoch:  33  Loss:  tensor(636.7529, grad_fn=<MseLossBackward0>)  RMSE in test set: tensor(29.3467, grad_fn=<PowBackward0>) MAE in test set:  tensor(22.6764, grad_fn=<L1LossBackward0>)\n",
      "Time consumed is: 55.50869178771973\n"
     ]
    },
    {
     "name": "stderr",
     "output_type": "stream",
     "text": [
      "100%|██████████| 677/677 [01:05<00:00, 10.41it/s]\n"
     ]
    },
    {
     "name": "stdout",
     "output_type": "stream",
     "text": [
      "Epoch:  34  Loss:  tensor(949.2436, grad_fn=<MseLossBackward0>)  RMSE in test set: tensor(26.4595, grad_fn=<PowBackward0>) MAE in test set:  tensor(21.0764, grad_fn=<L1LossBackward0>)\n",
      "Time consumed is: 65.06533336639404\n"
     ]
    },
    {
     "name": "stderr",
     "output_type": "stream",
     "text": [
      "100%|██████████| 677/677 [00:57<00:00, 11.72it/s]\n"
     ]
    },
    {
     "name": "stdout",
     "output_type": "stream",
     "text": [
      "Epoch:  35  Loss:  tensor(560.9153, grad_fn=<MseLossBackward0>)  RMSE in test set: tensor(21.3543, grad_fn=<PowBackward0>) MAE in test set:  tensor(16.8276, grad_fn=<L1LossBackward0>)\n",
      "Time consumed is: 57.79436230659485\n"
     ]
    },
    {
     "name": "stderr",
     "output_type": "stream",
     "text": [
      "100%|██████████| 677/677 [01:01<00:00, 11.04it/s]\n"
     ]
    },
    {
     "name": "stdout",
     "output_type": "stream",
     "text": [
      "Epoch:  36  Loss:  tensor(114.1295, grad_fn=<MseLossBackward0>)  RMSE in test set: tensor(12.3508, grad_fn=<PowBackward0>) MAE in test set:  tensor(9.1297, grad_fn=<L1LossBackward0>)\n",
      "Time consumed is: 61.30735206604004\n"
     ]
    },
    {
     "name": "stderr",
     "output_type": "stream",
     "text": [
      "100%|██████████| 677/677 [00:55<00:00, 12.22it/s]\n"
     ]
    },
    {
     "name": "stdout",
     "output_type": "stream",
     "text": [
      "Epoch:  37  Loss:  tensor(64.8531, grad_fn=<MseLossBackward0>)  RMSE in test set: tensor(8.6650, grad_fn=<PowBackward0>) MAE in test set:  tensor(6.3027, grad_fn=<L1LossBackward0>)\n",
      "Time consumed is: 55.42726683616638\n"
     ]
    },
    {
     "name": "stderr",
     "output_type": "stream",
     "text": [
      "100%|██████████| 677/677 [00:55<00:00, 12.18it/s]\n"
     ]
    },
    {
     "name": "stdout",
     "output_type": "stream",
     "text": [
      "Epoch:  38  Loss:  tensor(49.3607, grad_fn=<MseLossBackward0>)  RMSE in test set: tensor(8.2614, grad_fn=<PowBackward0>) MAE in test set:  tensor(5.7502, grad_fn=<L1LossBackward0>)\n",
      "Time consumed is: 55.580995321273804\n"
     ]
    },
    {
     "name": "stderr",
     "output_type": "stream",
     "text": [
      "100%|██████████| 677/677 [00:56<00:00, 11.89it/s]\n"
     ]
    },
    {
     "name": "stdout",
     "output_type": "stream",
     "text": [
      "Epoch:  39  Loss:  tensor(73.4135, grad_fn=<MseLossBackward0>)  RMSE in test set: tensor(9.5086, grad_fn=<PowBackward0>) MAE in test set:  tensor(7.1051, grad_fn=<L1LossBackward0>)\n",
      "Time consumed is: 56.967750549316406\n"
     ]
    },
    {
     "name": "stderr",
     "output_type": "stream",
     "text": [
      "100%|██████████| 677/677 [00:55<00:00, 12.18it/s]\n"
     ]
    },
    {
     "name": "stdout",
     "output_type": "stream",
     "text": [
      "Epoch:  40  Loss:  tensor(57.3501, grad_fn=<MseLossBackward0>)  RMSE in test set: tensor(11.5044, grad_fn=<PowBackward0>) MAE in test set:  tensor(8.9391, grad_fn=<L1LossBackward0>)\n",
      "Time consumed is: 55.578656911849976\n"
     ]
    },
    {
     "name": "stderr",
     "output_type": "stream",
     "text": [
      "100%|██████████| 677/677 [00:56<00:00, 11.95it/s]\n"
     ]
    },
    {
     "name": "stdout",
     "output_type": "stream",
     "text": [
      "Epoch:  41  Loss:  tensor(143.6081, grad_fn=<MseLossBackward0>)  RMSE in test set: tensor(13.2779, grad_fn=<PowBackward0>) MAE in test set:  tensor(10.4296, grad_fn=<L1LossBackward0>)\n",
      "Time consumed is: 56.67296862602234\n"
     ]
    },
    {
     "name": "stderr",
     "output_type": "stream",
     "text": [
      "100%|██████████| 677/677 [00:54<00:00, 12.45it/s]\n"
     ]
    },
    {
     "name": "stdout",
     "output_type": "stream",
     "text": [
      "Epoch:  42  Loss:  tensor(109.8329, grad_fn=<MseLossBackward0>)  RMSE in test set: tensor(11.9709, grad_fn=<PowBackward0>) MAE in test set:  tensor(9.2787, grad_fn=<L1LossBackward0>)\n",
      "Time consumed is: 54.39135217666626\n"
     ]
    },
    {
     "name": "stderr",
     "output_type": "stream",
     "text": [
      "100%|██████████| 677/677 [00:56<00:00, 11.98it/s]\n"
     ]
    },
    {
     "name": "stdout",
     "output_type": "stream",
     "text": [
      "Epoch:  43  Loss:  tensor(162.4223, grad_fn=<MseLossBackward0>)  RMSE in test set: tensor(12.3391, grad_fn=<PowBackward0>) MAE in test set:  tensor(9.2912, grad_fn=<L1LossBackward0>)\n",
      "Time consumed is: 56.53866100311279\n"
     ]
    },
    {
     "name": "stderr",
     "output_type": "stream",
     "text": [
      "100%|██████████| 677/677 [00:54<00:00, 12.44it/s]\n"
     ]
    },
    {
     "name": "stdout",
     "output_type": "stream",
     "text": [
      "Epoch:  44  Loss:  tensor(107.4697, grad_fn=<MseLossBackward0>)  RMSE in test set: tensor(13.0569, grad_fn=<PowBackward0>) MAE in test set:  tensor(10.2798, grad_fn=<L1LossBackward0>)\n",
      "Time consumed is: 54.450212717056274\n"
     ]
    },
    {
     "name": "stderr",
     "output_type": "stream",
     "text": [
      "100%|██████████| 677/677 [00:55<00:00, 12.30it/s]\n"
     ]
    },
    {
     "name": "stdout",
     "output_type": "stream",
     "text": [
      "Epoch:  45  Loss:  tensor(111.9264, grad_fn=<MseLossBackward0>)  RMSE in test set: tensor(12.0185, grad_fn=<PowBackward0>) MAE in test set:  tensor(9.2256, grad_fn=<L1LossBackward0>)\n",
      "Time consumed is: 55.06120824813843\n"
     ]
    },
    {
     "name": "stderr",
     "output_type": "stream",
     "text": [
      "100%|██████████| 677/677 [00:57<00:00, 11.76it/s]\n"
     ]
    },
    {
     "name": "stdout",
     "output_type": "stream",
     "text": [
      "Epoch:  46  Loss:  tensor(96.3148, grad_fn=<MseLossBackward0>)  RMSE in test set: tensor(11.5384, grad_fn=<PowBackward0>) MAE in test set:  tensor(8.8634, grad_fn=<L1LossBackward0>)\n",
      "Time consumed is: 57.59582996368408\n"
     ]
    },
    {
     "name": "stderr",
     "output_type": "stream",
     "text": [
      "100%|██████████| 677/677 [00:55<00:00, 12.21it/s]\n"
     ]
    },
    {
     "name": "stdout",
     "output_type": "stream",
     "text": [
      "Epoch:  47  Loss:  tensor(175.6168, grad_fn=<MseLossBackward0>)  RMSE in test set: tensor(9.9665, grad_fn=<PowBackward0>) MAE in test set:  tensor(7.8078, grad_fn=<L1LossBackward0>)\n",
      "Time consumed is: 55.4372353553772\n"
     ]
    },
    {
     "name": "stderr",
     "output_type": "stream",
     "text": [
      "100%|██████████| 677/677 [00:56<00:00, 12.08it/s]\n"
     ]
    },
    {
     "name": "stdout",
     "output_type": "stream",
     "text": [
      "Epoch:  48  Loss:  tensor(132.0475, grad_fn=<MseLossBackward0>)  RMSE in test set: tensor(10.1547, grad_fn=<PowBackward0>) MAE in test set:  tensor(8.0099, grad_fn=<L1LossBackward0>)\n",
      "Time consumed is: 56.078866958618164\n"
     ]
    },
    {
     "name": "stderr",
     "output_type": "stream",
     "text": [
      "100%|██████████| 677/677 [00:55<00:00, 12.21it/s]\n"
     ]
    },
    {
     "name": "stdout",
     "output_type": "stream",
     "text": [
      "Epoch:  49  Loss:  tensor(76.9047, grad_fn=<MseLossBackward0>)  RMSE in test set: tensor(9.7328, grad_fn=<PowBackward0>) MAE in test set:  tensor(7.4753, grad_fn=<L1LossBackward0>)\n",
      "Time consumed is: 55.4451744556427\n"
     ]
    },
    {
     "name": "stderr",
     "output_type": "stream",
     "text": [
      "100%|██████████| 677/677 [00:56<00:00, 12.05it/s]\n"
     ]
    },
    {
     "name": "stdout",
     "output_type": "stream",
     "text": [
      "Epoch:  50  Loss:  tensor(27.1787, grad_fn=<MseLossBackward0>)  RMSE in test set: tensor(5.0917, grad_fn=<PowBackward0>) MAE in test set:  tensor(3.8991, grad_fn=<L1LossBackward0>)\n",
      "Time consumed is: 56.19709062576294\n"
     ]
    },
    {
     "name": "stderr",
     "output_type": "stream",
     "text": [
      "100%|██████████| 677/677 [00:55<00:00, 12.11it/s]\n"
     ]
    },
    {
     "name": "stdout",
     "output_type": "stream",
     "text": [
      "Epoch:  51  Loss:  tensor(9.9668, grad_fn=<MseLossBackward0>)  RMSE in test set: tensor(3.7649, grad_fn=<PowBackward0>) MAE in test set:  tensor(2.6135, grad_fn=<L1LossBackward0>)\n",
      "Time consumed is: 55.93000245094299\n"
     ]
    },
    {
     "name": "stderr",
     "output_type": "stream",
     "text": [
      "100%|██████████| 677/677 [00:57<00:00, 11.77it/s]\n"
     ]
    },
    {
     "name": "stdout",
     "output_type": "stream",
     "text": [
      "Epoch:  52  Loss:  tensor(9.3127, grad_fn=<MseLossBackward0>)  RMSE in test set: tensor(3.5774, grad_fn=<PowBackward0>) MAE in test set:  tensor(2.4824, grad_fn=<L1LossBackward0>)\n",
      "Time consumed is: 57.552656412124634\n"
     ]
    },
    {
     "name": "stderr",
     "output_type": "stream",
     "text": [
      "100%|██████████| 677/677 [00:56<00:00, 11.95it/s]\n"
     ]
    },
    {
     "name": "stdout",
     "output_type": "stream",
     "text": [
      "Epoch:  53  Loss:  tensor(11.0136, grad_fn=<MseLossBackward0>)  RMSE in test set: tensor(4.4351, grad_fn=<PowBackward0>) MAE in test set:  tensor(3.1738, grad_fn=<L1LossBackward0>)\n",
      "Time consumed is: 56.64741015434265\n"
     ]
    },
    {
     "name": "stderr",
     "output_type": "stream",
     "text": [
      "100%|██████████| 677/677 [00:56<00:00, 11.90it/s]\n"
     ]
    },
    {
     "name": "stdout",
     "output_type": "stream",
     "text": [
      "Epoch:  54  Loss:  tensor(19.2942, grad_fn=<MseLossBackward0>)  RMSE in test set: tensor(5.5936, grad_fn=<PowBackward0>) MAE in test set:  tensor(4.2690, grad_fn=<L1LossBackward0>)\n",
      "Time consumed is: 56.91765570640564\n"
     ]
    },
    {
     "name": "stderr",
     "output_type": "stream",
     "text": [
      "100%|██████████| 677/677 [00:56<00:00, 12.04it/s]\n"
     ]
    },
    {
     "name": "stdout",
     "output_type": "stream",
     "text": [
      "Epoch:  55  Loss:  tensor(39.6871, grad_fn=<MseLossBackward0>)  RMSE in test set: tensor(6.1493, grad_fn=<PowBackward0>) MAE in test set:  tensor(4.7971, grad_fn=<L1LossBackward0>)\n",
      "Time consumed is: 56.22854256629944\n"
     ]
    },
    {
     "name": "stderr",
     "output_type": "stream",
     "text": [
      "100%|██████████| 677/677 [00:56<00:00, 11.99it/s]\n"
     ]
    },
    {
     "name": "stdout",
     "output_type": "stream",
     "text": [
      "Epoch:  56  Loss:  tensor(26.9292, grad_fn=<MseLossBackward0>)  RMSE in test set: tensor(5.6136, grad_fn=<PowBackward0>) MAE in test set:  tensor(4.3209, grad_fn=<L1LossBackward0>)\n",
      "Time consumed is: 56.47687482833862\n"
     ]
    },
    {
     "name": "stderr",
     "output_type": "stream",
     "text": [
      "100%|██████████| 677/677 [00:55<00:00, 12.24it/s]\n"
     ]
    },
    {
     "name": "stdout",
     "output_type": "stream",
     "text": [
      "Epoch:  57  Loss:  tensor(23.4181, grad_fn=<MseLossBackward0>)  RMSE in test set: tensor(5.3040, grad_fn=<PowBackward0>) MAE in test set:  tensor(4.0925, grad_fn=<L1LossBackward0>)\n",
      "Time consumed is: 55.29663062095642\n"
     ]
    },
    {
     "name": "stderr",
     "output_type": "stream",
     "text": [
      "100%|██████████| 677/677 [00:55<00:00, 12.13it/s]\n"
     ]
    },
    {
     "name": "stdout",
     "output_type": "stream",
     "text": [
      "Epoch:  58  Loss:  tensor(27.8604, grad_fn=<MseLossBackward0>)  RMSE in test set: tensor(5.1379, grad_fn=<PowBackward0>) MAE in test set:  tensor(3.9255, grad_fn=<L1LossBackward0>)\n",
      "Time consumed is: 55.823861837387085\n"
     ]
    },
    {
     "name": "stderr",
     "output_type": "stream",
     "text": [
      "100%|██████████| 677/677 [00:55<00:00, 12.14it/s]\n"
     ]
    },
    {
     "name": "stdout",
     "output_type": "stream",
     "text": [
      "Epoch:  59  Loss:  tensor(19.3536, grad_fn=<MseLossBackward0>)  RMSE in test set: tensor(5.2372, grad_fn=<PowBackward0>) MAE in test set:  tensor(4.0025, grad_fn=<L1LossBackward0>)\n",
      "Time consumed is: 55.79337811470032\n"
     ]
    },
    {
     "name": "stderr",
     "output_type": "stream",
     "text": [
      "100%|██████████| 677/677 [00:56<00:00, 12.09it/s]\n"
     ]
    },
    {
     "name": "stdout",
     "output_type": "stream",
     "text": [
      "Epoch:  60  Loss:  tensor(25.7421, grad_fn=<MseLossBackward0>)  RMSE in test set: tensor(5.2948, grad_fn=<PowBackward0>) MAE in test set:  tensor(4.0032, grad_fn=<L1LossBackward0>)\n",
      "Time consumed is: 56.010433197021484\n"
     ]
    },
    {
     "name": "stderr",
     "output_type": "stream",
     "text": [
      "100%|██████████| 677/677 [00:57<00:00, 11.88it/s]\n"
     ]
    },
    {
     "name": "stdout",
     "output_type": "stream",
     "text": [
      "Epoch:  61  Loss:  tensor(18.8588, grad_fn=<MseLossBackward0>)  RMSE in test set: tensor(5.2607, grad_fn=<PowBackward0>) MAE in test set:  tensor(4.1118, grad_fn=<L1LossBackward0>)\n",
      "Time consumed is: 57.01134991645813\n"
     ]
    },
    {
     "name": "stderr",
     "output_type": "stream",
     "text": [
      "100%|██████████| 677/677 [00:55<00:00, 12.24it/s]\n"
     ]
    },
    {
     "name": "stdout",
     "output_type": "stream",
     "text": [
      "Epoch:  62  Loss:  tensor(23.7091, grad_fn=<MseLossBackward0>)  RMSE in test set: tensor(4.8903, grad_fn=<PowBackward0>) MAE in test set:  tensor(3.6674, grad_fn=<L1LossBackward0>)\n",
      "Time consumed is: 55.30478382110596\n"
     ]
    },
    {
     "name": "stderr",
     "output_type": "stream",
     "text": [
      "100%|██████████| 677/677 [00:56<00:00, 11.98it/s]\n"
     ]
    },
    {
     "name": "stdout",
     "output_type": "stream",
     "text": [
      "Epoch:  63  Loss:  tensor(20.9002, grad_fn=<MseLossBackward0>)  RMSE in test set: tensor(4.6983, grad_fn=<PowBackward0>) MAE in test set:  tensor(3.5668, grad_fn=<L1LossBackward0>)\n",
      "Time consumed is: 56.500149726867676\n"
     ]
    },
    {
     "name": "stderr",
     "output_type": "stream",
     "text": [
      "100%|██████████| 677/677 [00:55<00:00, 12.12it/s]\n"
     ]
    },
    {
     "name": "stdout",
     "output_type": "stream",
     "text": [
      "Epoch:  64  Loss:  tensor(4.6650, grad_fn=<MseLossBackward0>)  RMSE in test set: tensor(2.5349, grad_fn=<PowBackward0>) MAE in test set:  tensor(1.8808, grad_fn=<L1LossBackward0>)\n",
      "Time consumed is: 55.88428807258606\n"
     ]
    },
    {
     "name": "stderr",
     "output_type": "stream",
     "text": [
      "100%|██████████| 677/677 [00:55<00:00, 12.25it/s]\n"
     ]
    },
    {
     "name": "stdout",
     "output_type": "stream",
     "text": [
      "Epoch:  65  Loss:  tensor(2.8215, grad_fn=<MseLossBackward0>)  RMSE in test set: tensor(2.1089, grad_fn=<PowBackward0>) MAE in test set:  tensor(1.4308, grad_fn=<L1LossBackward0>)\n",
      "Time consumed is: 55.28788733482361\n"
     ]
    },
    {
     "name": "stderr",
     "output_type": "stream",
     "text": [
      "100%|██████████| 677/677 [00:56<00:00, 11.92it/s]\n"
     ]
    },
    {
     "name": "stdout",
     "output_type": "stream",
     "text": [
      "Epoch:  66  Loss:  tensor(3.6525, grad_fn=<MseLossBackward0>)  RMSE in test set: tensor(2.0843, grad_fn=<PowBackward0>) MAE in test set:  tensor(1.4013, grad_fn=<L1LossBackward0>)\n",
      "Time consumed is: 56.82462739944458\n"
     ]
    },
    {
     "name": "stderr",
     "output_type": "stream",
     "text": [
      "100%|██████████| 677/677 [00:55<00:00, 12.12it/s]\n"
     ]
    },
    {
     "name": "stdout",
     "output_type": "stream",
     "text": [
      "Epoch:  67  Loss:  tensor(3.5501, grad_fn=<MseLossBackward0>)  RMSE in test set: tensor(2.5059, grad_fn=<PowBackward0>) MAE in test set:  tensor(1.7822, grad_fn=<L1LossBackward0>)\n",
      "Time consumed is: 55.863927125930786\n"
     ]
    },
    {
     "name": "stderr",
     "output_type": "stream",
     "text": [
      "100%|██████████| 677/677 [00:57<00:00, 11.82it/s]\n"
     ]
    },
    {
     "name": "stdout",
     "output_type": "stream",
     "text": [
      "Epoch:  68  Loss:  tensor(6.6462, grad_fn=<MseLossBackward0>)  RMSE in test set: tensor(2.9100, grad_fn=<PowBackward0>) MAE in test set:  tensor(2.1340, grad_fn=<L1LossBackward0>)\n",
      "Time consumed is: 57.27894639968872\n"
     ]
    },
    {
     "name": "stderr",
     "output_type": "stream",
     "text": [
      "100%|██████████| 677/677 [00:55<00:00, 12.25it/s]\n"
     ]
    },
    {
     "name": "stdout",
     "output_type": "stream",
     "text": [
      "Epoch:  69  Loss:  tensor(7.8678, grad_fn=<MseLossBackward0>)  RMSE in test set: tensor(3.2188, grad_fn=<PowBackward0>) MAE in test set:  tensor(2.5162, grad_fn=<L1LossBackward0>)\n",
      "Time consumed is: 55.27113175392151\n"
     ]
    },
    {
     "name": "stderr",
     "output_type": "stream",
     "text": [
      "100%|██████████| 677/677 [00:56<00:00, 11.94it/s]\n"
     ]
    },
    {
     "name": "stdout",
     "output_type": "stream",
     "text": [
      "Epoch:  70  Loss:  tensor(10.0279, grad_fn=<MseLossBackward0>)  RMSE in test set: tensor(3.2052, grad_fn=<PowBackward0>) MAE in test set:  tensor(2.3580, grad_fn=<L1LossBackward0>)\n",
      "Time consumed is: 56.69065284729004\n"
     ]
    },
    {
     "name": "stderr",
     "output_type": "stream",
     "text": [
      "100%|██████████| 677/677 [00:55<00:00, 12.18it/s]\n"
     ]
    },
    {
     "name": "stdout",
     "output_type": "stream",
     "text": [
      "Epoch:  71  Loss:  tensor(5.9881, grad_fn=<MseLossBackward0>)  RMSE in test set: tensor(2.8225, grad_fn=<PowBackward0>) MAE in test set:  tensor(2.1463, grad_fn=<L1LossBackward0>)\n",
      "Time consumed is: 55.584959268569946\n"
     ]
    },
    {
     "name": "stderr",
     "output_type": "stream",
     "text": [
      "100%|██████████| 677/677 [00:55<00:00, 12.19it/s]\n"
     ]
    },
    {
     "name": "stdout",
     "output_type": "stream",
     "text": [
      "Epoch:  72  Loss:  tensor(6.7924, grad_fn=<MseLossBackward0>)  RMSE in test set: tensor(2.7550, grad_fn=<PowBackward0>) MAE in test set:  tensor(2.0510, grad_fn=<L1LossBackward0>)\n",
      "Time consumed is: 55.522380352020264\n"
     ]
    },
    {
     "name": "stderr",
     "output_type": "stream",
     "text": [
      "100%|██████████| 677/677 [00:56<00:00, 11.92it/s]\n"
     ]
    },
    {
     "name": "stdout",
     "output_type": "stream",
     "text": [
      "Epoch:  73  Loss:  tensor(4.9177, grad_fn=<MseLossBackward0>)  RMSE in test set: tensor(2.6477, grad_fn=<PowBackward0>) MAE in test set:  tensor(2.0180, grad_fn=<L1LossBackward0>)\n",
      "Time consumed is: 56.80361223220825\n"
     ]
    },
    {
     "name": "stderr",
     "output_type": "stream",
     "text": [
      "100%|██████████| 677/677 [00:56<00:00, 11.96it/s]\n"
     ]
    },
    {
     "name": "stdout",
     "output_type": "stream",
     "text": [
      "Epoch:  74  Loss:  tensor(6.2985, grad_fn=<MseLossBackward0>)  RMSE in test set: tensor(2.8987, grad_fn=<PowBackward0>) MAE in test set:  tensor(2.1490, grad_fn=<L1LossBackward0>)\n",
      "Time consumed is: 56.61760973930359\n"
     ]
    },
    {
     "name": "stderr",
     "output_type": "stream",
     "text": [
      "100%|██████████| 677/677 [00:56<00:00, 12.05it/s]\n"
     ]
    },
    {
     "name": "stdout",
     "output_type": "stream",
     "text": [
      "Epoch:  75  Loss:  tensor(4.0996, grad_fn=<MseLossBackward0>)  RMSE in test set: tensor(2.8641, grad_fn=<PowBackward0>) MAE in test set:  tensor(2.2109, grad_fn=<L1LossBackward0>)\n",
      "Time consumed is: 56.16670513153076\n"
     ]
    },
    {
     "name": "stderr",
     "output_type": "stream",
     "text": [
      "100%|██████████| 677/677 [00:56<00:00, 11.94it/s]\n"
     ]
    },
    {
     "name": "stdout",
     "output_type": "stream",
     "text": [
      "Epoch:  76  Loss:  tensor(5.9020, grad_fn=<MseLossBackward0>)  RMSE in test set: tensor(2.7929, grad_fn=<PowBackward0>) MAE in test set:  tensor(2.1091, grad_fn=<L1LossBackward0>)\n",
      "Time consumed is: 56.69879603385925\n"
     ]
    },
    {
     "name": "stderr",
     "output_type": "stream",
     "text": [
      "100%|██████████| 677/677 [00:55<00:00, 12.22it/s]\n"
     ]
    },
    {
     "name": "stdout",
     "output_type": "stream",
     "text": [
      "Epoch:  77  Loss:  tensor(4.2506, grad_fn=<MseLossBackward0>)  RMSE in test set: tensor(2.6880, grad_fn=<PowBackward0>) MAE in test set:  tensor(2.0655, grad_fn=<L1LossBackward0>)\n",
      "Time consumed is: 55.39794611930847\n"
     ]
    },
    {
     "name": "stderr",
     "output_type": "stream",
     "text": [
      "100%|██████████| 677/677 [00:57<00:00, 11.77it/s]\n"
     ]
    },
    {
     "name": "stdout",
     "output_type": "stream",
     "text": [
      "Epoch:  78  Loss:  tensor(1.2765, grad_fn=<MseLossBackward0>)  RMSE in test set: tensor(1.7423, grad_fn=<PowBackward0>) MAE in test set:  tensor(1.2603, grad_fn=<L1LossBackward0>)\n",
      "Time consumed is: 57.509942293167114\n"
     ]
    },
    {
     "name": "stderr",
     "output_type": "stream",
     "text": [
      "100%|██████████| 677/677 [00:54<00:00, 12.38it/s]\n"
     ]
    },
    {
     "name": "stdout",
     "output_type": "stream",
     "text": [
      "Epoch:  79  Loss:  tensor(1.0844, grad_fn=<MseLossBackward0>)  RMSE in test set: tensor(1.5925, grad_fn=<PowBackward0>) MAE in test set:  tensor(1.0642, grad_fn=<L1LossBackward0>)\n",
      "Time consumed is: 54.67783331871033\n"
     ]
    },
    {
     "name": "stderr",
     "output_type": "stream",
     "text": [
      "100%|██████████| 677/677 [00:57<00:00, 11.85it/s]\n"
     ]
    },
    {
     "name": "stdout",
     "output_type": "stream",
     "text": [
      "Epoch:  80  Loss:  tensor(1.1820, grad_fn=<MseLossBackward0>)  RMSE in test set: tensor(1.5756, grad_fn=<PowBackward0>) MAE in test set:  tensor(1.0812, grad_fn=<L1LossBackward0>)\n",
      "Time consumed is: 57.13168978691101\n"
     ]
    },
    {
     "name": "stderr",
     "output_type": "stream",
     "text": [
      "100%|██████████| 677/677 [00:55<00:00, 12.15it/s]\n"
     ]
    },
    {
     "name": "stdout",
     "output_type": "stream",
     "text": [
      "Epoch:  81  Loss:  tensor(1.1507, grad_fn=<MseLossBackward0>)  RMSE in test set: tensor(1.6140, grad_fn=<PowBackward0>) MAE in test set:  tensor(1.0550, grad_fn=<L1LossBackward0>)\n",
      "Time consumed is: 55.745293378829956\n"
     ]
    },
    {
     "name": "stderr",
     "output_type": "stream",
     "text": [
      "100%|██████████| 677/677 [00:56<00:00, 11.95it/s]\n"
     ]
    },
    {
     "name": "stdout",
     "output_type": "stream",
     "text": [
      "Epoch:  82  Loss:  tensor(1.5367, grad_fn=<MseLossBackward0>)  RMSE in test set: tensor(1.8748, grad_fn=<PowBackward0>) MAE in test set:  tensor(1.3750, grad_fn=<L1LossBackward0>)\n",
      "Time consumed is: 56.64515042304993\n"
     ]
    },
    {
     "name": "stderr",
     "output_type": "stream",
     "text": [
      "100%|██████████| 677/677 [00:56<00:00, 11.89it/s]\n"
     ]
    },
    {
     "name": "stdout",
     "output_type": "stream",
     "text": [
      "Epoch:  83  Loss:  tensor(1.9605, grad_fn=<MseLossBackward0>)  RMSE in test set: tensor(1.9635, grad_fn=<PowBackward0>) MAE in test set:  tensor(1.4325, grad_fn=<L1LossBackward0>)\n",
      "Time consumed is: 56.930574893951416\n"
     ]
    },
    {
     "name": "stderr",
     "output_type": "stream",
     "text": [
      "100%|██████████| 677/677 [00:56<00:00, 11.90it/s]\n"
     ]
    },
    {
     "name": "stdout",
     "output_type": "stream",
     "text": [
      "Epoch:  84  Loss:  tensor(2.8996, grad_fn=<MseLossBackward0>)  RMSE in test set: tensor(1.9486, grad_fn=<PowBackward0>) MAE in test set:  tensor(1.4142, grad_fn=<L1LossBackward0>)\n",
      "Time consumed is: 56.88577699661255\n"
     ]
    },
    {
     "name": "stderr",
     "output_type": "stream",
     "text": [
      "100%|██████████| 677/677 [00:56<00:00, 12.01it/s]\n"
     ]
    },
    {
     "name": "stdout",
     "output_type": "stream",
     "text": [
      "Epoch:  85  Loss:  tensor(1.3990, grad_fn=<MseLossBackward0>)  RMSE in test set: tensor(1.8254, grad_fn=<PowBackward0>) MAE in test set:  tensor(1.3349, grad_fn=<L1LossBackward0>)\n",
      "Time consumed is: 56.36686110496521\n"
     ]
    },
    {
     "name": "stderr",
     "output_type": "stream",
     "text": [
      "100%|██████████| 677/677 [00:56<00:00, 11.90it/s]\n"
     ]
    },
    {
     "name": "stdout",
     "output_type": "stream",
     "text": [
      "Epoch:  86  Loss:  tensor(2.1929, grad_fn=<MseLossBackward0>)  RMSE in test set: tensor(1.8425, grad_fn=<PowBackward0>) MAE in test set:  tensor(1.3188, grad_fn=<L1LossBackward0>)\n",
      "Time consumed is: 56.92779731750488\n"
     ]
    },
    {
     "name": "stderr",
     "output_type": "stream",
     "text": [
      "100%|██████████| 677/677 [00:56<00:00, 12.04it/s]\n"
     ]
    },
    {
     "name": "stdout",
     "output_type": "stream",
     "text": [
      "Epoch:  87  Loss:  tensor(1.1918, grad_fn=<MseLossBackward0>)  RMSE in test set: tensor(1.7984, grad_fn=<PowBackward0>) MAE in test set:  tensor(1.2776, grad_fn=<L1LossBackward0>)\n",
      "Time consumed is: 56.23391103744507\n"
     ]
    },
    {
     "name": "stderr",
     "output_type": "stream",
     "text": [
      "100%|██████████| 677/677 [00:57<00:00, 11.72it/s]\n"
     ]
    },
    {
     "name": "stdout",
     "output_type": "stream",
     "text": [
      "Epoch:  88  Loss:  tensor(1.9527, grad_fn=<MseLossBackward0>)  RMSE in test set: tensor(1.7993, grad_fn=<PowBackward0>) MAE in test set:  tensor(1.3067, grad_fn=<L1LossBackward0>)\n",
      "Time consumed is: 57.74966907501221\n"
     ]
    },
    {
     "name": "stderr",
     "output_type": "stream",
     "text": [
      "100%|██████████| 677/677 [00:55<00:00, 12.14it/s]\n"
     ]
    },
    {
     "name": "stdout",
     "output_type": "stream",
     "text": [
      "Epoch:  89  Loss:  tensor(1.4089, grad_fn=<MseLossBackward0>)  RMSE in test set: tensor(1.8514, grad_fn=<PowBackward0>) MAE in test set:  tensor(1.3357, grad_fn=<L1LossBackward0>)\n",
      "Time consumed is: 55.770095109939575\n"
     ]
    },
    {
     "name": "stderr",
     "output_type": "stream",
     "text": [
      "100%|██████████| 677/677 [00:56<00:00, 11.92it/s]\n"
     ]
    },
    {
     "name": "stdout",
     "output_type": "stream",
     "text": [
      "Epoch:  90  Loss:  tensor(1.9588, grad_fn=<MseLossBackward0>)  RMSE in test set: tensor(1.8665, grad_fn=<PowBackward0>) MAE in test set:  tensor(1.3701, grad_fn=<L1LossBackward0>)\n",
      "Time consumed is: 56.808347940444946\n"
     ]
    },
    {
     "name": "stderr",
     "output_type": "stream",
     "text": [
      "100%|██████████| 677/677 [00:55<00:00, 12.10it/s]\n"
     ]
    },
    {
     "name": "stdout",
     "output_type": "stream",
     "text": [
      "Epoch:  91  Loss:  tensor(1.2211, grad_fn=<MseLossBackward0>)  RMSE in test set: tensor(1.7522, grad_fn=<PowBackward0>) MAE in test set:  tensor(1.2459, grad_fn=<L1LossBackward0>)\n",
      "Time consumed is: 55.97779035568237\n"
     ]
    },
    {
     "name": "stderr",
     "output_type": "stream",
     "text": [
      "100%|██████████| 677/677 [00:56<00:00, 11.97it/s]\n"
     ]
    },
    {
     "name": "stdout",
     "output_type": "stream",
     "text": [
      "Epoch:  92  Loss:  tensor(0.8389, grad_fn=<MseLossBackward0>)  RMSE in test set: tensor(1.4812, grad_fn=<PowBackward0>) MAE in test set:  tensor(1.0218, grad_fn=<L1LossBackward0>)\n",
      "Time consumed is: 56.5636146068573\n"
     ]
    },
    {
     "name": "stderr",
     "output_type": "stream",
     "text": [
      "100%|██████████| 677/677 [00:56<00:00, 12.05it/s]\n"
     ]
    },
    {
     "name": "stdout",
     "output_type": "stream",
     "text": [
      "Epoch:  93  Loss:  tensor(0.7085, grad_fn=<MseLossBackward0>)  RMSE in test set: tensor(1.3997, grad_fn=<PowBackward0>) MAE in test set:  tensor(0.9536, grad_fn=<L1LossBackward0>)\n",
      "Time consumed is: 56.19450235366821\n"
     ]
    },
    {
     "name": "stderr",
     "output_type": "stream",
     "text": [
      "100%|██████████| 677/677 [00:57<00:00, 11.83it/s]\n"
     ]
    },
    {
     "name": "stdout",
     "output_type": "stream",
     "text": [
      "Epoch:  94  Loss:  tensor(0.7347, grad_fn=<MseLossBackward0>)  RMSE in test set: tensor(1.4287, grad_fn=<PowBackward0>) MAE in test set:  tensor(0.9660, grad_fn=<L1LossBackward0>)\n",
      "Time consumed is: 57.2415189743042\n"
     ]
    },
    {
     "name": "stderr",
     "output_type": "stream",
     "text": [
      "100%|██████████| 677/677 [00:57<00:00, 11.84it/s]\n"
     ]
    },
    {
     "name": "stdout",
     "output_type": "stream",
     "text": [
      "Epoch:  95  Loss:  tensor(0.7228, grad_fn=<MseLossBackward0>)  RMSE in test set: tensor(1.4104, grad_fn=<PowBackward0>) MAE in test set:  tensor(0.9470, grad_fn=<L1LossBackward0>)\n",
      "Time consumed is: 57.18014144897461\n"
     ]
    },
    {
     "name": "stderr",
     "output_type": "stream",
     "text": [
      "100%|██████████| 677/677 [00:56<00:00, 12.01it/s]\n"
     ]
    },
    {
     "name": "stdout",
     "output_type": "stream",
     "text": [
      "Epoch:  96  Loss:  tensor(0.8708, grad_fn=<MseLossBackward0>)  RMSE in test set: tensor(1.4775, grad_fn=<PowBackward0>) MAE in test set:  tensor(1.0341, grad_fn=<L1LossBackward0>)\n",
      "Time consumed is: 56.39262628555298\n"
     ]
    },
    {
     "name": "stderr",
     "output_type": "stream",
     "text": [
      "100%|██████████| 677/677 [00:55<00:00, 12.13it/s]\n"
     ]
    },
    {
     "name": "stdout",
     "output_type": "stream",
     "text": [
      "Epoch:  97  Loss:  tensor(0.8337, grad_fn=<MseLossBackward0>)  RMSE in test set: tensor(1.4923, grad_fn=<PowBackward0>) MAE in test set:  tensor(1.0170, grad_fn=<L1LossBackward0>)\n",
      "Time consumed is: 55.83228039741516\n"
     ]
    },
    {
     "name": "stderr",
     "output_type": "stream",
     "text": [
      "100%|██████████| 677/677 [00:57<00:00, 11.68it/s]\n"
     ]
    },
    {
     "name": "stdout",
     "output_type": "stream",
     "text": [
      "Epoch:  98  Loss:  tensor(0.9000, grad_fn=<MseLossBackward0>)  RMSE in test set: tensor(1.5712, grad_fn=<PowBackward0>) MAE in test set:  tensor(1.1061, grad_fn=<L1LossBackward0>)\n",
      "Time consumed is: 57.97416090965271\n"
     ]
    },
    {
     "name": "stderr",
     "output_type": "stream",
     "text": [
      "100%|██████████| 677/677 [00:56<00:00, 11.99it/s]\n"
     ]
    },
    {
     "name": "stdout",
     "output_type": "stream",
     "text": [
      "Epoch:  99  Loss:  tensor(0.8668, grad_fn=<MseLossBackward0>)  RMSE in test set: tensor(1.4392, grad_fn=<PowBackward0>) MAE in test set:  tensor(0.9927, grad_fn=<L1LossBackward0>)\n",
      "Time consumed is: 56.46055507659912\n"
     ]
    },
    {
     "name": "stderr",
     "output_type": "stream",
     "text": [
      "100%|██████████| 170/170 [00:53<00:00,  3.20it/s]\n"
     ]
    },
    {
     "name": "stdout",
     "output_type": "stream",
     "text": [
      "Epoch:  0  Loss:  tensor(301.1491, grad_fn=<MseLossBackward0>)  RMSE in test set: tensor(29.0154, grad_fn=<PowBackward0>) MAE in test set:  tensor(20.9258, grad_fn=<L1LossBackward0>)\n",
      "Time consumed is: 53.10215163230896\n"
     ]
    },
    {
     "name": "stderr",
     "output_type": "stream",
     "text": [
      "100%|██████████| 170/170 [00:51<00:00,  3.27it/s]\n"
     ]
    },
    {
     "name": "stdout",
     "output_type": "stream",
     "text": [
      "Epoch:  1  Loss:  tensor(675.6711, grad_fn=<MseLossBackward0>)  RMSE in test set: tensor(36.5510, grad_fn=<PowBackward0>) MAE in test set:  tensor(28.1879, grad_fn=<L1LossBackward0>)\n",
      "Time consumed is: 51.9849317073822\n"
     ]
    },
    {
     "name": "stderr",
     "output_type": "stream",
     "text": [
      "100%|██████████| 170/170 [00:53<00:00,  3.18it/s]\n"
     ]
    },
    {
     "name": "stdout",
     "output_type": "stream",
     "text": [
      "Epoch:  2  Loss:  tensor(7780.2168, grad_fn=<MseLossBackward0>)  RMSE in test set: tensor(43.0625, grad_fn=<PowBackward0>) MAE in test set:  tensor(32.5850, grad_fn=<L1LossBackward0>)\n",
      "Time consumed is: 53.44972610473633\n"
     ]
    },
    {
     "name": "stderr",
     "output_type": "stream",
     "text": [
      "100%|██████████| 170/170 [00:51<00:00,  3.29it/s]\n"
     ]
    },
    {
     "name": "stdout",
     "output_type": "stream",
     "text": [
      "Epoch:  3  Loss:  tensor(1872.9979, grad_fn=<MseLossBackward0>)  RMSE in test set: tensor(27.2938, grad_fn=<PowBackward0>) MAE in test set:  tensor(21.1028, grad_fn=<L1LossBackward0>)\n",
      "Time consumed is: 51.65812635421753\n"
     ]
    },
    {
     "name": "stderr",
     "output_type": "stream",
     "text": [
      "100%|██████████| 170/170 [00:53<00:00,  3.19it/s]\n"
     ]
    },
    {
     "name": "stdout",
     "output_type": "stream",
     "text": [
      "Epoch:  4  Loss:  tensor(437.7475, grad_fn=<MseLossBackward0>)  RMSE in test set: tensor(22.4695, grad_fn=<PowBackward0>) MAE in test set:  tensor(16.7421, grad_fn=<L1LossBackward0>)\n",
      "Time consumed is: 53.32815337181091\n"
     ]
    },
    {
     "name": "stderr",
     "output_type": "stream",
     "text": [
      "100%|██████████| 170/170 [00:52<00:00,  3.25it/s]\n"
     ]
    },
    {
     "name": "stdout",
     "output_type": "stream",
     "text": [
      "Epoch:  5  Loss:  tensor(205.7915, grad_fn=<MseLossBackward0>)  RMSE in test set: tensor(18.1978, grad_fn=<PowBackward0>) MAE in test set:  tensor(13.8367, grad_fn=<L1LossBackward0>)\n",
      "Time consumed is: 52.3636269569397\n"
     ]
    },
    {
     "name": "stderr",
     "output_type": "stream",
     "text": [
      "100%|██████████| 170/170 [00:54<00:00,  3.14it/s]\n"
     ]
    },
    {
     "name": "stdout",
     "output_type": "stream",
     "text": [
      "Epoch:  6  Loss:  tensor(207.7356, grad_fn=<MseLossBackward0>)  RMSE in test set: tensor(17.2578, grad_fn=<PowBackward0>) MAE in test set:  tensor(12.9579, grad_fn=<L1LossBackward0>)\n",
      "Time consumed is: 54.08833456039429\n"
     ]
    },
    {
     "name": "stderr",
     "output_type": "stream",
     "text": [
      "100%|██████████| 170/170 [00:51<00:00,  3.32it/s]\n"
     ]
    },
    {
     "name": "stdout",
     "output_type": "stream",
     "text": [
      "Epoch:  7  Loss:  tensor(194.4794, grad_fn=<MseLossBackward0>)  RMSE in test set: tensor(14.4976, grad_fn=<PowBackward0>) MAE in test set:  tensor(10.8182, grad_fn=<L1LossBackward0>)\n",
      "Time consumed is: 51.17310190200806\n"
     ]
    },
    {
     "name": "stderr",
     "output_type": "stream",
     "text": [
      "100%|██████████| 170/170 [00:53<00:00,  3.18it/s]\n"
     ]
    },
    {
     "name": "stdout",
     "output_type": "stream",
     "text": [
      "Epoch:  8  Loss:  tensor(115.3886, grad_fn=<MseLossBackward0>)  RMSE in test set: tensor(15.1224, grad_fn=<PowBackward0>) MAE in test set:  tensor(11.1443, grad_fn=<L1LossBackward0>)\n",
      "Time consumed is: 53.409422874450684\n"
     ]
    },
    {
     "name": "stderr",
     "output_type": "stream",
     "text": [
      "100%|██████████| 170/170 [00:52<00:00,  3.22it/s]\n"
     ]
    },
    {
     "name": "stdout",
     "output_type": "stream",
     "text": [
      "Epoch:  9  Loss:  tensor(151.8482, grad_fn=<MseLossBackward0>)  RMSE in test set: tensor(13.6501, grad_fn=<PowBackward0>) MAE in test set:  tensor(9.6517, grad_fn=<L1LossBackward0>)\n",
      "Time consumed is: 52.71885442733765\n"
     ]
    },
    {
     "name": "stderr",
     "output_type": "stream",
     "text": [
      "100%|██████████| 170/170 [00:53<00:00,  3.19it/s]\n"
     ]
    },
    {
     "name": "stdout",
     "output_type": "stream",
     "text": [
      "Epoch:  10  Loss:  tensor(113.3148, grad_fn=<MseLossBackward0>)  RMSE in test set: tensor(15.3484, grad_fn=<PowBackward0>) MAE in test set:  tensor(9.8713, grad_fn=<L1LossBackward0>)\n",
      "Time consumed is: 53.326659202575684\n"
     ]
    },
    {
     "name": "stderr",
     "output_type": "stream",
     "text": [
      "100%|██████████| 170/170 [00:52<00:00,  3.25it/s]\n"
     ]
    },
    {
     "name": "stdout",
     "output_type": "stream",
     "text": [
      "Epoch:  11  Loss:  tensor(146.3720, grad_fn=<MseLossBackward0>)  RMSE in test set: tensor(14.1338, grad_fn=<PowBackward0>) MAE in test set:  tensor(10.3699, grad_fn=<L1LossBackward0>)\n",
      "Time consumed is: 52.30967450141907\n"
     ]
    },
    {
     "name": "stderr",
     "output_type": "stream",
     "text": [
      "100%|██████████| 170/170 [00:53<00:00,  3.16it/s]\n"
     ]
    },
    {
     "name": "stdout",
     "output_type": "stream",
     "text": [
      "Epoch:  12  Loss:  tensor(124.3608, grad_fn=<MseLossBackward0>)  RMSE in test set: tensor(13.7352, grad_fn=<PowBackward0>) MAE in test set:  tensor(9.9836, grad_fn=<L1LossBackward0>)\n",
      "Time consumed is: 53.84188890457153\n"
     ]
    },
    {
     "name": "stderr",
     "output_type": "stream",
     "text": [
      "100%|██████████| 170/170 [00:52<00:00,  3.23it/s]\n"
     ]
    },
    {
     "name": "stdout",
     "output_type": "stream",
     "text": [
      "Epoch:  13  Loss:  tensor(219.3585, grad_fn=<MseLossBackward0>)  RMSE in test set: tensor(12.3641, grad_fn=<PowBackward0>) MAE in test set:  tensor(9.0013, grad_fn=<L1LossBackward0>)\n",
      "Time consumed is: 52.6574981212616\n"
     ]
    },
    {
     "name": "stderr",
     "output_type": "stream",
     "text": [
      "100%|██████████| 170/170 [00:53<00:00,  3.16it/s]\n"
     ]
    },
    {
     "name": "stdout",
     "output_type": "stream",
     "text": [
      "Epoch:  14  Loss:  tensor(132.2588, grad_fn=<MseLossBackward0>)  RMSE in test set: tensor(13.8418, grad_fn=<PowBackward0>) MAE in test set:  tensor(10.4253, grad_fn=<L1LossBackward0>)\n",
      "Time consumed is: 53.77835249900818\n"
     ]
    },
    {
     "name": "stderr",
     "output_type": "stream",
     "text": [
      "100%|██████████| 170/170 [00:52<00:00,  3.25it/s]\n"
     ]
    },
    {
     "name": "stdout",
     "output_type": "stream",
     "text": [
      "Epoch:  15  Loss:  tensor(162.9854, grad_fn=<MseLossBackward0>)  RMSE in test set: tensor(12.9832, grad_fn=<PowBackward0>) MAE in test set:  tensor(9.4215, grad_fn=<L1LossBackward0>)\n",
      "Time consumed is: 52.380226373672485\n"
     ]
    },
    {
     "name": "stderr",
     "output_type": "stream",
     "text": [
      "100%|██████████| 170/170 [00:53<00:00,  3.20it/s]\n"
     ]
    },
    {
     "name": "stdout",
     "output_type": "stream",
     "text": [
      "Epoch:  16  Loss:  tensor(123.2488, grad_fn=<MseLossBackward0>)  RMSE in test set: tensor(12.2983, grad_fn=<PowBackward0>) MAE in test set:  tensor(8.9804, grad_fn=<L1LossBackward0>)\n",
      "Time consumed is: 53.06562638282776\n"
     ]
    },
    {
     "name": "stderr",
     "output_type": "stream",
     "text": [
      "100%|██████████| 170/170 [00:52<00:00,  3.22it/s]\n"
     ]
    },
    {
     "name": "stdout",
     "output_type": "stream",
     "text": [
      "Epoch:  17  Loss:  tensor(82.9509, grad_fn=<MseLossBackward0>)  RMSE in test set: tensor(11.3166, grad_fn=<PowBackward0>) MAE in test set:  tensor(8.3219, grad_fn=<L1LossBackward0>)\n",
      "Time consumed is: 52.73532581329346\n"
     ]
    },
    {
     "name": "stderr",
     "output_type": "stream",
     "text": [
      "100%|██████████| 170/170 [00:53<00:00,  3.20it/s]\n"
     ]
    },
    {
     "name": "stdout",
     "output_type": "stream",
     "text": [
      "Epoch:  18  Loss:  tensor(132.6219, grad_fn=<MseLossBackward0>)  RMSE in test set: tensor(11.4170, grad_fn=<PowBackward0>) MAE in test set:  tensor(8.3676, grad_fn=<L1LossBackward0>)\n",
      "Time consumed is: 53.140477418899536\n"
     ]
    },
    {
     "name": "stderr",
     "output_type": "stream",
     "text": [
      "100%|██████████| 170/170 [00:53<00:00,  3.21it/s]\n"
     ]
    },
    {
     "name": "stdout",
     "output_type": "stream",
     "text": [
      "Epoch:  19  Loss:  tensor(65.7488, grad_fn=<MseLossBackward0>)  RMSE in test set: tensor(10.7944, grad_fn=<PowBackward0>) MAE in test set:  tensor(8.0208, grad_fn=<L1LossBackward0>)\n",
      "Time consumed is: 53.020490646362305\n"
     ]
    },
    {
     "name": "stderr",
     "output_type": "stream",
     "text": [
      "100%|██████████| 170/170 [00:53<00:00,  3.19it/s]\n"
     ]
    },
    {
     "name": "stdout",
     "output_type": "stream",
     "text": [
      "Epoch:  20  Loss:  tensor(46.2572, grad_fn=<MseLossBackward0>)  RMSE in test set: tensor(10.7609, grad_fn=<PowBackward0>) MAE in test set:  tensor(7.9112, grad_fn=<L1LossBackward0>)\n",
      "Time consumed is: 53.32976984977722\n"
     ]
    },
    {
     "name": "stderr",
     "output_type": "stream",
     "text": [
      "100%|██████████| 170/170 [00:50<00:00,  3.35it/s]\n"
     ]
    },
    {
     "name": "stdout",
     "output_type": "stream",
     "text": [
      "Epoch:  21  Loss:  tensor(68.1490, grad_fn=<MseLossBackward0>)  RMSE in test set: tensor(11.3678, grad_fn=<PowBackward0>) MAE in test set:  tensor(8.1357, grad_fn=<L1LossBackward0>)\n",
      "Time consumed is: 50.79396033287048\n"
     ]
    },
    {
     "name": "stderr",
     "output_type": "stream",
     "text": [
      "100%|██████████| 170/170 [00:52<00:00,  3.27it/s]\n"
     ]
    },
    {
     "name": "stdout",
     "output_type": "stream",
     "text": [
      "Epoch:  22  Loss:  tensor(61.0278, grad_fn=<MseLossBackward0>)  RMSE in test set: tensor(10.8832, grad_fn=<PowBackward0>) MAE in test set:  tensor(7.6771, grad_fn=<L1LossBackward0>)\n",
      "Time consumed is: 52.03007912635803\n"
     ]
    },
    {
     "name": "stderr",
     "output_type": "stream",
     "text": [
      "100%|██████████| 170/170 [00:50<00:00,  3.35it/s]\n"
     ]
    },
    {
     "name": "stdout",
     "output_type": "stream",
     "text": [
      "Epoch:  23  Loss:  tensor(53.4420, grad_fn=<MseLossBackward0>)  RMSE in test set: tensor(10.8035, grad_fn=<PowBackward0>) MAE in test set:  tensor(7.8811, grad_fn=<L1LossBackward0>)\n",
      "Time consumed is: 50.79771590232849\n"
     ]
    },
    {
     "name": "stderr",
     "output_type": "stream",
     "text": [
      "100%|██████████| 170/170 [00:51<00:00,  3.27it/s]\n"
     ]
    },
    {
     "name": "stdout",
     "output_type": "stream",
     "text": [
      "Epoch:  24  Loss:  tensor(33.9277, grad_fn=<MseLossBackward0>)  RMSE in test set: tensor(8.5298, grad_fn=<PowBackward0>) MAE in test set:  tensor(6.2242, grad_fn=<L1LossBackward0>)\n",
      "Time consumed is: 51.92179322242737\n"
     ]
    },
    {
     "name": "stderr",
     "output_type": "stream",
     "text": [
      "100%|██████████| 170/170 [00:50<00:00,  3.35it/s]\n"
     ]
    },
    {
     "name": "stdout",
     "output_type": "stream",
     "text": [
      "Epoch:  25  Loss:  tensor(86.8214, grad_fn=<MseLossBackward0>)  RMSE in test set: tensor(9.8837, grad_fn=<PowBackward0>) MAE in test set:  tensor(7.1715, grad_fn=<L1LossBackward0>)\n",
      "Time consumed is: 50.7657790184021\n"
     ]
    },
    {
     "name": "stderr",
     "output_type": "stream",
     "text": [
      "100%|██████████| 170/170 [00:51<00:00,  3.30it/s]\n"
     ]
    },
    {
     "name": "stdout",
     "output_type": "stream",
     "text": [
      "Epoch:  26  Loss:  tensor(44.9243, grad_fn=<MseLossBackward0>)  RMSE in test set: tensor(9.2600, grad_fn=<PowBackward0>) MAE in test set:  tensor(6.4056, grad_fn=<L1LossBackward0>)\n",
      "Time consumed is: 51.593281269073486\n"
     ]
    },
    {
     "name": "stderr",
     "output_type": "stream",
     "text": [
      "100%|██████████| 170/170 [00:50<00:00,  3.39it/s]\n"
     ]
    },
    {
     "name": "stdout",
     "output_type": "stream",
     "text": [
      "Epoch:  27  Loss:  tensor(54.8227, grad_fn=<MseLossBackward0>)  RMSE in test set: tensor(9.5781, grad_fn=<PowBackward0>) MAE in test set:  tensor(6.8565, grad_fn=<L1LossBackward0>)\n",
      "Time consumed is: 50.18340063095093\n"
     ]
    },
    {
     "name": "stderr",
     "output_type": "stream",
     "text": [
      "100%|██████████| 170/170 [00:52<00:00,  3.23it/s]\n"
     ]
    },
    {
     "name": "stdout",
     "output_type": "stream",
     "text": [
      "Epoch:  28  Loss:  tensor(57.4010, grad_fn=<MseLossBackward0>)  RMSE in test set: tensor(9.7754, grad_fn=<PowBackward0>) MAE in test set:  tensor(7.1403, grad_fn=<L1LossBackward0>)\n",
      "Time consumed is: 52.562363147735596\n"
     ]
    },
    {
     "name": "stderr",
     "output_type": "stream",
     "text": [
      "100%|██████████| 170/170 [00:51<00:00,  3.28it/s]\n"
     ]
    },
    {
     "name": "stdout",
     "output_type": "stream",
     "text": [
      "Epoch:  29  Loss:  tensor(122.1764, grad_fn=<MseLossBackward0>)  RMSE in test set: tensor(9.8112, grad_fn=<PowBackward0>) MAE in test set:  tensor(7.1656, grad_fn=<L1LossBackward0>)\n",
      "Time consumed is: 51.88985252380371\n"
     ]
    },
    {
     "name": "stderr",
     "output_type": "stream",
     "text": [
      "100%|██████████| 170/170 [00:52<00:00,  3.25it/s]\n"
     ]
    },
    {
     "name": "stdout",
     "output_type": "stream",
     "text": [
      "Epoch:  30  Loss:  tensor(73.9457, grad_fn=<MseLossBackward0>)  RMSE in test set: tensor(10.1367, grad_fn=<PowBackward0>) MAE in test set:  tensor(7.4640, grad_fn=<L1LossBackward0>)\n",
      "Time consumed is: 52.3895046710968\n"
     ]
    },
    {
     "name": "stderr",
     "output_type": "stream",
     "text": [
      "100%|██████████| 170/170 [00:51<00:00,  3.29it/s]\n"
     ]
    },
    {
     "name": "stdout",
     "output_type": "stream",
     "text": [
      "Epoch:  31  Loss:  tensor(63.5848, grad_fn=<MseLossBackward0>)  RMSE in test set: tensor(11.1765, grad_fn=<PowBackward0>) MAE in test set:  tensor(7.5153, grad_fn=<L1LossBackward0>)\n",
      "Time consumed is: 51.68467402458191\n"
     ]
    },
    {
     "name": "stderr",
     "output_type": "stream",
     "text": [
      "100%|██████████| 170/170 [00:51<00:00,  3.30it/s]\n"
     ]
    },
    {
     "name": "stdout",
     "output_type": "stream",
     "text": [
      "Epoch:  32  Loss:  tensor(161.4843, grad_fn=<MseLossBackward0>)  RMSE in test set: tensor(9.9824, grad_fn=<PowBackward0>) MAE in test set:  tensor(7.4067, grad_fn=<L1LossBackward0>)\n",
      "Time consumed is: 51.59160804748535\n"
     ]
    },
    {
     "name": "stderr",
     "output_type": "stream",
     "text": [
      "100%|██████████| 170/170 [00:50<00:00,  3.39it/s]\n"
     ]
    },
    {
     "name": "stdout",
     "output_type": "stream",
     "text": [
      "Epoch:  33  Loss:  tensor(212.9559, grad_fn=<MseLossBackward0>)  RMSE in test set: tensor(9.9772, grad_fn=<PowBackward0>) MAE in test set:  tensor(7.1893, grad_fn=<L1LossBackward0>)\n",
      "Time consumed is: 50.19279646873474\n"
     ]
    },
    {
     "name": "stderr",
     "output_type": "stream",
     "text": [
      "100%|██████████| 170/170 [00:52<00:00,  3.27it/s]\n"
     ]
    },
    {
     "name": "stdout",
     "output_type": "stream",
     "text": [
      "Epoch:  34  Loss:  tensor(134.5073, grad_fn=<MseLossBackward0>)  RMSE in test set: tensor(10.2231, grad_fn=<PowBackward0>) MAE in test set:  tensor(7.5042, grad_fn=<L1LossBackward0>)\n",
      "Time consumed is: 52.03231596946716\n"
     ]
    },
    {
     "name": "stderr",
     "output_type": "stream",
     "text": [
      "100%|██████████| 170/170 [00:51<00:00,  3.28it/s]\n"
     ]
    },
    {
     "name": "stdout",
     "output_type": "stream",
     "text": [
      "Epoch:  35  Loss:  tensor(149.0541, grad_fn=<MseLossBackward0>)  RMSE in test set: tensor(14.5678, grad_fn=<PowBackward0>) MAE in test set:  tensor(9.4966, grad_fn=<L1LossBackward0>)\n",
      "Time consumed is: 51.7650785446167\n"
     ]
    },
    {
     "name": "stderr",
     "output_type": "stream",
     "text": [
      "100%|██████████| 170/170 [00:51<00:00,  3.29it/s]\n"
     ]
    },
    {
     "name": "stdout",
     "output_type": "stream",
     "text": [
      "Epoch:  36  Loss:  tensor(72.1302, grad_fn=<MseLossBackward0>)  RMSE in test set: tensor(9.3769, grad_fn=<PowBackward0>) MAE in test set:  tensor(7.3511, grad_fn=<L1LossBackward0>)\n",
      "Time consumed is: 51.663925886154175\n"
     ]
    },
    {
     "name": "stderr",
     "output_type": "stream",
     "text": [
      "100%|██████████| 170/170 [00:52<00:00,  3.26it/s]\n"
     ]
    },
    {
     "name": "stdout",
     "output_type": "stream",
     "text": [
      "Epoch:  37  Loss:  tensor(44.1476, grad_fn=<MseLossBackward0>)  RMSE in test set: tensor(6.7068, grad_fn=<PowBackward0>) MAE in test set:  tensor(4.8725, grad_fn=<L1LossBackward0>)\n",
      "Time consumed is: 52.15211057662964\n"
     ]
    },
    {
     "name": "stderr",
     "output_type": "stream",
     "text": [
      "100%|██████████| 170/170 [00:51<00:00,  3.33it/s]\n"
     ]
    },
    {
     "name": "stdout",
     "output_type": "stream",
     "text": [
      "Epoch:  38  Loss:  tensor(25.7376, grad_fn=<MseLossBackward0>)  RMSE in test set: tensor(5.4791, grad_fn=<PowBackward0>) MAE in test set:  tensor(4.0054, grad_fn=<L1LossBackward0>)\n",
      "Time consumed is: 51.12670040130615\n"
     ]
    },
    {
     "name": "stderr",
     "output_type": "stream",
     "text": [
      "100%|██████████| 170/170 [00:50<00:00,  3.39it/s]\n"
     ]
    },
    {
     "name": "stdout",
     "output_type": "stream",
     "text": [
      "Epoch:  39  Loss:  tensor(13.4365, grad_fn=<MseLossBackward0>)  RMSE in test set: tensor(4.3500, grad_fn=<PowBackward0>) MAE in test set:  tensor(3.1980, grad_fn=<L1LossBackward0>)\n",
      "Time consumed is: 50.19635605812073\n"
     ]
    },
    {
     "name": "stderr",
     "output_type": "stream",
     "text": [
      "100%|██████████| 170/170 [00:52<00:00,  3.25it/s]\n"
     ]
    },
    {
     "name": "stdout",
     "output_type": "stream",
     "text": [
      "Epoch:  40  Loss:  tensor(8.6633, grad_fn=<MseLossBackward0>)  RMSE in test set: tensor(4.0404, grad_fn=<PowBackward0>) MAE in test set:  tensor(2.9866, grad_fn=<L1LossBackward0>)\n",
      "Time consumed is: 52.26159691810608\n"
     ]
    },
    {
     "name": "stderr",
     "output_type": "stream",
     "text": [
      "100%|██████████| 170/170 [00:50<00:00,  3.39it/s]\n"
     ]
    },
    {
     "name": "stdout",
     "output_type": "stream",
     "text": [
      "Epoch:  41  Loss:  tensor(11.5598, grad_fn=<MseLossBackward0>)  RMSE in test set: tensor(3.6044, grad_fn=<PowBackward0>) MAE in test set:  tensor(2.6403, grad_fn=<L1LossBackward0>)\n",
      "Time consumed is: 50.11055111885071\n"
     ]
    },
    {
     "name": "stderr",
     "output_type": "stream",
     "text": [
      "100%|██████████| 170/170 [00:51<00:00,  3.27it/s]\n"
     ]
    },
    {
     "name": "stdout",
     "output_type": "stream",
     "text": [
      "Epoch:  42  Loss:  tensor(8.2483, grad_fn=<MseLossBackward0>)  RMSE in test set: tensor(3.5670, grad_fn=<PowBackward0>) MAE in test set:  tensor(2.6106, grad_fn=<L1LossBackward0>)\n",
      "Time consumed is: 51.93719530105591\n"
     ]
    },
    {
     "name": "stderr",
     "output_type": "stream",
     "text": [
      "100%|██████████| 170/170 [00:51<00:00,  3.30it/s]\n"
     ]
    },
    {
     "name": "stdout",
     "output_type": "stream",
     "text": [
      "Epoch:  43  Loss:  tensor(11.6562, grad_fn=<MseLossBackward0>)  RMSE in test set: tensor(3.4053, grad_fn=<PowBackward0>) MAE in test set:  tensor(2.3936, grad_fn=<L1LossBackward0>)\n",
      "Time consumed is: 51.475518465042114\n"
     ]
    },
    {
     "name": "stderr",
     "output_type": "stream",
     "text": [
      "100%|██████████| 170/170 [00:51<00:00,  3.29it/s]\n"
     ]
    },
    {
     "name": "stdout",
     "output_type": "stream",
     "text": [
      "Epoch:  44  Loss:  tensor(9.1385, grad_fn=<MseLossBackward0>)  RMSE in test set: tensor(3.7106, grad_fn=<PowBackward0>) MAE in test set:  tensor(2.6082, grad_fn=<L1LossBackward0>)\n",
      "Time consumed is: 51.67078399658203\n"
     ]
    },
    {
     "name": "stderr",
     "output_type": "stream",
     "text": [
      "100%|██████████| 170/170 [00:51<00:00,  3.28it/s]\n"
     ]
    },
    {
     "name": "stdout",
     "output_type": "stream",
     "text": [
      "Epoch:  45  Loss:  tensor(15.4607, grad_fn=<MseLossBackward0>)  RMSE in test set: tensor(3.7091, grad_fn=<PowBackward0>) MAE in test set:  tensor(2.6808, grad_fn=<L1LossBackward0>)\n",
      "Time consumed is: 51.83108472824097\n"
     ]
    },
    {
     "name": "stderr",
     "output_type": "stream",
     "text": [
      "100%|██████████| 170/170 [00:52<00:00,  3.27it/s]\n"
     ]
    },
    {
     "name": "stdout",
     "output_type": "stream",
     "text": [
      "Epoch:  46  Loss:  tensor(11.1825, grad_fn=<MseLossBackward0>)  RMSE in test set: tensor(3.8487, grad_fn=<PowBackward0>) MAE in test set:  tensor(2.8587, grad_fn=<L1LossBackward0>)\n",
      "Time consumed is: 52.06854605674744\n"
     ]
    },
    {
     "name": "stderr",
     "output_type": "stream",
     "text": [
      "100%|██████████| 170/170 [00:52<00:00,  3.24it/s]\n"
     ]
    },
    {
     "name": "stdout",
     "output_type": "stream",
     "text": [
      "Epoch:  47  Loss:  tensor(10.8745, grad_fn=<MseLossBackward0>)  RMSE in test set: tensor(4.2644, grad_fn=<PowBackward0>) MAE in test set:  tensor(3.1447, grad_fn=<L1LossBackward0>)\n",
      "Time consumed is: 52.43381953239441\n"
     ]
    },
    {
     "name": "stderr",
     "output_type": "stream",
     "text": [
      "100%|██████████| 170/170 [00:52<00:00,  3.26it/s]\n"
     ]
    },
    {
     "name": "stdout",
     "output_type": "stream",
     "text": [
      "Epoch:  48  Loss:  tensor(9.2667, grad_fn=<MseLossBackward0>)  RMSE in test set: tensor(4.0355, grad_fn=<PowBackward0>) MAE in test set:  tensor(2.8605, grad_fn=<L1LossBackward0>)\n",
      "Time consumed is: 52.12200713157654\n"
     ]
    },
    {
     "name": "stderr",
     "output_type": "stream",
     "text": [
      "100%|██████████| 170/170 [00:50<00:00,  3.35it/s]\n"
     ]
    },
    {
     "name": "stdout",
     "output_type": "stream",
     "text": [
      "Epoch:  49  Loss:  tensor(9.7408, grad_fn=<MseLossBackward0>)  RMSE in test set: tensor(4.0434, grad_fn=<PowBackward0>) MAE in test set:  tensor(2.9006, grad_fn=<L1LossBackward0>)\n",
      "Time consumed is: 50.69062161445618\n"
     ]
    },
    {
     "name": "stderr",
     "output_type": "stream",
     "text": [
      "100%|██████████| 170/170 [00:52<00:00,  3.26it/s]\n"
     ]
    },
    {
     "name": "stdout",
     "output_type": "stream",
     "text": [
      "Epoch:  50  Loss:  tensor(7.5871, grad_fn=<MseLossBackward0>)  RMSE in test set: tensor(3.9139, grad_fn=<PowBackward0>) MAE in test set:  tensor(2.8349, grad_fn=<L1LossBackward0>)\n",
      "Time consumed is: 52.196139097213745\n"
     ]
    },
    {
     "name": "stderr",
     "output_type": "stream",
     "text": [
      "100%|██████████| 170/170 [00:50<00:00,  3.37it/s]\n"
     ]
    },
    {
     "name": "stdout",
     "output_type": "stream",
     "text": [
      "Epoch:  51  Loss:  tensor(9.5362, grad_fn=<MseLossBackward0>)  RMSE in test set: tensor(4.1910, grad_fn=<PowBackward0>) MAE in test set:  tensor(2.9533, grad_fn=<L1LossBackward0>)\n",
      "Time consumed is: 50.46159768104553\n"
     ]
    },
    {
     "name": "stderr",
     "output_type": "stream",
     "text": [
      "100%|██████████| 170/170 [00:52<00:00,  3.27it/s]\n"
     ]
    },
    {
     "name": "stdout",
     "output_type": "stream",
     "text": [
      "Epoch:  52  Loss:  tensor(9.8430, grad_fn=<MseLossBackward0>)  RMSE in test set: tensor(3.9122, grad_fn=<PowBackward0>) MAE in test set:  tensor(2.7474, grad_fn=<L1LossBackward0>)\n",
      "Time consumed is: 52.059770345687866\n"
     ]
    },
    {
     "name": "stderr",
     "output_type": "stream",
     "text": [
      "100%|██████████| 170/170 [00:51<00:00,  3.32it/s]\n"
     ]
    },
    {
     "name": "stdout",
     "output_type": "stream",
     "text": [
      "Epoch:  53  Loss:  tensor(10.8063, grad_fn=<MseLossBackward0>)  RMSE in test set: tensor(4.6040, grad_fn=<PowBackward0>) MAE in test set:  tensor(3.3359, grad_fn=<L1LossBackward0>)\n",
      "Time consumed is: 51.17301368713379\n"
     ]
    },
    {
     "name": "stderr",
     "output_type": "stream",
     "text": [
      "100%|██████████| 170/170 [00:51<00:00,  3.30it/s]\n"
     ]
    },
    {
     "name": "stdout",
     "output_type": "stream",
     "text": [
      "Epoch:  54  Loss:  tensor(17.2376, grad_fn=<MseLossBackward0>)  RMSE in test set: tensor(4.5761, grad_fn=<PowBackward0>) MAE in test set:  tensor(3.3113, grad_fn=<L1LossBackward0>)\n",
      "Time consumed is: 51.529112815856934\n"
     ]
    },
    {
     "name": "stderr",
     "output_type": "stream",
     "text": [
      "100%|██████████| 170/170 [00:51<00:00,  3.31it/s]\n"
     ]
    },
    {
     "name": "stdout",
     "output_type": "stream",
     "text": [
      "Epoch:  55  Loss:  tensor(7.2794, grad_fn=<MseLossBackward0>)  RMSE in test set: tensor(3.4550, grad_fn=<PowBackward0>) MAE in test set:  tensor(2.5709, grad_fn=<L1LossBackward0>)\n",
      "Time consumed is: 51.300580978393555\n"
     ]
    },
    {
     "name": "stderr",
     "output_type": "stream",
     "text": [
      "100%|██████████| 170/170 [00:51<00:00,  3.31it/s]\n"
     ]
    },
    {
     "name": "stdout",
     "output_type": "stream",
     "text": [
      "Epoch:  56  Loss:  tensor(3.4595, grad_fn=<MseLossBackward0>)  RMSE in test set: tensor(2.6226, grad_fn=<PowBackward0>) MAE in test set:  tensor(1.9359, grad_fn=<L1LossBackward0>)\n",
      "Time consumed is: 51.319101333618164\n"
     ]
    },
    {
     "name": "stderr",
     "output_type": "stream",
     "text": [
      "100%|██████████| 170/170 [00:51<00:00,  3.33it/s]\n"
     ]
    },
    {
     "name": "stdout",
     "output_type": "stream",
     "text": [
      "Epoch:  57  Loss:  tensor(2.9969, grad_fn=<MseLossBackward0>)  RMSE in test set: tensor(2.4546, grad_fn=<PowBackward0>) MAE in test set:  tensor(1.7713, grad_fn=<L1LossBackward0>)\n",
      "Time consumed is: 51.06910991668701\n"
     ]
    },
    {
     "name": "stderr",
     "output_type": "stream",
     "text": [
      "100%|██████████| 170/170 [00:52<00:00,  3.26it/s]\n"
     ]
    },
    {
     "name": "stdout",
     "output_type": "stream",
     "text": [
      "Epoch:  58  Loss:  tensor(2.4132, grad_fn=<MseLossBackward0>)  RMSE in test set: tensor(2.3545, grad_fn=<PowBackward0>) MAE in test set:  tensor(1.6823, grad_fn=<L1LossBackward0>)\n",
      "Time consumed is: 52.16419768333435\n"
     ]
    },
    {
     "name": "stderr",
     "output_type": "stream",
     "text": [
      "100%|██████████| 170/170 [00:51<00:00,  3.32it/s]\n"
     ]
    },
    {
     "name": "stdout",
     "output_type": "stream",
     "text": [
      "Epoch:  59  Loss:  tensor(2.1554, grad_fn=<MseLossBackward0>)  RMSE in test set: tensor(2.2793, grad_fn=<PowBackward0>) MAE in test set:  tensor(1.6233, grad_fn=<L1LossBackward0>)\n",
      "Time consumed is: 51.21933364868164\n"
     ]
    },
    {
     "name": "stderr",
     "output_type": "stream",
     "text": [
      "100%|██████████| 170/170 [00:51<00:00,  3.28it/s]\n"
     ]
    },
    {
     "name": "stdout",
     "output_type": "stream",
     "text": [
      "Epoch:  60  Loss:  tensor(1.8878, grad_fn=<MseLossBackward0>)  RMSE in test set: tensor(2.2464, grad_fn=<PowBackward0>) MAE in test set:  tensor(1.5985, grad_fn=<L1LossBackward0>)\n",
      "Time consumed is: 51.83871388435364\n"
     ]
    },
    {
     "name": "stderr",
     "output_type": "stream",
     "text": [
      "100%|██████████| 170/170 [00:52<00:00,  3.25it/s]\n"
     ]
    },
    {
     "name": "stdout",
     "output_type": "stream",
     "text": [
      "Epoch:  61  Loss:  tensor(1.8936, grad_fn=<MseLossBackward0>)  RMSE in test set: tensor(2.2008, grad_fn=<PowBackward0>) MAE in test set:  tensor(1.5926, grad_fn=<L1LossBackward0>)\n",
      "Time consumed is: 52.35225701332092\n"
     ]
    },
    {
     "name": "stderr",
     "output_type": "stream",
     "text": [
      "100%|██████████| 170/170 [00:51<00:00,  3.32it/s]\n"
     ]
    },
    {
     "name": "stdout",
     "output_type": "stream",
     "text": [
      "Epoch:  62  Loss:  tensor(2.1029, grad_fn=<MseLossBackward0>)  RMSE in test set: tensor(2.1203, grad_fn=<PowBackward0>) MAE in test set:  tensor(1.5643, grad_fn=<L1LossBackward0>)\n",
      "Time consumed is: 51.21239757537842\n"
     ]
    },
    {
     "name": "stderr",
     "output_type": "stream",
     "text": [
      "100%|██████████| 170/170 [00:50<00:00,  3.34it/s]\n"
     ]
    },
    {
     "name": "stdout",
     "output_type": "stream",
     "text": [
      "Epoch:  63  Loss:  tensor(2.1857, grad_fn=<MseLossBackward0>)  RMSE in test set: tensor(2.1005, grad_fn=<PowBackward0>) MAE in test set:  tensor(1.5511, grad_fn=<L1LossBackward0>)\n",
      "Time consumed is: 50.938753843307495\n"
     ]
    },
    {
     "name": "stderr",
     "output_type": "stream",
     "text": [
      "100%|██████████| 170/170 [00:51<00:00,  3.30it/s]\n"
     ]
    },
    {
     "name": "stdout",
     "output_type": "stream",
     "text": [
      "Epoch:  64  Loss:  tensor(3.2635, grad_fn=<MseLossBackward0>)  RMSE in test set: tensor(2.1270, grad_fn=<PowBackward0>) MAE in test set:  tensor(1.5750, grad_fn=<L1LossBackward0>)\n",
      "Time consumed is: 51.586880683898926\n"
     ]
    },
    {
     "name": "stderr",
     "output_type": "stream",
     "text": [
      "100%|██████████| 170/170 [00:51<00:00,  3.31it/s]\n"
     ]
    },
    {
     "name": "stdout",
     "output_type": "stream",
     "text": [
      "Epoch:  65  Loss:  tensor(2.6587, grad_fn=<MseLossBackward0>)  RMSE in test set: tensor(2.2530, grad_fn=<PowBackward0>) MAE in test set:  tensor(1.6510, grad_fn=<L1LossBackward0>)\n",
      "Time consumed is: 51.409085273742676\n"
     ]
    },
    {
     "name": "stderr",
     "output_type": "stream",
     "text": [
      "100%|██████████| 170/170 [00:53<00:00,  3.20it/s]\n"
     ]
    },
    {
     "name": "stdout",
     "output_type": "stream",
     "text": [
      "Epoch:  66  Loss:  tensor(4.5045, grad_fn=<MseLossBackward0>)  RMSE in test set: tensor(2.4143, grad_fn=<PowBackward0>) MAE in test set:  tensor(1.7286, grad_fn=<L1LossBackward0>)\n",
      "Time consumed is: 53.05242085456848\n"
     ]
    },
    {
     "name": "stderr",
     "output_type": "stream",
     "text": [
      "100%|██████████| 170/170 [00:51<00:00,  3.29it/s]\n"
     ]
    },
    {
     "name": "stdout",
     "output_type": "stream",
     "text": [
      "Epoch:  67  Loss:  tensor(5.2305, grad_fn=<MseLossBackward0>)  RMSE in test set: tensor(2.4903, grad_fn=<PowBackward0>) MAE in test set:  tensor(1.7783, grad_fn=<L1LossBackward0>)\n",
      "Time consumed is: 51.67612648010254\n"
     ]
    },
    {
     "name": "stderr",
     "output_type": "stream",
     "text": [
      "100%|██████████| 170/170 [00:52<00:00,  3.23it/s]\n"
     ]
    },
    {
     "name": "stdout",
     "output_type": "stream",
     "text": [
      "Epoch:  68  Loss:  tensor(5.1113, grad_fn=<MseLossBackward0>)  RMSE in test set: tensor(2.5971, grad_fn=<PowBackward0>) MAE in test set:  tensor(1.9490, grad_fn=<L1LossBackward0>)\n",
      "Time consumed is: 52.59566855430603\n"
     ]
    },
    {
     "name": "stderr",
     "output_type": "stream",
     "text": [
      "100%|██████████| 170/170 [00:51<00:00,  3.33it/s]\n"
     ]
    },
    {
     "name": "stdout",
     "output_type": "stream",
     "text": [
      "Epoch:  69  Loss:  tensor(3.8409, grad_fn=<MseLossBackward0>)  RMSE in test set: tensor(2.4658, grad_fn=<PowBackward0>) MAE in test set:  tensor(1.7763, grad_fn=<L1LossBackward0>)\n",
      "Time consumed is: 51.11539936065674\n"
     ]
    },
    {
     "name": "stderr",
     "output_type": "stream",
     "text": [
      "100%|██████████| 170/170 [00:52<00:00,  3.25it/s]\n"
     ]
    },
    {
     "name": "stdout",
     "output_type": "stream",
     "text": [
      "Epoch:  70  Loss:  tensor(3.7284, grad_fn=<MseLossBackward0>)  RMSE in test set: tensor(2.8005, grad_fn=<PowBackward0>) MAE in test set:  tensor(2.1160, grad_fn=<L1LossBackward0>)\n",
      "Time consumed is: 52.29410791397095\n"
     ]
    },
    {
     "name": "stderr",
     "output_type": "stream",
     "text": [
      "100%|██████████| 170/170 [00:51<00:00,  3.32it/s]\n"
     ]
    },
    {
     "name": "stdout",
     "output_type": "stream",
     "text": [
      "Epoch:  71  Loss:  tensor(4.8667, grad_fn=<MseLossBackward0>)  RMSE in test set: tensor(2.5878, grad_fn=<PowBackward0>) MAE in test set:  tensor(1.9121, grad_fn=<L1LossBackward0>)\n",
      "Time consumed is: 51.17709755897522\n"
     ]
    },
    {
     "name": "stderr",
     "output_type": "stream",
     "text": [
      "100%|██████████| 170/170 [00:52<00:00,  3.25it/s]\n"
     ]
    },
    {
     "name": "stdout",
     "output_type": "stream",
     "text": [
      "Epoch:  72  Loss:  tensor(2.8729, grad_fn=<MseLossBackward0>)  RMSE in test set: tensor(2.1359, grad_fn=<PowBackward0>) MAE in test set:  tensor(1.5685, grad_fn=<L1LossBackward0>)\n",
      "Time consumed is: 52.26631236076355\n"
     ]
    },
    {
     "name": "stderr",
     "output_type": "stream",
     "text": [
      "100%|██████████| 170/170 [00:50<00:00,  3.36it/s]\n"
     ]
    },
    {
     "name": "stdout",
     "output_type": "stream",
     "text": [
      "Epoch:  73  Loss:  tensor(2.8308, grad_fn=<MseLossBackward0>)  RMSE in test set: tensor(2.1175, grad_fn=<PowBackward0>) MAE in test set:  tensor(1.5157, grad_fn=<L1LossBackward0>)\n",
      "Time consumed is: 50.574804067611694\n"
     ]
    },
    {
     "name": "stderr",
     "output_type": "stream",
     "text": [
      "100%|██████████| 170/170 [00:51<00:00,  3.30it/s]\n"
     ]
    },
    {
     "name": "stdout",
     "output_type": "stream",
     "text": [
      "Epoch:  74  Loss:  tensor(1.9920, grad_fn=<MseLossBackward0>)  RMSE in test set: tensor(2.3900, grad_fn=<PowBackward0>) MAE in test set:  tensor(1.7645, grad_fn=<L1LossBackward0>)\n",
      "Time consumed is: 51.51672339439392\n"
     ]
    },
    {
     "name": "stderr",
     "output_type": "stream",
     "text": [
      "100%|██████████| 170/170 [00:52<00:00,  3.26it/s]\n"
     ]
    },
    {
     "name": "stdout",
     "output_type": "stream",
     "text": [
      "Epoch:  75  Loss:  tensor(1.4539, grad_fn=<MseLossBackward0>)  RMSE in test set: tensor(1.9401, grad_fn=<PowBackward0>) MAE in test set:  tensor(1.4305, grad_fn=<L1LossBackward0>)\n",
      "Time consumed is: 52.089529275894165\n"
     ]
    },
    {
     "name": "stderr",
     "output_type": "stream",
     "text": [
      "100%|██████████| 170/170 [00:51<00:00,  3.29it/s]\n"
     ]
    },
    {
     "name": "stdout",
     "output_type": "stream",
     "text": [
      "Epoch:  76  Loss:  tensor(1.3696, grad_fn=<MseLossBackward0>)  RMSE in test set: tensor(1.6133, grad_fn=<PowBackward0>) MAE in test set:  tensor(1.1686, grad_fn=<L1LossBackward0>)\n",
      "Time consumed is: 51.74140501022339\n"
     ]
    },
    {
     "name": "stderr",
     "output_type": "stream",
     "text": [
      "100%|██████████| 170/170 [00:51<00:00,  3.29it/s]\n"
     ]
    },
    {
     "name": "stdout",
     "output_type": "stream",
     "text": [
      "Epoch:  77  Loss:  tensor(1.2035, grad_fn=<MseLossBackward0>)  RMSE in test set: tensor(1.5641, grad_fn=<PowBackward0>) MAE in test set:  tensor(1.1554, grad_fn=<L1LossBackward0>)\n",
      "Time consumed is: 51.72921180725098\n"
     ]
    },
    {
     "name": "stderr",
     "output_type": "stream",
     "text": [
      "100%|██████████| 170/170 [00:52<00:00,  3.24it/s]\n"
     ]
    },
    {
     "name": "stdout",
     "output_type": "stream",
     "text": [
      "Epoch:  78  Loss:  tensor(1.1364, grad_fn=<MseLossBackward0>)  RMSE in test set: tensor(1.5604, grad_fn=<PowBackward0>) MAE in test set:  tensor(1.1646, grad_fn=<L1LossBackward0>)\n",
      "Time consumed is: 52.535478591918945\n"
     ]
    },
    {
     "name": "stderr",
     "output_type": "stream",
     "text": [
      "100%|██████████| 170/170 [00:51<00:00,  3.33it/s]\n"
     ]
    },
    {
     "name": "stdout",
     "output_type": "stream",
     "text": [
      "Epoch:  79  Loss:  tensor(1.0841, grad_fn=<MseLossBackward0>)  RMSE in test set: tensor(1.5488, grad_fn=<PowBackward0>) MAE in test set:  tensor(1.1649, grad_fn=<L1LossBackward0>)\n",
      "Time consumed is: 51.087340354919434\n"
     ]
    },
    {
     "name": "stderr",
     "output_type": "stream",
     "text": [
      "100%|██████████| 170/170 [00:50<00:00,  3.34it/s]\n"
     ]
    },
    {
     "name": "stdout",
     "output_type": "stream",
     "text": [
      "Epoch:  80  Loss:  tensor(1.0475, grad_fn=<MseLossBackward0>)  RMSE in test set: tensor(1.5124, grad_fn=<PowBackward0>) MAE in test set:  tensor(1.1368, grad_fn=<L1LossBackward0>)\n",
      "Time consumed is: 50.843286752700806\n"
     ]
    },
    {
     "name": "stderr",
     "output_type": "stream",
     "text": [
      "100%|██████████| 170/170 [00:51<00:00,  3.28it/s]\n"
     ]
    },
    {
     "name": "stdout",
     "output_type": "stream",
     "text": [
      "Epoch:  81  Loss:  tensor(1.0175, grad_fn=<MseLossBackward0>)  RMSE in test set: tensor(1.5144, grad_fn=<PowBackward0>) MAE in test set:  tensor(1.1508, grad_fn=<L1LossBackward0>)\n",
      "Time consumed is: 51.81050133705139\n"
     ]
    },
    {
     "name": "stderr",
     "output_type": "stream",
     "text": [
      "100%|██████████| 170/170 [00:51<00:00,  3.33it/s]\n"
     ]
    },
    {
     "name": "stdout",
     "output_type": "stream",
     "text": [
      "Epoch:  82  Loss:  tensor(1.0045, grad_fn=<MseLossBackward0>)  RMSE in test set: tensor(1.4915, grad_fn=<PowBackward0>) MAE in test set:  tensor(1.1382, grad_fn=<L1LossBackward0>)\n",
      "Time consumed is: 51.13778567314148\n"
     ]
    },
    {
     "name": "stderr",
     "output_type": "stream",
     "text": [
      "100%|██████████| 170/170 [00:51<00:00,  3.28it/s]\n"
     ]
    },
    {
     "name": "stdout",
     "output_type": "stream",
     "text": [
      "Epoch:  83  Loss:  tensor(1.0106, grad_fn=<MseLossBackward0>)  RMSE in test set: tensor(1.4844, grad_fn=<PowBackward0>) MAE in test set:  tensor(1.1467, grad_fn=<L1LossBackward0>)\n",
      "Time consumed is: 51.78169226646423\n"
     ]
    },
    {
     "name": "stderr",
     "output_type": "stream",
     "text": [
      "100%|██████████| 170/170 [00:51<00:00,  3.29it/s]\n"
     ]
    },
    {
     "name": "stdout",
     "output_type": "stream",
     "text": [
      "Epoch:  84  Loss:  tensor(1.0486, grad_fn=<MseLossBackward0>)  RMSE in test set: tensor(1.4586, grad_fn=<PowBackward0>) MAE in test set:  tensor(1.1273, grad_fn=<L1LossBackward0>)\n",
      "Time consumed is: 51.64582347869873\n"
     ]
    },
    {
     "name": "stderr",
     "output_type": "stream",
     "text": [
      "100%|██████████| 170/170 [00:51<00:00,  3.32it/s]\n"
     ]
    },
    {
     "name": "stdout",
     "output_type": "stream",
     "text": [
      "Epoch:  85  Loss:  tensor(1.1179, grad_fn=<MseLossBackward0>)  RMSE in test set: tensor(1.4332, grad_fn=<PowBackward0>) MAE in test set:  tensor(1.1208, grad_fn=<L1LossBackward0>)\n",
      "Time consumed is: 51.173001289367676\n"
     ]
    },
    {
     "name": "stderr",
     "output_type": "stream",
     "text": [
      "100%|██████████| 170/170 [00:51<00:00,  3.30it/s]\n"
     ]
    },
    {
     "name": "stdout",
     "output_type": "stream",
     "text": [
      "Epoch:  86  Loss:  tensor(1.0514, grad_fn=<MseLossBackward0>)  RMSE in test set: tensor(1.4725, grad_fn=<PowBackward0>) MAE in test set:  tensor(1.1377, grad_fn=<L1LossBackward0>)\n",
      "Time consumed is: 51.468032121658325\n"
     ]
    },
    {
     "name": "stderr",
     "output_type": "stream",
     "text": [
      "100%|██████████| 170/170 [00:51<00:00,  3.28it/s]\n"
     ]
    },
    {
     "name": "stdout",
     "output_type": "stream",
     "text": [
      "Epoch:  87  Loss:  tensor(1.4347, grad_fn=<MseLossBackward0>)  RMSE in test set: tensor(1.4993, grad_fn=<PowBackward0>) MAE in test set:  tensor(1.1680, grad_fn=<L1LossBackward0>)\n",
      "Time consumed is: 51.891560554504395\n"
     ]
    },
    {
     "name": "stderr",
     "output_type": "stream",
     "text": [
      "100%|██████████| 170/170 [00:51<00:00,  3.33it/s]\n"
     ]
    },
    {
     "name": "stdout",
     "output_type": "stream",
     "text": [
      "Epoch:  88  Loss:  tensor(2.2141, grad_fn=<MseLossBackward0>)  RMSE in test set: tensor(1.6342, grad_fn=<PowBackward0>) MAE in test set:  tensor(1.2747, grad_fn=<L1LossBackward0>)\n",
      "Time consumed is: 51.12298822402954\n"
     ]
    },
    {
     "name": "stderr",
     "output_type": "stream",
     "text": [
      "100%|██████████| 170/170 [00:51<00:00,  3.30it/s]\n"
     ]
    },
    {
     "name": "stdout",
     "output_type": "stream",
     "text": [
      "Epoch:  89  Loss:  tensor(3.0489, grad_fn=<MseLossBackward0>)  RMSE in test set: tensor(1.8688, grad_fn=<PowBackward0>) MAE in test set:  tensor(1.4810, grad_fn=<L1LossBackward0>)\n",
      "Time consumed is: 51.46136951446533\n"
     ]
    },
    {
     "name": "stderr",
     "output_type": "stream",
     "text": [
      "100%|██████████| 170/170 [00:51<00:00,  3.29it/s]\n"
     ]
    },
    {
     "name": "stdout",
     "output_type": "stream",
     "text": [
      "Epoch:  90  Loss:  tensor(2.2731, grad_fn=<MseLossBackward0>)  RMSE in test set: tensor(1.6792, grad_fn=<PowBackward0>) MAE in test set:  tensor(1.2218, grad_fn=<L1LossBackward0>)\n",
      "Time consumed is: 51.67621970176697\n"
     ]
    },
    {
     "name": "stderr",
     "output_type": "stream",
     "text": [
      "100%|██████████| 170/170 [00:51<00:00,  3.31it/s]\n"
     ]
    },
    {
     "name": "stdout",
     "output_type": "stream",
     "text": [
      "Epoch:  91  Loss:  tensor(1.9359, grad_fn=<MseLossBackward0>)  RMSE in test set: tensor(1.8451, grad_fn=<PowBackward0>) MAE in test set:  tensor(1.4412, grad_fn=<L1LossBackward0>)\n",
      "Time consumed is: 51.294289350509644\n"
     ]
    },
    {
     "name": "stderr",
     "output_type": "stream",
     "text": [
      "100%|██████████| 170/170 [00:51<00:00,  3.31it/s]\n"
     ]
    },
    {
     "name": "stdout",
     "output_type": "stream",
     "text": [
      "Epoch:  92  Loss:  tensor(2.1178, grad_fn=<MseLossBackward0>)  RMSE in test set: tensor(1.5484, grad_fn=<PowBackward0>) MAE in test set:  tensor(1.1110, grad_fn=<L1LossBackward0>)\n",
      "Time consumed is: 51.31168293952942\n"
     ]
    },
    {
     "name": "stderr",
     "output_type": "stream",
     "text": [
      "100%|██████████| 170/170 [00:52<00:00,  3.22it/s]\n"
     ]
    },
    {
     "name": "stdout",
     "output_type": "stream",
     "text": [
      "Epoch:  93  Loss:  tensor(1.2396, grad_fn=<MseLossBackward0>)  RMSE in test set: tensor(1.4066, grad_fn=<PowBackward0>) MAE in test set:  tensor(1.0901, grad_fn=<L1LossBackward0>)\n",
      "Time consumed is: 52.81231331825256\n"
     ]
    },
    {
     "name": "stderr",
     "output_type": "stream",
     "text": [
      "100%|██████████| 170/170 [00:51<00:00,  3.32it/s]\n"
     ]
    },
    {
     "name": "stdout",
     "output_type": "stream",
     "text": [
      "Epoch:  94  Loss:  tensor(1.3993, grad_fn=<MseLossBackward0>)  RMSE in test set: tensor(1.5021, grad_fn=<PowBackward0>) MAE in test set:  tensor(1.1453, grad_fn=<L1LossBackward0>)\n",
      "Time consumed is: 51.21492338180542\n"
     ]
    },
    {
     "name": "stderr",
     "output_type": "stream",
     "text": [
      "100%|██████████| 170/170 [00:51<00:00,  3.28it/s]\n"
     ]
    },
    {
     "name": "stdout",
     "output_type": "stream",
     "text": [
      "Epoch:  95  Loss:  tensor(1.6376, grad_fn=<MseLossBackward0>)  RMSE in test set: tensor(1.4659, grad_fn=<PowBackward0>) MAE in test set:  tensor(1.1385, grad_fn=<L1LossBackward0>)\n",
      "Time consumed is: 51.836605072021484\n"
     ]
    },
    {
     "name": "stderr",
     "output_type": "stream",
     "text": [
      "100%|██████████| 170/170 [00:51<00:00,  3.27it/s]\n"
     ]
    },
    {
     "name": "stdout",
     "output_type": "stream",
     "text": [
      "Epoch:  96  Loss:  tensor(1.7166, grad_fn=<MseLossBackward0>)  RMSE in test set: tensor(1.4436, grad_fn=<PowBackward0>) MAE in test set:  tensor(1.1100, grad_fn=<L1LossBackward0>)\n",
      "Time consumed is: 51.955684185028076\n"
     ]
    },
    {
     "name": "stderr",
     "output_type": "stream",
     "text": [
      "100%|██████████| 170/170 [00:52<00:00,  3.25it/s]\n"
     ]
    },
    {
     "name": "stdout",
     "output_type": "stream",
     "text": [
      "Epoch:  97  Loss:  tensor(1.5817, grad_fn=<MseLossBackward0>)  RMSE in test set: tensor(1.5157, grad_fn=<PowBackward0>) MAE in test set:  tensor(1.1463, grad_fn=<L1LossBackward0>)\n",
      "Time consumed is: 52.239028215408325\n"
     ]
    },
    {
     "name": "stderr",
     "output_type": "stream",
     "text": [
      "100%|██████████| 170/170 [00:52<00:00,  3.27it/s]\n"
     ]
    },
    {
     "name": "stdout",
     "output_type": "stream",
     "text": [
      "Epoch:  98  Loss:  tensor(2.8691, grad_fn=<MseLossBackward0>)  RMSE in test set: tensor(1.8320, grad_fn=<PowBackward0>) MAE in test set:  tensor(1.5013, grad_fn=<L1LossBackward0>)\n",
      "Time consumed is: 52.06706166267395\n"
     ]
    },
    {
     "name": "stderr",
     "output_type": "stream",
     "text": [
      "100%|██████████| 170/170 [00:52<00:00,  3.22it/s]\n"
     ]
    },
    {
     "name": "stdout",
     "output_type": "stream",
     "text": [
      "Epoch:  99  Loss:  tensor(1.9548, grad_fn=<MseLossBackward0>)  RMSE in test set: tensor(1.6011, grad_fn=<PowBackward0>) MAE in test set:  tensor(1.3120, grad_fn=<L1LossBackward0>)\n",
      "Time consumed is: 52.790919065475464\n"
     ]
    }
   ],
   "source": [
    "rate = 0.2\n",
    "lrs = [1e-2]\n",
    "dims = [32]\n",
    "regs = [1e-5,1e-6]\n",
    "batch_sizes = [128,512]\n",
    "num_epochs = 100\n",
    "DEVICE = \"cuda\" if torch.cuda.is_available() else \"cpu\"\n",
    "res_reg, models_reg = grid(lrs,dims,regs,batch_sizes,num_epochs,hehe_test,df_empty)"
   ]
  },
  {
   "cell_type": "code",
   "execution_count": null,
   "metadata": {},
   "outputs": [],
   "source": []
  },
  {
   "cell_type": "code",
   "execution_count": null,
   "metadata": {},
   "outputs": [],
   "source": []
  }
 ],
 "metadata": {
  "kernelspec": {
   "display_name": "Python 3",
   "language": "python",
   "name": "python3"
  },
  "language_info": {
   "codemirror_mode": {
    "name": "ipython",
    "version": 3
   },
   "file_extension": ".py",
   "mimetype": "text/x-python",
   "name": "python",
   "nbconvert_exporter": "python",
   "pygments_lexer": "ipython3",
   "version": "3.8.3"
  }
 },
 "nbformat": 4,
 "nbformat_minor": 4
}
