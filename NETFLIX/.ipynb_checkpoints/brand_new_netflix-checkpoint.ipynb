{
 "cells": [
  {
   "cell_type": "code",
   "execution_count": 1,
   "metadata": {},
   "outputs": [],
   "source": [
    "import pickle\n",
    "import pandas as pd\n",
    "import torch\n",
    "from torch import nn\n",
    "from sklearn.preprocessing import LabelEncoder\n",
    "from concurrent.futures import ProcessPoolExecutor\n",
    "import numpy as np\n",
    "from operator import itemgetter\n",
    "THREADS = 16\n",
    "from sklearn.metrics import precision_score\n",
    "from sklearn.metrics import recall_score\n",
    "from sklearn.metrics import f1_score\n",
    "import time\n",
    "import torch.nn.functional as F\n",
    "loss_func = torch.nn.MSELoss()"
   ]
  },
  {
   "cell_type": "code",
   "execution_count": 2,
   "metadata": {},
   "outputs": [],
   "source": [
    "ratings = pd.read_pickle('movie_ratings_500_id.pkl')\n",
    "films = pd.read_pickle('movie_metadata.pkl')"
   ]
  },
  {
   "cell_type": "code",
   "execution_count": null,
   "metadata": {},
   "outputs": [],
   "source": []
  },
  {
   "cell_type": "code",
   "execution_count": null,
   "metadata": {},
   "outputs": [],
   "source": []
  },
  {
   "cell_type": "code",
   "execution_count": null,
   "metadata": {},
   "outputs": [],
   "source": []
  },
  {
   "cell_type": "code",
   "execution_count": 3,
   "metadata": {},
   "outputs": [],
   "source": [
    "row = []\n",
    "for mid,haha in ratings.items():\n",
    "    for info in haha:\n",
    "        info['movie'] = mid\n",
    "        row.append(info)\n",
    "df_ratings = pd.DataFrame(row)\n",
    "\n",
    "\n",
    "row = []\n",
    "for mid,haha in films.items():\n",
    "    haha['movie'] = mid\n",
    "    row.append(haha)\n",
    "df_movie = pd.DataFrame(row)"
   ]
  },
  {
   "cell_type": "code",
   "execution_count": 11,
   "metadata": {},
   "outputs": [],
   "source": [
    "DEVICE = \"cuda\" if torch.cuda.is_available() else \"cpu\""
   ]
  },
  {
   "cell_type": "code",
   "execution_count": 5,
   "metadata": {},
   "outputs": [],
   "source": [
    "final = pd.merge(df_movie,df_ratings,on='movie')\n",
    "a = final['user_id'].value_counts()[final['user_id'].value_counts() >= 10]\n",
    "final = final[final['user_id'].isin(list(a.index))]\n",
    "final.index = range(len(final))\n",
    "hehe = final.copy()\n",
    "del hehe['title']\n",
    "del hehe['user_rating_date']"
   ]
  },
  {
   "cell_type": "code",
   "execution_count": 6,
   "metadata": {},
   "outputs": [],
   "source": [
    "movie = dict()\n",
    "for i in range(df_movie.shape[0]):\n",
    "    m = df_movie['movie'][i]\n",
    "    movie.setdefault(m,dict())\n",
    "    movie[m]['director'] = df_movie['director'][i]\n",
    "    movie[m]['genre'] = df_movie['genre'][i]\n",
    "    movie[m]['actors'] = df_movie['actors'][i]\n",
    "    movie[m]['title'] = df_movie['title'][i]"
   ]
  },
  {
   "cell_type": "code",
   "execution_count": 7,
   "metadata": {},
   "outputs": [],
   "source": [
    "def map_aspect_values_to_movies(x):\n",
    "    (film, meta), aspect = x\n",
    "    aspects = dict()\n",
    "    if aspect == \"director\":\n",
    "        aspects[meta[aspect]] = 1\n",
    "    else:\n",
    "        for g in meta[aspect]:\n",
    "            aspects[g] = 1\n",
    "    return film, meta, aspects\n",
    "\n",
    "\n",
    "def dict_movie_aspect(paper_films, aspect):\n",
    "    paper_films_aspect_prepended = map(\n",
    "        lambda e: (e, aspect), list(paper_films.items()))\n",
    "    aspect_dict = dict()\n",
    "    with ProcessPoolExecutor(max_workers=THREADS) as executor:\n",
    "        results = executor.map(map_aspect_values_to_movies,\n",
    "                               paper_films_aspect_prepended)\n",
    "    for film, meta, aspects in results:\n",
    "        aspect_dict[film + \"_\" + meta[\"title\"]] = aspects\n",
    "    return aspect_dict"
   ]
  },
  {
   "cell_type": "code",
   "execution_count": 8,
   "metadata": {},
   "outputs": [],
   "source": [
    "movie_genres = dict_movie_aspect(movie, \"genre\")\n",
    "movie_directors = dict_movie_aspect(movie,'director')\n",
    "movie_actors = dict_movie_aspect(movie,'actors')\n",
    "actors = pd.DataFrame.from_dict(movie_actors,dtype = 'int64',orient = 'index').T.replace(np.nan, 0).index\n",
    "directors = pd.DataFrame.from_dict(movie_directors,dtype = 'int64',orient = 'index').T.replace(np.nan, 0).index\n",
    "genres = pd.DataFrame.from_dict(movie_genres,dtype = 'int64',orient = 'index').T.replace(np.nan, 0).index"
   ]
  },
  {
   "cell_type": "code",
   "execution_count": 9,
   "metadata": {},
   "outputs": [],
   "source": [
    "actors_dict = dict(zip(actors, range(len(actors))))\n",
    "directors_dict = dict(zip(directors, range(\n",
    "    len(actors), len(actors) + len(directors))))\n",
    "genres_dict = dict(zip(genres, range(\n",
    "    len(actors) + len(directors), len(actors) + len(directors) + len(genres))))\n",
    "# max(actors_dict.values()),max(directors_dict.values()),max(genres_dict.values())"
   ]
  },
  {
   "cell_type": "code",
   "execution_count": 10,
   "metadata": {},
   "outputs": [],
   "source": [
    "def change_director(x):\n",
    "    return [itemgetter(x)(directors_dict)]\n",
    "\n",
    "\n",
    "def change_actor(x):\n",
    "    return change_list((itemgetter(*x)(actors_dict)))\n",
    "\n",
    "\n",
    "def change_genre(x):\n",
    "    qunima = itemgetter(*x)(genres_dict)\n",
    "    if type(qunima) == int:\n",
    "        return [qunima]\n",
    "    else:\n",
    "        return change_list(qunima)\n",
    "\n",
    "\n",
    "def change_list(x):\n",
    "    return list(x)"
   ]
  },
  {
   "cell_type": "code",
   "execution_count": 11,
   "metadata": {},
   "outputs": [],
   "source": [
    "hehe['director'] = hehe['director'].map(change_director)\n",
    "hehe['actors'] = hehe['actors'].map(change_actor)\n",
    "hehe['genre'] = hehe['genre'].map(change_genre)"
   ]
  },
  {
   "cell_type": "code",
   "execution_count": 12,
   "metadata": {},
   "outputs": [],
   "source": [
    "hehe = hehe[['user_id','movie','actors','director','genre','user_rating']]\n",
    "hehe['user_rating'] = hehe['user_rating'].astype('float')"
   ]
  },
  {
   "cell_type": "code",
   "execution_count": 13,
   "metadata": {},
   "outputs": [],
   "source": [
    "le = LabelEncoder()\n",
    "y = le.fit_transform(hehe['user_id'])\n",
    "hehe['user_id'] = y\n",
    "\n",
    "y = le.fit_transform(hehe['movie'])\n",
    "hehe['movie'] = y\n"
   ]
  },
  {
   "cell_type": "code",
   "execution_count": 14,
   "metadata": {},
   "outputs": [
    {
     "name": "stdout",
     "output_type": "stream",
     "text": [
      "The number of aspects is 1154\n",
      "The number of users is 5128\n"
     ]
    }
   ],
   "source": [
    "print(\"The number of aspects is {}\".format(max(genres_dict.values()) + 1))\n",
    "print(\"The number of users is {}\".format(max(hehe['user_id'])+1))"
   ]
  },
  {
   "cell_type": "code",
   "execution_count": 15,
   "metadata": {},
   "outputs": [
    {
     "name": "stdout",
     "output_type": "stream",
     "text": [
      "The number of items is 528\n"
     ]
    }
   ],
   "source": [
    "print(\"The number of items is {}\".format(len(hehe['movie'].value_counts())))"
   ]
  },
  {
   "cell_type": "code",
   "execution_count": 2,
   "metadata": {},
   "outputs": [],
   "source": [
    "from tqdm import tqdm\n",
    "from torch.nn import LeakyReLU\n",
    "leaky = LeakyReLU(0.0)\n",
    "\n",
    "def calculate_score(x, users, aspects):\n",
    "    niubi = []\n",
    "    # users: 128 * 8\n",
    "    first = x.index[0]\n",
    "    val_base = x[first]\n",
    "    actor_base = torch.LongTensor(val_base)\n",
    "    actors_base = aspects(actor_base)  # 3 * 8\n",
    "    pre_rating = torch.mm(actors_base, users[first].unsqueeze(1))\n",
    "    niubi.append(pre_rating)\n",
    "    pre_rating = pre_rating / pre_rating.shape[0]\n",
    "    pre_rating = pre_rating.sum(0)\n",
    "    for i in x.index[1:]:\n",
    "        val = x[i]\n",
    "        actor = torch.LongTensor(val)\n",
    "        actors = aspects(actor)\n",
    "        pre_ra = torch.mm(actors, users[i].unsqueeze(1))\n",
    "        niubi.append(pre_ra)\n",
    "        actors_f = pre_ra / pre_ra.shape[0]\n",
    "        actors_f = actors_f.sum(0)\n",
    "        pre_rating = torch.cat((pre_rating, actors_f))\n",
    "    return pre_rating, niubi\n",
    "\n",
    "\n",
    "class aspect_augumentation(nn.Module):\n",
    "    def __init__(self, n_users, n_entity, n_rk, n_factors):\n",
    "        super(aspect_augumentation, self).__init__()\n",
    "        self.n_users = n_users\n",
    "        self.n_entity = n_entity\n",
    "        self.n_rk = n_rk\n",
    "        self.n_factors = n_factors\n",
    "        self.user_factors = torch.nn.Embedding(n_users, n_factors)\n",
    "        self.entity_factors = torch.nn.Embedding(n_entity, n_factors)\n",
    "        self.relation_k = torch.nn.Embedding(n_factors, n_rk)\n",
    "        \n",
    "\n",
    "    def forward(self, user_id, actors_id, directors_id, genres_id):\n",
    "        '''\n",
    "        user_factors: n_users * 64\n",
    "        entity_factors: n_entity * 64\n",
    "        relation_k: 64 * 3\n",
    "        '''\n",
    "        \n",
    "        users = self.user_factors(user_id)  # 128 * 8\n",
    "        aspects = self.entity_factors  # n_entity * 8\n",
    "        users = F.dropout(users, p=rate, training=self.training)\n",
    "        scores = torch.matmul(users, F.dropout(self.relation_k.weight, p=rate, training=self.training))  # 128 * 3\n",
    "        scores = leaky(scores)\n",
    "        m=torch.nn.Softmax(dim=1)  # 128 * 3\n",
    "        scores=m(scores)  # 128 * 3\n",
    "\n",
    "        '''\n",
    "        Compute the importance of each aspects\n",
    "        '''\n",
    "        scores_actors=scores[:, 0] # 128,\n",
    "        scores_directors=scores[:, 1] # 128,\n",
    "        scores_genres=scores[:, 2] # 128,\n",
    "\n",
    "        '''\n",
    "        Compute the contribution of each aspects\n",
    "        '''\n",
    "        contribute_actors,niubi_act=calculate_score(\n",
    "            actors_id, users,aspects)\n",
    "        contribute_directors, niubi_dir=calculate_score(\n",
    "            directors_id, users,aspects)\n",
    "        contribute_genres, niubi_gen=calculate_score(\n",
    "            genres_id, users, aspects)\n",
    "\n",
    "        '''\n",
    "        Compute the final predictions\n",
    "        '''\n",
    "        importance_sum=scores_actors + scores_directors + scores_genres\n",
    "        prediction_sum=contribute_actors * scores_actors + contribute_directors * scores_directors + contribute_genres * scores_genres\n",
    "        prediction=prediction_sum / importance_sum\n",
    "        cnm = [niubi_act,niubi_dir,niubi_gen]\n",
    "\n",
    "        return prediction, scores, contribute_actors, contribute_directors, contribute_genres,cnm"
   ]
  },
  {
   "cell_type": "code",
   "execution_count": 3,
   "metadata": {},
   "outputs": [],
   "source": [
    "def RMSE(data, model,batch_size):\n",
    "    users_index = data.iloc[:, 0].values\n",
    "    users = torch.LongTensor(users_index).to(DEVICE)\n",
    "    actors_id = data.iloc[:, 2]\n",
    "    directors_id = data.iloc[:, 3]\n",
    "    genres_id = data.iloc[:, 4]\n",
    "    rating = torch.FloatTensor(\n",
    "        data.iloc[:, 5].values).to(DEVICE)\n",
    "    prediction,scores,contribute_actors,contribute_directors,contribute_genres,cnm = model(users,actors_id, directors_id, genres_id)\n",
    "    rmse = loss_func(prediction, rating)\n",
    "    mae = torch.nn.L1Loss()(prediction, rating)\n",
    "    \n",
    "    return rmse ** 0.5,mae, cnm"
   ]
  },
  {
   "cell_type": "code",
   "execution_count": 4,
   "metadata": {},
   "outputs": [],
   "source": [
    "def train(lr, dim, reg, batch_size, num_epochs, data, test):\n",
    "    model = aspect_augumentation(5128, 1154, 3, dim).to(DEVICE)\n",
    "    optimizer = torch.optim.Adam(params=model.parameters(), lr=lr,weight_decay=reg)\n",
    "    scheduler = torch.optim.lr_scheduler.ReduceLROnPlateau(\n",
    "        optimizer, mode='min', factor=0.5, patience=10, threshold_mode='abs',threshold = 0.005)\n",
    "    for epoch in range(num_epochs):\n",
    "        model.train()\n",
    "        t1 = time.time()\n",
    "        num_example = len(data)\n",
    "        indices = list(range(num_example))\n",
    "        for i in tqdm(range(0, num_example, batch_size)):\n",
    "            optimizer.zero_grad()\n",
    "            indexs = indices[i:min(i+batch_size, num_example)]\n",
    "            users_index = data.iloc[:, 0].loc[indexs].values\n",
    "            users = torch.LongTensor(users_index).to(DEVICE)\n",
    "            actors_id = data.iloc[:, 2].loc[indexs]\n",
    "            actors_id.index = range(len(actors_id))\n",
    "            directors_id = data.iloc[:, 3].loc[indexs]\n",
    "            directors_id.index = range(len(directors_id))\n",
    "            genres_id = data.iloc[:, 4].loc[indexs]\n",
    "            genres_id.index = range(len(genres_id))\n",
    "            rating = torch.FloatTensor(\n",
    "                data.iloc[:, 5].loc[indexs].values).to(DEVICE)\n",
    "            prediction, scores, contribute_actors, contribute_directors, contribute_genres,cnm = model(\n",
    "                users, actors_id, directors_id, genres_id)\n",
    "\n",
    "            err = loss_func(prediction, rating) \n",
    "            err.backward()\n",
    "            optimizer.step()\n",
    "        t2 = time.time()\n",
    "        rmse, mae,cnm = RMSE(test, model,batch_size)\n",
    "        scheduler.step(rmse)\n",
    "        print(\"Epoch: \", epoch, \" Loss: \", err, \" RMSE in test set:\",\n",
    "              rmse, \"MAE in test set: \", mae)\n",
    "        print(\"Time consumed is:\", t2-t1)\n",
    "    return rmse, mae, model, cnm"
   ]
  },
  {
   "cell_type": "code",
   "execution_count": 76,
   "metadata": {},
   "outputs": [],
   "source": [
    "# hehe_test = hehe.copy()\n",
    "# df_empty = pd.DataFrame(columns=['user_id', 'movie', 'actors', 'director', 'genre', 'user_rating'])\n",
    "# for user in set(hehe_test['user_id']):\n",
    "#     mean_rating = hehe_test[hehe_test['user_id'] == user]['user_rating'].mean()\n",
    "#     pos_df = hehe_test[hehe_test['user_id'] == user]\n",
    "#     pos_df = pos_df[pos_df['user_rating'] > mean_rating]\n",
    "#     pos_df = pos_df.iloc[-1:]\n",
    "#     index_to_remove = list(pos_df.iloc[-1:].index)\n",
    "#     df_empty = df_empty.append(pos_df)\n",
    "#     hehe_test.drop(index = index_to_remove)\n",
    "    \n",
    "    "
   ]
  },
  {
   "cell_type": "code",
   "execution_count": 77,
   "metadata": {},
   "outputs": [],
   "source": [
    "hehe_test.to_csv('train.csv',index=False)\n",
    "df_empty.to_csv('test.csv',index=False)"
   ]
  },
  {
   "cell_type": "code",
   "execution_count": 78,
   "metadata": {},
   "outputs": [
    {
     "data": {
      "text/plain": [
       "((193081, 6), (5116, 6))"
      ]
     },
     "execution_count": 78,
     "metadata": {},
     "output_type": "execute_result"
    }
   ],
   "source": [
    "hehe_test.shape, df_empty.shape"
   ]
  },
  {
   "cell_type": "code",
   "execution_count": 79,
   "metadata": {},
   "outputs": [],
   "source": [
    "df_empty['user_id'] = df_empty['user_id'].astype('int')\n",
    "df_empty['user_rating'] = df_empty['user_rating'].astype('float')"
   ]
  },
  {
   "cell_type": "code",
   "execution_count": 80,
   "metadata": {},
   "outputs": [],
   "source": [
    "df_empty['movie'] = df_empty['movie'].astype('int')"
   ]
  },
  {
   "cell_type": "code",
   "execution_count": 81,
   "metadata": {},
   "outputs": [],
   "source": [
    "hehe_test.index = range(len(hehe_test))\n",
    "df_empty.index = range(len(df_empty))"
   ]
  },
  {
   "cell_type": "code",
   "execution_count": 82,
   "metadata": {},
   "outputs": [],
   "source": [
    "def grid(lrs, dims, regs, batch_sizes, num_epochs, data, test):\n",
    "    res = []\n",
    "    models = []\n",
    "    qnm = []\n",
    "    for lr in lrs:\n",
    "        for dim in dims:\n",
    "            for reg in regs:\n",
    "                for batch_size in batch_sizes:\n",
    "                    rmse, mae, model,cnm = train(\n",
    "                        lr, dim, reg, batch_size, num_epochs, data, test)\n",
    "                    res.append(rmse)\n",
    "                    res.append(mae)\n",
    "\n",
    "                    models.append(model)\n",
    "                    state = { 'model': model.state_dict()}   \n",
    "                    torch.save(state, 'model_' + str(lr) + '_' + str(dim) + '_' + str(reg) + '_' + str(batch_size) + '.pkl')\n",
    "                    qnm.append(cnm)\n",
    "    return res, models,qnm"
   ]
  },
  {
   "cell_type": "code",
   "execution_count": null,
   "metadata": {},
   "outputs": [],
   "source": [
    "rate = 0.0\n",
    "lrs = [1e-2]\n",
    "dims = [64,128]\n",
    "regs = [1e-7]\n",
    "batch_sizes = [256]\n",
    "num_epochs = 70\n",
    "res_reg, models_reg,qnm = grid(lrs,dims,regs,batch_sizes,num_epochs,hehe_test,df_empty)"
   ]
  },
  {
   "cell_type": "code",
   "execution_count": null,
   "metadata": {},
   "outputs": [],
   "source": [
    "rate = 0.0\n",
    "lrs = [1e-2]\n",
    "dims = [32]\n",
    "regs = [1e-7]\n",
    "batch_sizes = [256,512]\n",
    "num_epochs = 70\n",
    "res_reg, models_reg,qnm = grid(lrs,dims,regs,batch_sizes,num_epochs,hehe_test,df_empty)"
   ]
  },
  {
   "cell_type": "code",
   "execution_count": null,
   "metadata": {},
   "outputs": [],
   "source": [
    "rate = 0.0\n",
    "lrs = [1e-2]\n",
    "dims = [32,64]\n",
    "regs = [1e-7,1e-6]\n",
    "batch_sizes = [128,1024]\n",
    "num_epochs = 70\n",
    "res_reg, models_reg,qnm = grid(lrs,dims,regs,batch_sizes,num_epochs,hehe_test,df_empty)"
   ]
  },
  {
   "cell_type": "code",
   "execution_count": 14,
   "metadata": {},
   "outputs": [],
   "source": [
    "trainset = pd.read_csv('train.csv')\n",
    "testset = pd.read_csv('test.csv')\n",
    "def traite_train_test(df):\n",
    "    df['actors'] = df['actors'].apply(lambda x: json.loads(x))\n",
    "    df['director'] = df['director'].apply(lambda x: json.loads(x))\n",
    "    df['genre'] = df['genre'].apply(lambda x: json.loads(x))\n",
    "    return df\n",
    "hehe_test = traite_train_test(trainset)\n",
    "df_empty = traite_train_test(testset)\n",
    "df_empty['user_id'] = df_empty['user_id'].astype('int')\n",
    "df_empty['user_rating'] = df_empty['user_rating'].astype('float')\n",
    "df_empty['movie'] = df_empty['movie'].astype('int')\n",
    "hehe_test.index = range(len(hehe_test))\n",
    "df_empty.index = range(len(df_empty))"
   ]
  },
  {
   "cell_type": "code",
   "execution_count": 17,
   "metadata": {},
   "outputs": [],
   "source": [
    " #conding=utf8 \n",
    "rate = 0.0\n",
    "import os \n",
    "\n",
    "path = \"models/\" \n",
    "def get_file_name(path):\n",
    "    for file in os.listdir(path):\n",
    "        lr = file.split('_')[1]\n",
    "        dim = file.split('_')[2]\n",
    "        reg = file.split('_')[3]\n",
    "        \n",
    "        model = aspect_augumentation(5128, 1154, 3, int(file.split('_')[2])).to(DEVICE)\n",
    "        load_params = torch.load('models/' + file)['model']\n",
    "        model_params = model.state_dict()\n",
    "        same_parsms = {k: v for k, v in load_params.items() if k in model_params.keys()}\n",
    "        model_params.update(same_parsms)\n",
    "\n",
    "        model.load_state_dict(model_params)\n",
    "        rmse, mae,cnm = RMSE(df_empty, model,1)\n",
    "        print(\"Learning rate: \",lr, \"dimension of vector: \", dim, \"Regularization rate: \", reg)\n",
    "        print(\" RMSE in test set:\",\n",
    "              rmse, \"MAE in test set: \", mae)"
   ]
  },
  {
   "cell_type": "code",
   "execution_count": 18,
   "metadata": {},
   "outputs": [
    {
     "name": "stdout",
     "output_type": "stream",
     "text": [
      "Learning rate:  0.01 dimension of vector:  64 Regularization rate:  1e-07\n",
      " RMSE in test set: tensor(0.4975, grad_fn=<PowBackward0>) MAE in test set:  tensor(0.3748, grad_fn=<L1LossBackward0>)\n",
      "Learning rate:  0.01 dimension of vector:  32 Regularization rate:  1e-07\n",
      " RMSE in test set: tensor(0.4697, grad_fn=<PowBackward0>) MAE in test set:  tensor(0.3476, grad_fn=<L1LossBackward0>)\n",
      "Learning rate:  0.01 dimension of vector:  32 Regularization rate:  1e-06\n",
      " RMSE in test set: tensor(0.5140, grad_fn=<PowBackward0>) MAE in test set:  tensor(0.3862, grad_fn=<L1LossBackward0>)\n",
      "Learning rate:  0.01 dimension of vector:  32 Regularization rate:  1e-07\n",
      " RMSE in test set: tensor(0.5145, grad_fn=<PowBackward0>) MAE in test set:  tensor(0.3850, grad_fn=<L1LossBackward0>)\n",
      "Learning rate:  0.01 dimension of vector:  32 Regularization rate:  1e-07\n",
      " RMSE in test set: tensor(0.7610, grad_fn=<PowBackward0>) MAE in test set:  tensor(0.5793, grad_fn=<L1LossBackward0>)\n",
      "Learning rate:  0.01 dimension of vector:  32 Regularization rate:  1e-07\n",
      " RMSE in test set: tensor(0.4623, grad_fn=<PowBackward0>) MAE in test set:  tensor(0.2779, grad_fn=<L1LossBackward0>)\n"
     ]
    }
   ],
   "source": [
    "get_file_name(path)"
   ]
  },
  {
   "cell_type": "code",
   "execution_count": 85,
   "metadata": {},
   "outputs": [
    {
     "name": "stdout",
     "output_type": "stream",
     "text": [
      "Learning rate:  0.01 dimension of vector:  32 Regularization rate:  1e-07\n",
      " RMSE in test set: tensor(0.4623, grad_fn=<PowBackward0>) MAE in test set:  tensor(0.2779, grad_fn=<L1LossBackward>)\n",
      "Learning rate:  0.01 dimension of vector:  32 Regularization rate:  1e-07\n",
      " RMSE in test set: tensor(0.4697, grad_fn=<PowBackward0>) MAE in test set:  tensor(0.3476, grad_fn=<L1LossBackward>)\n",
      "Learning rate:  0.01 dimension of vector:  32 Regularization rate:  1e-06\n",
      " RMSE in test set: tensor(0.5140, grad_fn=<PowBackward0>) MAE in test set:  tensor(0.3862, grad_fn=<L1LossBackward>)\n",
      "Learning rate:  0.01 dimension of vector:  32 Regularization rate:  1e-07\n",
      " RMSE in test set: tensor(0.7610, grad_fn=<PowBackward0>) MAE in test set:  tensor(0.5793, grad_fn=<L1LossBackward>)\n",
      "Learning rate:  0.01 dimension of vector:  32 Regularization rate:  1e-07\n",
      " RMSE in test set: tensor(0.5145, grad_fn=<PowBackward0>) MAE in test set:  tensor(0.3850, grad_fn=<L1LossBackward>)\n"
     ]
    }
   ],
   "source": [
    "get_file_name(path)"
   ]
  },
  {
   "cell_type": "code",
   "execution_count": 86,
   "metadata": {},
   "outputs": [],
   "source": [
    "df_sum = hehe.copy()\n",
    "movie_set = set(df_sum['movie'])\n",
    "movie = df_sum[['movie','actors','director','genre']].loc[df_sum[['movie','actors','director','genre']].astype(str).drop_duplicates().index]\n",
    "movie.index = range(len(movie))\n",
    "movie = movie[['movie','actors','director','genre']].loc[movie[['movie','actors','director','genre']].astype(str).drop_duplicates().index]"
   ]
  },
  {
   "cell_type": "code",
   "execution_count": 87,
   "metadata": {},
   "outputs": [],
   "source": [
    "def dic_order_value_and_get_key(dicts, count):\n",
    "    final_result = []\n",
    "    sorted_dic = sorted([(k, v) for k, v in dicts.items()], reverse=True)\n",
    "    tmp_set = set()\n",
    "    for item in sorted_dic:\n",
    "        tmp_set.add(item[1])\n",
    "    for list_item in sorted(tmp_set, reverse=True)[:count]:\n",
    "        for dic_item in sorted_dic:\n",
    "            if dic_item[1] == list_item:\n",
    "                final_result.append(dic_item[0])\n",
    "    return final_result"
   ]
  },
  {
   "cell_type": "code",
   "execution_count": 88,
   "metadata": {},
   "outputs": [],
   "source": [
    "user_item = {}\n",
    "user_item_neg = {}\n",
    "\n",
    "for user in set(hehe['user_id']):\n",
    "    if user not in user_item:\n",
    "        mean_rating = hehe_test[hehe_test['user_id'] == user]['user_rating'].mean()\n",
    "        pos_df = hehe_test[hehe_test['user_id'] == user]\n",
    "        pos_df = pos_df[pos_df['user_rating'] > mean_rating]\n",
    "        user_item[user] = set(pos_df['user_id'].values)\n",
    "for user,pos_item_set in user_item.items():\n",
    "    unwatched_set = movie_set - pos_item_set\n",
    "    if user not in user_item_neg:\n",
    "        user_item_neg[user] = set()\n",
    "    user_item_neg[user] = set(np.random.choice(list(unwatched_set), size=100, replace=False))\n",
    "    "
   ]
  },
  {
   "cell_type": "code",
   "execution_count": 93,
   "metadata": {},
   "outputs": [],
   "source": [
    "num_i = 101\n",
    "def get_prediction_list(model,user, target, actors_id, directors_id, genres_id,k):\n",
    "    item_neg = user_item_neg[user]\n",
    "    movie_rec = movie[movie['movie'].isin(item_neg)]\n",
    "    movie_rec.index = range(1, len(movie_rec)+1)\n",
    "    movie_rec.loc[0] = np.array([target, actors_id, directors_id, genres_id])\n",
    "    user = np.array([user] * num_i)\n",
    "    user = torch.LongTensor(user).to(DEVICE)\n",
    "    actors_id = movie_rec.iloc[:, 1]\n",
    "    directors_id = movie_rec.iloc[:, 2]\n",
    "    genres_id = movie_rec.iloc[:, 3]\n",
    "    prediction, scores, contribute_actors, contribute_directors, contribute_genres, cnm = model(\n",
    "        user, actors_id, directors_id, genres_id)\n",
    "    prediction = prediction.detach().numpy()\n",
    "    prediction = np.maximum(prediction, np.ones(num_i) * 0)  # bound the lower values\n",
    "    prediction = np.minimum(prediction, np.ones(num_i) * 5)\n",
    "    prediction_dict = dict(zip(movie_rec['movie'].values, prediction))\n",
    "    top_k = dic_order_value_and_get_key(prediction_dict,k)\n",
    "    return top_k,prediction_dict"
   ]
  },
  {
   "cell_type": "code",
   "execution_count": 19,
   "metadata": {},
   "outputs": [
    {
     "data": {
      "text/plain": [
       "<All keys matched successfully>"
      ]
     },
     "execution_count": 19,
     "metadata": {},
     "output_type": "execute_result"
    }
   ],
   "source": [
    "model = aspect_augumentation(5128, 1154, 3, 32).to(DEVICE)\n",
    "load_params = torch.load(path + 'model_0.01_32_1e-07_256.pkl')['model']\n",
    "model_params = model.state_dict()\n",
    "same_parsms = {k: v for k, v in load_params.items()\n",
    "               if k in model_params.keys()}\n",
    "model_params.update(same_parsms)\n",
    "\n",
    "model.load_state_dict(model_params)"
   ]
  },
  {
   "cell_type": "code",
   "execution_count": 95,
   "metadata": {},
   "outputs": [],
   "source": [
    "import math\n",
    "def hr_ndcg(data,model):\n",
    "    hr1 = 0.0\n",
    "    ndcg1 = 0.0\n",
    "    hr2 = 0.0\n",
    "    ndcg2 = 0.0\n",
    "    test_eva_dict = df_empty.to_dict('records')\n",
    "    for row in test_eva_dict[:]:\n",
    "        user = row['user_id']\n",
    "        target = row['movie']\n",
    "        actors_id = row['actors']\n",
    "        directors_id = row['director']\n",
    "        genres_id = row['genre']\n",
    "        \n",
    "        \n",
    "        recommended_item_10,_ = get_prediction_list(model,user,target,actors_id,directors_id,genres_id,10)\n",
    "        recommended_item_20,_ = get_prediction_list(model,user,target,actors_id,directors_id,genres_id,20)\n",
    "        if target in recommended_item_10:\n",
    "            hr1 +=1\n",
    "            posi = recommended_item_10.index(target)\n",
    "            ndcg1 += 1 / math.log(posi + 2,2)\n",
    "        if target in recommended_item_20:\n",
    "            hr2 +=1\n",
    "            posi = recommended_item_20.index(target)\n",
    "            ndcg2 += 1 / math.log(posi + 2,2)\n",
    "    return hr1 / data.shape[0], ndcg1 / data.shape[0],hr2 / data.shape[0], ndcg2 / data.shape[0]\n",
    "        "
   ]
  },
  {
   "cell_type": "code",
   "execution_count": 96,
   "metadata": {},
   "outputs": [
    {
     "name": "stderr",
     "output_type": "stream",
     "text": [
      "/Users/user/anaconda3/envs/python37/lib/python3.6/site-packages/ipykernel_launcher.py:6: VisibleDeprecationWarning: Creating an ndarray from ragged nested sequences (which is a list-or-tuple of lists-or-tuples-or ndarrays with different lengths or shapes) is deprecated. If you meant to do this, you must specify 'dtype=object' when creating the ndarray\n",
      "  \n"
     ]
    },
    {
     "data": {
      "text/plain": [
       "(0.354573885848319,\n",
       " 0.13685229866885312,\n",
       " 0.6071149335418295,\n",
       " 0.19393023468115392)"
      ]
     },
     "execution_count": 96,
     "metadata": {},
     "output_type": "execute_result"
    }
   ],
   "source": [
    "hr_ndcg(df_empty,model)"
   ]
  },
  {
   "cell_type": "code",
   "execution_count": 97,
   "metadata": {},
   "outputs": [],
   "source": [
    "from surprise import SVD,KNNBaseline,KNNWithZScore, NMF, SlopeOne, CoClustering\n",
    "from surprise import Dataset\n",
    "from surprise import accuracy\n",
    "from surprise.model_selection import train_test_split\n",
    "from surprise import Reader\n",
    "from surprise.model_selection import cross_validate\n",
    "\n",
    "reader = Reader(rating_scale=(1, 5))\n",
    "train = Dataset.load_from_df(hehe_test[['user_id', 'movie', 'user_rating']], reader)\n",
    "test = Dataset.load_from_df(df_empty[['user_id', 'movie', 'user_rating']], reader)\n",
    "train = train.build_full_trainset()\n",
    "test = test.build_full_trainset()\n",
    "test = test.build_testset()"
   ]
  },
  {
   "cell_type": "code",
   "execution_count": 64,
   "metadata": {},
   "outputs": [
    {
     "name": "stdout",
     "output_type": "stream",
     "text": [
      "RMSE: 0.6689\n",
      "MAE:  0.5503\n",
      "Estimating biases using als...\n",
      "Computing the msd similarity matrix...\n",
      "Done computing similarity matrix.\n",
      "RMSE: 0.3803\n",
      "MAE:  0.2826\n",
      "Computing the msd similarity matrix...\n",
      "Done computing similarity matrix.\n",
      "RMSE: 0.4990\n",
      "MAE:  0.3910\n",
      "RMSE: 0.6974\n",
      "MAE:  0.5641\n",
      "RMSE: 0.8774\n",
      "MAE:  0.7246\n",
      "RMSE: 0.9275\n",
      "MAE:  0.7640\n"
     ]
    }
   ],
   "source": [
    "for algo in [SVD,KNNBaseline,KNNWithZScore, NMF, SlopeOne, CoClustering]:\n",
    "    algo = algo()\n",
    "    algo.fit(train)\n",
    "    predictions = algo.test(test)\n",
    "    accuracy.rmse(predictions)\n",
    "    accuracy.mae(predictions)"
   ]
  },
  {
   "cell_type": "code",
   "execution_count": 98,
   "metadata": {},
   "outputs": [],
   "source": [
    "num_i = 100\n",
    "def get_prediction_list(model,user, target,k):\n",
    "    user1 = user\n",
    "    item_neg = user_item_neg[user1]\n",
    "    movie_rec = movie[movie['movie'].isin(item_neg)]\n",
    "    movie_rec.index = range(1, len(movie_rec)+1)\n",
    "    user = np.array([user1] * num_i)\n",
    "    movie_rec['user'] = np.array(user)\n",
    "    movie_rec['rating'] = 1.0\n",
    "    movie_rec = movie_rec[['user','movie','rating']]\n",
    "    movie_rec.loc[0] = np.array([user1, target, 1.0])\n",
    "    movie_rec1 = Dataset.load_from_df(movie_rec[['user','movie','rating']], reader)\n",
    "    test = movie_rec1.build_full_trainset()\n",
    "    test = test.build_testset()\n",
    "    predictions = model.test(test)\n",
    "    predictions_list = []\n",
    "    for uid, iid, true_r, est, _ in predictions:\n",
    "        predictions_list.append(est)\n",
    "    prediction_dict = dict(zip(movie_rec['movie'].values, predictions_list))\n",
    "    top_k = dic_order_value_and_get_key(prediction_dict,k)\n",
    "    return top_k"
   ]
  },
  {
   "cell_type": "code",
   "execution_count": 99,
   "metadata": {},
   "outputs": [],
   "source": [
    "import math\n",
    "def hr_ndcg(data,model):\n",
    "    hr1 = 0.0\n",
    "    ndcg1 = 0.0\n",
    "    hr2 = 0.0\n",
    "    ndcg2 = 0.0\n",
    "    test_eva_dict = df_empty.to_dict('records')\n",
    "    for row in test_eva_dict[:]:\n",
    "        user = row['user_id']\n",
    "        target = row['movie']\n",
    "        \n",
    "        \n",
    "        \n",
    "        recommended_item_10 = get_prediction_list(model,user,target,10)\n",
    "        recommended_item_20 = get_prediction_list(model,user,target,20)\n",
    "        if target in recommended_item_10:\n",
    "            hr1 +=1\n",
    "            posi = recommended_item_10.index(target)\n",
    "            ndcg1 += 1 / math.log(posi + 2,2)\n",
    "        if target in recommended_item_20:\n",
    "            hr2 +=1\n",
    "            posi = recommended_item_20.index(target)\n",
    "            ndcg2 += 1 / math.log(posi + 2,2)\n",
    "    print(algo)\n",
    "    print(hr1 / data.shape[0], ndcg1 / data.shape[0],hr2 / data.shape[0], ndcg2 / data.shape[0])\n",
    "    return hr1 / data.shape[0], ndcg1 / data.shape[0],hr2 / data.shape[0], ndcg2 / data.shape[0]"
   ]
  },
  {
   "cell_type": "code",
   "execution_count": 100,
   "metadata": {},
   "outputs": [
    {
     "name": "stdout",
     "output_type": "stream",
     "text": [
      "RMSE: 0.6603\n",
      "MAE:  0.5447\n"
     ]
    },
    {
     "name": "stderr",
     "output_type": "stream",
     "text": [
      "/Users/user/anaconda3/envs/python37/lib/python3.6/site-packages/ipykernel_launcher.py:8: SettingWithCopyWarning: \n",
      "A value is trying to be set on a copy of a slice from a DataFrame.\n",
      "Try using .loc[row_indexer,col_indexer] = value instead\n",
      "\n",
      "See the caveats in the documentation: https://pandas.pydata.org/pandas-docs/stable/user_guide/indexing.html#returning-a-view-versus-a-copy\n",
      "  \n",
      "/Users/user/anaconda3/envs/python37/lib/python3.6/site-packages/ipykernel_launcher.py:9: SettingWithCopyWarning: \n",
      "A value is trying to be set on a copy of a slice from a DataFrame.\n",
      "Try using .loc[row_indexer,col_indexer] = value instead\n",
      "\n",
      "See the caveats in the documentation: https://pandas.pydata.org/pandas-docs/stable/user_guide/indexing.html#returning-a-view-versus-a-copy\n",
      "  if __name__ == '__main__':\n"
     ]
    },
    {
     "name": "stdout",
     "output_type": "stream",
     "text": [
      "<surprise.prediction_algorithms.matrix_factorization.SVD object at 0x1a4cf6dc18>\n",
      "0.2779515246286161 0.1394068066782357 0.45543393275996874 0.1838196285944835\n",
      "Estimating biases using als...\n",
      "Computing the msd similarity matrix...\n",
      "Done computing similarity matrix.\n",
      "RMSE: 0.3803\n",
      "MAE:  0.2826\n",
      "<surprise.prediction_algorithms.knns.KNNBaseline object at 0x1a4cf6dc18>\n",
      "0.5699765441751369 0.31623338204980506 0.764659890539484 0.3661023562738522\n",
      "Computing the msd similarity matrix...\n",
      "Done computing similarity matrix.\n",
      "RMSE: 0.4990\n",
      "MAE:  0.3910\n",
      "<surprise.prediction_algorithms.knns.KNNWithZScore object at 0x10aa075c0>\n",
      "0.5959734167318217 0.32729289698206615 0.7515637216575449 0.3671169456970478\n",
      "RMSE: 0.7133\n",
      "MAE:  0.5765\n",
      "<surprise.prediction_algorithms.matrix_factorization.NMF object at 0x10aa075c0>\n",
      "0.24179046129788898 0.11386265122066826 0.41770914777169665 0.15740064056404843\n",
      "RMSE: 0.8774\n",
      "MAE:  0.7246\n",
      "<surprise.prediction_algorithms.slope_one.SlopeOne object at 0x10aa075c0>\n",
      "0.1342845973416732 0.054895737629020676 0.24843627834245505 0.08314065123137324\n",
      "RMSE: 0.9353\n",
      "MAE:  0.7706\n",
      "<surprise.prediction_algorithms.co_clustering.CoClustering object at 0x10aa075c0>\n",
      "0.17181391712275215 0.07633329629888826 0.30101641907740423 0.10844921982630791\n"
     ]
    }
   ],
   "source": [
    "res = []\n",
    "for algo in [SVD,KNNBaseline,KNNWithZScore, NMF, SlopeOne, CoClustering]:\n",
    "    algo = algo()\n",
    "    algo.fit(train)\n",
    "    predictions = algo.test(test)\n",
    "    accuracy.rmse(predictions)\n",
    "    accuracy.mae(predictions)\n",
    "    hr10,ndcg10,hr20,ndcg20 = hr_ndcg(df_empty,algo)\n",
    "    res.append([hr10, ndcg10, hr20, ndcg20])"
   ]
  },
  {
   "cell_type": "code",
   "execution_count": null,
   "metadata": {},
   "outputs": [],
   "source": []
  },
  {
   "cell_type": "code",
   "execution_count": null,
   "metadata": {},
   "outputs": [],
   "source": []
  },
  {
   "cell_type": "code",
   "execution_count": null,
   "metadata": {},
   "outputs": [],
   "source": []
  },
  {
   "cell_type": "code",
   "execution_count": null,
   "metadata": {},
   "outputs": [],
   "source": []
  },
  {
   "cell_type": "code",
   "execution_count": null,
   "metadata": {},
   "outputs": [],
   "source": []
  },
  {
   "cell_type": "code",
   "execution_count": null,
   "metadata": {},
   "outputs": [],
   "source": []
  },
  {
   "cell_type": "code",
   "execution_count": null,
   "metadata": {},
   "outputs": [],
   "source": []
  },
  {
   "cell_type": "code",
   "execution_count": null,
   "metadata": {},
   "outputs": [],
   "source": []
  },
  {
   "cell_type": "code",
   "execution_count": null,
   "metadata": {},
   "outputs": [],
   "source": []
  },
  {
   "cell_type": "code",
   "execution_count": null,
   "metadata": {},
   "outputs": [],
   "source": []
  },
  {
   "cell_type": "code",
   "execution_count": 65,
   "metadata": {},
   "outputs": [],
   "source": [
    "class MLP(nn.Module):\n",
    "    def __init__(self, n_users, n_items, n_factors,layers):\n",
    "        super(MLP, self).__init__()\n",
    "        self.n_users = n_users\n",
    "        self.n_items = n_items\n",
    "        self.n_factors = n_factors\n",
    "        self.layers = layers\n",
    "        self.user_factors = torch.nn.Embedding(n_users, n_factors)\n",
    "        self.item_factors = torch.nn.Embedding(n_items, n_factors)\n",
    "        \n",
    "        self.MLP1 = nn.Sequential(nn.Linear(2 * n_factors, self.layers[0]))\n",
    "        self.MLP2 = nn.Sequential(nn.Linear(self.layers[0],self.layers[1]))\n",
    "        self.MLP3 = nn.Sequential(nn.Linear(self.layers[1],self.layers[2]))\n",
    "        self.MLP4 = nn.Sequential(nn.Linear(self.layers[2],self.layers[3]))\n",
    "        self.outlayer = nn.Sequential(nn.Linear(self.layers[3],1))\n",
    "        \n",
    "    def forward(self, user_id, item_id):\n",
    "        MLP_user_embeddings = self.user_factors(user_id) ## 128 * 64\n",
    "        MLP_item_embeddings = self.item_factors(item_id) ## 128 * 64\n",
    "        MLP_merge_embedding = torch.cat((MLP_user_embeddings,MLP_item_embeddings),1) ## 128 * 128\n",
    "        \n",
    "        MLP_out1 = self.MLP1(MLP_merge_embedding) ## 128 * 64\n",
    "        MLP_out1 = torch.nn.ReLU()(MLP_out1)\n",
    "        \n",
    "        MLP_out2 = self.MLP2(MLP_out1) ## 128 * 32\n",
    "        MLP_out2 = torch.nn.ReLU()(MLP_out2)\n",
    "        \n",
    "        MLP_out3 = self.MLP3(MLP_out2) ## 128 * 16\n",
    "        MLP_out3 = torch.nn.ReLU()(MLP_out3)\n",
    "        \n",
    "        MLP_out4 = self.MLP4(MLP_out3) ## 128 * 8\n",
    "        MLP_out4 = torch.nn.ReLU()(MLP_out4)\n",
    "        \n",
    "        out = self.outlayer(MLP_out4)  ## 128 * 1\n",
    "        return out.squeeze(1)   "
   ]
  },
  {
   "cell_type": "code",
   "execution_count": 66,
   "metadata": {},
   "outputs": [],
   "source": [
    "class GMF(nn.Module):\n",
    "    def __init__(self, n_users, n_items, n_factors):\n",
    "        super(GMF, self).__init__()\n",
    "        self.n_users = n_users\n",
    "        self.n_items = n_items\n",
    "        self.n_factors = n_factors\n",
    "        self.user_factors = torch.nn.Embedding(n_users, n_factors)\n",
    "        self.item_factors = torch.nn.Embedding(n_items, n_factors)\n",
    "        self.outlayer = nn.Sequential(nn.Linear(n_factors,1))\n",
    "        \n",
    "    def forward(self, user_id, item_id):\n",
    "        GMF_user_embeddings = self.user_factors(user_id) ## 128 * 64\n",
    "        GMF_item_embeddings = self.item_factors(item_id) ## 128 * 64\n",
    "        GMF_merge_embedding = MLP_user_embeddings * MLP_item_embeddings ## 128 * 64\n",
    "        \n",
    "        out = self.outlayer(GMF_merge_embedding)  ## 128 * 1\n",
    "        return out.squeeze(1)   "
   ]
  },
  {
   "cell_type": "code",
   "execution_count": 67,
   "metadata": {},
   "outputs": [],
   "source": [
    "class NeuMF(nn.Module):\n",
    "    def __init__(self, n_users, n_items, mlp_factors,gmf_factors, layers):\n",
    "        super(NeuMF, self).__init__()\n",
    "        self.n_users = n_users\n",
    "        self.n_items = n_items\n",
    "        self.mlp_factors = mlp_factors\n",
    "        self.gmf_factors = gmf_factors\n",
    "        self.layers = layers\n",
    "        \n",
    "        self.mlp_user_factors = torch.nn.Embedding(n_users, mlp_factors)\n",
    "        self.mlp_item_factors = torch.nn.Embedding(n_items, mlp_factors)\n",
    "        \n",
    "        self.gmf_user_factors = torch.nn.Embedding(n_users, gmf_factors)\n",
    "        self.gmf_item_factors = torch.nn.Embedding(n_items, gmf_factors)\n",
    "        \n",
    "        self.MLP1 = nn.Sequential(nn.Linear(2 * mlp_factors, self.layers[0]))\n",
    "        self.MLP2 = nn.Sequential(nn.Linear(self.layers[0],self.layers[1]))\n",
    "        self.MLP3 = nn.Sequential(nn.Linear(self.layers[1],self.layers[2]))\n",
    "        self.MLP4 = nn.Sequential(nn.Linear(self.layers[2],self.layers[3]))\n",
    "        \n",
    "        self.outlayer = nn.Sequential(nn.Linear(self.layers[3] + gmf_factors,1))\n",
    "        \n",
    "        \n",
    "    def forward(self, user_id, item_id):\n",
    "        GMF_user_embeddings = self.gmf_user_factors(user_id) ## 128 * 64\n",
    "        GMF_item_embeddings = self.gmf_item_factors(item_id) ## 128 * 64\n",
    "        GMF_merge_embedding = GMF_user_embeddings * GMF_item_embeddings ## 128 * 64\n",
    "        \n",
    "        \n",
    "        MLP_user_embeddings = self.mlp_user_factors(user_id) ## 128 * 64\n",
    "        MLP_item_embeddings = self.mlp_item_factors(item_id) ## 128 * 64\n",
    "        MLP_merge_embedding = torch.cat((MLP_user_embeddings,MLP_item_embeddings),1) ## 128 * 128\n",
    "        \n",
    "        \n",
    "        MLP_out1 = self.MLP1(MLP_merge_embedding) ## 128 * 64\n",
    "        MLP_out1 = torch.nn.ReLU()(MLP_out1)\n",
    "        \n",
    "        MLP_out2 = self.MLP2(MLP_out1) ## 128 * 32\n",
    "        MLP_out2 = torch.nn.ReLU()(MLP_out2)\n",
    "        \n",
    "        MLP_out3 = self.MLP3(MLP_out2) ## 128 * 16\n",
    "        MLP_out3 = torch.nn.ReLU()(MLP_out3)\n",
    "        \n",
    "        MLP_out4 = self.MLP4(MLP_out3) ## 128 * 8\n",
    "        MLP_out4 = torch.nn.ReLU()(MLP_out4)\n",
    "        \n",
    "        out = torch.cat((GMF_merge_embedding,MLP_out4),1)\n",
    "        \n",
    "        \n",
    "        out = self.outlayer(out)  ## 128 * 1\n",
    "        return out.squeeze(1)   "
   ]
  },
  {
   "cell_type": "code",
   "execution_count": 68,
   "metadata": {},
   "outputs": [],
   "source": [
    "def RMSE(data, model):\n",
    "    users_index = data.iloc[:, 0].values\n",
    "    users = torch.LongTensor(users_index).to(DEVICE)\n",
    "    items_index = data.iloc[:, 1].values\n",
    "    items = torch.LongTensor(items_index).to(DEVICE)\n",
    "    rating = torch.FloatTensor(data.iloc[:, 5].values).to(DEVICE)\n",
    "    prediction= model(users, items)\n",
    "    rmse = loss_func(prediction, rating)\n",
    "    mae = torch.nn.L1Loss()(prediction, rating)\n",
    "    return rmse ** 0.5,mae"
   ]
  },
  {
   "cell_type": "code",
   "execution_count": 69,
   "metadata": {},
   "outputs": [],
   "source": [
    "def train(lr, mlp_factors,gmf_factors, layers, reg, batch_size, num_epochs, train, test):\n",
    "    model = NeuMF(n_users, n_items, mlp_factors,gmf_factors, layers).to(DEVICE)\n",
    "    optimizer = torch.optim.Adam(params=model.parameters(), lr=lr,weight_decay=reg)\n",
    "    scheduler = torch.optim.lr_scheduler.ReduceLROnPlateau(\n",
    "        optimizer, mode='min', factor=0.5, patience=10, threshold_mode='abs',threshold = 0.005)\n",
    "    for epoch in range(num_epochs):\n",
    "        model.train()\n",
    "        t1 = time.time()\n",
    "        num_example = len(train)\n",
    "        indices = list(range(num_example))\n",
    "        for i in tqdm(range(0, num_example, batch_size)):\n",
    "            optimizer.zero_grad()\n",
    "            indexs = indices[i:min(i+batch_size, num_example)]\n",
    "            users_index = train.iloc[:, 0].loc[indexs].values\n",
    "            users = torch.LongTensor(users_index).to(DEVICE)\n",
    "            items_index = train.iloc[:, 1].loc[indexs].values\n",
    "            items = torch.LongTensor(items_index).to(DEVICE)\n",
    "            \n",
    "           \n",
    "            rating = torch.FloatTensor(\n",
    "                train.iloc[:, 5].loc[indexs].values).to(DEVICE)\n",
    "            prediction = model(\n",
    "                users, items)\n",
    "\n",
    "            err = loss_func(prediction, rating) \n",
    "            err.backward()\n",
    "            optimizer.step()\n",
    "        t2 = time.time()\n",
    "        rmse, mae = RMSE(test, model)\n",
    "        scheduler.step(rmse)\n",
    "        print(\"Epoch: \", epoch, \" Loss: \", err, \" RMSE in test set:\",\n",
    "              rmse, \"MAE in test set: \", mae)\n",
    "        print(\"Time consumed is:\", t2-t1)\n",
    "    return model"
   ]
  },
  {
   "cell_type": "code",
   "execution_count": 70,
   "metadata": {},
   "outputs": [],
   "source": [
    "lr = 0.002\n",
    "mlp_factors = 8\n",
    "gmf_factors = 32 \n",
    "layers = [64,32,16,8]\n",
    "reg = 1e-6\n",
    "batch_size = 128 \n",
    "num_epochs = 100\n"
   ]
  },
  {
   "cell_type": "code",
   "execution_count": 71,
   "metadata": {},
   "outputs": [],
   "source": [
    "n_users = len(hehe['user_id'].value_counts())\n",
    "n_items = len(hehe['movie'].value_counts())"
   ]
  },
  {
   "cell_type": "code",
   "execution_count": null,
   "metadata": {},
   "outputs": [],
   "source": [
    "model_neumf = train(lr, mlp_factors,gmf_factors, layers, reg, batch_size, num_epochs, hehe_test,df_empty)"
   ]
  },
  {
   "cell_type": "code",
   "execution_count": 102,
   "metadata": {},
   "outputs": [],
   "source": [
    "state = { 'model': model_neumf.state_dict()}   \n",
    "torch.save(state, 'model_neumf.pkl')\n",
    "                    "
   ]
  },
  {
   "cell_type": "code",
   "execution_count": 103,
   "metadata": {},
   "outputs": [],
   "source": [
    "num_i = 101\n",
    "def get_prediction_list(model,user,target,actors_id,directors_id,genres_id,k):\n",
    "    item_neg = user_item_neg[user]\n",
    "    movie_rec = movie[movie['movie'].isin(item_neg)]\n",
    "    movie_rec.index = range(1, len(movie_rec)+1)\n",
    "    movie_rec.loc[0] = np.array([target, actors_id, directors_id, genres_id])\n",
    "    user = np.array([user] * num_i)\n",
    "    users = torch.LongTensor(user).to(DEVICE)\n",
    "    items = movie_rec['movie'].values\n",
    "    items = torch.LongTensor(items).to(DEVICE)\n",
    "    \n",
    "    prediction = model(\n",
    "                users, items)\n",
    "    prediction = prediction.detach().numpy()\n",
    "    prediction = np.maximum(prediction, np.ones(num_i) * 0)  # bound the lower values\n",
    "    prediction = np.minimum(prediction, np.ones(num_i) * 5)\n",
    "    prediction_dict = dict(zip(movie_rec['movie'].values, prediction))\n",
    "    top_k = dic_order_value_and_get_key(prediction_dict,k)\n",
    "    return top_k,prediction_dict"
   ]
  },
  {
   "cell_type": "code",
   "execution_count": 104,
   "metadata": {},
   "outputs": [],
   "source": [
    "import math\n",
    "def hr_ndcg(data,model):\n",
    "    hr1 = 0.0\n",
    "    ndcg1 = 0.0\n",
    "    hr2 = 0.0\n",
    "    ndcg2 = 0.0\n",
    "    test_eva_dict = data.to_dict('records')\n",
    "    for row in test_eva_dict[:]:\n",
    "        user = row['user_id']\n",
    "        target = row['movie']\n",
    "        actors_id = row['actors']\n",
    "        directors_id = row['director']\n",
    "        genres_id = row['genre']\n",
    "        \n",
    "        \n",
    "        recommended_item_10,_ = get_prediction_list(model,user,target,actors_id,directors_id,genres_id,10)\n",
    "        recommended_item_20,_ = get_prediction_list(model,user,target,actors_id,directors_id,genres_id,20)\n",
    "        if target in recommended_item_10:\n",
    "            hr1 +=1\n",
    "            posi = recommended_item_10.index(target)\n",
    "            ndcg1 += 1 / math.log(posi + 2,2)\n",
    "        if target in recommended_item_20:\n",
    "            hr2 +=1\n",
    "            posi = recommended_item_20.index(target)\n",
    "            ndcg2 += 1 / math.log(posi + 2,2)\n",
    "    return hr1 / data.shape[0], ndcg1 / data.shape[0],hr2 / data.shape[0], ndcg2 / data.shape[0]\n",
    "        "
   ]
  },
  {
   "cell_type": "code",
   "execution_count": 105,
   "metadata": {},
   "outputs": [
    {
     "name": "stderr",
     "output_type": "stream",
     "text": [
      "/Users/user/anaconda3/envs/python37/lib/python3.6/site-packages/ipykernel_launcher.py:6: VisibleDeprecationWarning: Creating an ndarray from ragged nested sequences (which is a list-or-tuple of lists-or-tuples-or ndarrays with different lengths or shapes) is deprecated. If you meant to do this, you must specify 'dtype=object' when creating the ndarray\n",
      "  \n",
      "/Users/user/anaconda3/envs/python37/lib/python3.6/site-packages/pandas/core/indexing.py:670: SettingWithCopyWarning: \n",
      "A value is trying to be set on a copy of a slice from a DataFrame\n",
      "\n",
      "See the caveats in the documentation: https://pandas.pydata.org/pandas-docs/stable/user_guide/indexing.html#returning-a-view-versus-a-copy\n",
      "  iloc._setitem_with_indexer(indexer, value)\n"
     ]
    },
    {
     "data": {
      "text/plain": [
       "(0.4200547302580141,\n",
       " 0.18851205823371278,\n",
       " 0.6411258795934324,\n",
       " 0.24096489063433765)"
      ]
     },
     "execution_count": 105,
     "metadata": {},
     "output_type": "execute_result"
    }
   ],
   "source": [
    "hr_ndcg(df_empty,model_neumf)"
   ]
  },
  {
   "cell_type": "code",
   "execution_count": 20,
   "metadata": {},
   "outputs": [],
   "source": [
    "def RMSE1(data, model):\n",
    "    users_index = data.iloc[:, 0].values\n",
    "    users = torch.LongTensor(users_index).to(DEVICE)\n",
    "    actors_id = data.iloc[:, 2]\n",
    "    directors_id = data.iloc[:, 3]\n",
    "    genres_id = data.iloc[:, 4]\n",
    "    rating = torch.FloatTensor(\n",
    "        data.iloc[:, 5].values).to(DEVICE)\n",
    "    prediction,scores,contribute_actors,contribute_directors,contribute_genres,cnm = model(users,actors_id, directors_id, genres_id)\n",
    "    rmse = loss_func(prediction, rating)\n",
    "    return rmse,prediction,scores,contribute_actors,contribute_directors,contribute_genres,cnm"
   ]
  },
  {
   "cell_type": "code",
   "execution_count": 108,
   "metadata": {},
   "outputs": [],
   "source": [
    "rmse,prediction,scores,contribute_actors,contribute_directors,contribute_genres,cnm = RMSE1(df_empty,model)"
   ]
  },
  {
   "cell_type": "code",
   "execution_count": 109,
   "metadata": {},
   "outputs": [
    {
     "data": {
      "image/png": "[encoded data removed]",
      "text/plain": [
       "<Figure size 1080x432 with 1 Axes>"
      ]
     },
     "metadata": {
      "needs_background": "light"
     },
     "output_type": "display_data"
    }
   ],
   "source": [
    "from sklearn.cluster import KMeans\n",
    "import matplotlib.pyplot as plt\n",
    "X = scores.detach().numpy()\n",
    "df_empty = pd.DataFrame(columns=['first','second','third','label'])\n",
    "df_empty['first'] = X[:,0]\n",
    "df_empty['second'] = X[:,1]\n",
    "df_empty['third'] = X[:,2]\n",
    "df1 = df_empty[['first','second','third']].iloc[:,:].values  \n",
    "inertia = []   \n",
    "\n",
    "for k in range(1,11):  \n",
    "    algorithm = (KMeans(n_clusters=k,  \n",
    "                       init=\"k-means++\",  \n",
    "                       n_init=10,  \n",
    "                       max_iter=300,  \n",
    "                       tol=0.0001,  \n",
    "                       random_state=111,  \n",
    "                       algorithm=\"full\"))  \n",
    "    algorithm.fit(df1)  \n",
    "    inertia.append(algorithm.inertia_) \n",
    "plt.figure(1,figsize=(15,6))\n",
    "plt.plot(np.arange(1,11), inertia, 'o')  \n",
    "plt.plot(np.arange(1,11), inertia, '-', alpha=0.5)\n",
    "\n",
    "plt.xlabel(\"Choose of K\")\n",
    "plt.ylabel(\"Interia\")\n",
    "plt.show()"
   ]
  },
  {
   "cell_type": "code",
   "execution_count": 199,
   "metadata": {},
   "outputs": [],
   "source": [
    "from numpy import unique\n",
    "from numpy import where\n",
    "from sklearn.datasets import make_classification\n",
    "from sklearn.cluster import AffinityPropagation\n",
    "from sklearn.cluster import Birch\n",
    "from sklearn.cluster import AgglomerativeClustering\n",
    "from sklearn.cluster import DBSCAN\n",
    "from sklearn.cluster import MeanShift\n",
    "from sklearn.mixture import GaussianMixture"
   ]
  },
  {
   "cell_type": "code",
   "execution_count": 222,
   "metadata": {},
   "outputs": [],
   "source": [
    "n_clusters = 4\n",
    "estimators = KMeans(n_clusters = 4)\n",
    "estimators.fit(X)\n",
    "yhat = estimators.predict(X)\n",
    "#labele = estimators.labels_\n",
    "df_empty['label'] = labele"
   ]
  },
  {
   "cell_type": "code",
   "execution_count": 223,
   "metadata": {},
   "outputs": [],
   "source": [
    "n_clusters = len(df_empty['label'].value_counts())"
   ]
  },
  {
   "cell_type": "code",
   "execution_count": 224,
   "metadata": {},
   "outputs": [
    {
     "name": "stdout",
     "output_type": "stream",
     "text": [
      "Cluster: 0 0.0027447361 0.0029317306 0.99432355\n"
     ]
    },
    {
     "data": {
      "image/png": "[encoded data removed]",
      "text/plain": [
       "<Figure size 432x288 with 1 Axes>"
      ]
     },
     "metadata": {
      "needs_background": "light"
     },
     "output_type": "display_data"
    },
    {
     "name": "stdout",
     "output_type": "stream",
     "text": [
      "Cluster: 1 0.99976134 0.00011813612 0.00012052751\n"
     ]
    },
    {
     "data": {
      "image/png": "[encoded data removed]",
      "text/plain": [
       "<Figure size 432x288 with 1 Axes>"
      ]
     },
     "metadata": {
      "needs_background": "light"
     },
     "output_type": "display_data"
    },
    {
     "name": "stdout",
     "output_type": "stream",
     "text": [
      "Cluster: 2 0.3313307 0.3313307 0.33733854\n"
     ]
    },
    {
     "data": {
      "image/png": "[encoded data removed]",
      "text/plain": [
       "<Figure size 432x288 with 1 Axes>"
      ]
     },
     "metadata": {
      "needs_background": "light"
     },
     "output_type": "display_data"
    },
    {
     "name": "stdout",
     "output_type": "stream",
     "text": [
      "Cluster: 3 0.0007773779 0.9963497 0.0028729439\n"
     ]
    },
    {
     "data": {
      "image/png": "[encoded data removed]",
      "text/plain": [
       "<Figure size 432x288 with 1 Axes>"
      ]
     },
     "metadata": {
      "needs_background": "light"
     },
     "output_type": "display_data"
    }
   ],
   "source": [
    "for i in range(n_clusters):\n",
    "    print(\"Cluster:\", i, df_empty[df_empty['label'] == i]['first'].mean(),df_empty[df_empty['label'] == i]['second'].mean(),df_empty[df_empty['label'] == i]['third'].mean())\n",
    "    import matplotlib.pyplot as plt\n",
    "    plt.xlabel('Attribute type')\n",
    "    plt.ylabel('Importance',fontsize=15)\n",
    "    name_list = ['Actor', 'Director','Genre']\n",
    "    num_list = [df_empty[df_empty['label'] == i]['first'].mean(),df_empty[df_empty['label'] == i]['second'].mean(),df_empty[df_empty['label'] == i]['third'].mean()]\n",
    "\n",
    "    hist_fig = plt.bar(range(len(num_list)), num_list,color='rgb',tick_label=name_list)\n",
    "    plt.xticks(fontsize  = 'large',rotation=-20) \n",
    "    plt.savefig('cluster_'+ str(i) + '.png')\n",
    "\n",
    "    plt.show()\n"
   ]
  },
  {
   "cell_type": "code",
   "execution_count": 225,
   "metadata": {},
   "outputs": [
    {
     "name": "stdout",
     "output_type": "stream",
     "text": [
      "Starting compute t-SNE Embedding...\n"
     ]
    }
   ],
   "source": [
    "from sklearn.manifold import TSNE\n",
    "import matplotlib.pyplot as plt\n",
    "data, label, n_samples, n_features,title = X, labele, 38616, 3,'Cluster of users according to importances of contexts'\n",
    "print('Starting compute t-SNE Embedding...')\n",
    "ts = TSNE(n_components=2, init='pca', random_state=0)\n",
    "\n",
    "result = ts.fit_transform(data)\n",
    "\n",
    "x_min, x_max = np.min(result, 0), np.max(result, 0)\n",
    "result = (result - x_min) / (x_max - x_min)"
   ]
  },
  {
   "cell_type": "code",
   "execution_count": 226,
   "metadata": {},
   "outputs": [
    {
     "data": {
      "image/png": "[encoded data removed]",
      "text/plain": [
       "<Figure size 432x288 with 1 Axes>"
      ]
     },
     "metadata": {
      "needs_background": "light"
     },
     "output_type": "display_data"
    }
   ],
   "source": [
    "import seaborn as sns\n",
    "df = pd.DataFrame()\n",
    "df[\"y\"] = labele\n",
    "df[\"comp-1\"] = result[:,0]\n",
    "df[\"comp-2\"] = result[:,1]\n",
    "\n",
    "sns.scatterplot(x=\"comp-1\", y=\"comp-2\", hue=df.y.tolist(),\n",
    "                palette=sns.color_palette(\"hls\", n_clusters),\n",
    "                data=df).set(title=\"Data T-SNE projection\")\n",
    "plt.savefig('cluster_tSNEsper.png')\n",
    "plt.show()\n"
   ]
  },
  {
   "cell_type": "code",
   "execution_count": 227,
   "metadata": {},
   "outputs": [
    {
     "data": {
      "image/png": "[encoded data removed]",
      "text/plain": [
       "<Figure size 432x288 with 1 Axes>"
      ]
     },
     "metadata": {
      "needs_background": "light"
     },
     "output_type": "display_data"
    }
   ],
   "source": [
    "sns.scatterplot(result[:,0],result[:,1],legend='full')\n",
    "plt.savefig('cluster_tSNENonsuper.png')\n",
    "plt.show()\n"
   ]
  },
  {
   "cell_type": "code",
   "execution_count": 228,
   "metadata": {},
   "outputs": [
    {
     "data": {
      "image/png": "[encoded data removed]",
      "text/plain": [
       "<Figure size 432x288 with 1 Axes>"
      ]
     },
     "metadata": {
      "needs_background": "light"
     },
     "output_type": "display_data"
    }
   ],
   "source": [
    "from sklearn.decomposition import PCA\n",
    "result = PCA(n_components=2).fit_transform(data)\n",
    "x_min, x_max = np.min(result, 0), np.max(result, 0)\n",
    "result = (result - x_min) / (x_max - x_min)\n",
    "import seaborn as sns\n",
    "df = pd.DataFrame()\n",
    "df[\"y\"] = labele\n",
    "df[\"comp-1\"] = result[:,0]\n",
    "df[\"comp-2\"] = result[:,1]\n",
    "\n",
    "sns.scatterplot(x=\"comp-1\", y=\"comp-2\", hue=df.y.tolist(),\n",
    "                palette=sns.color_palette(\"hls\", n_clusters),\n",
    "                data=df).set(title=\"Data PCA projection\")\n",
    "plt.savefig('cluster_pca.png')\n",
    "plt.show()\n"
   ]
  },
  {
   "cell_type": "code",
   "execution_count": 134,
   "metadata": {},
   "outputs": [
    {
     "name": "stdout",
     "output_type": "stream",
     "text": [
      "Requirement already satisfied: umap-learn in /Users/user/.local/lib/python3.6/site-packages/umap_learn-0.3.7-py3.6.egg (0.3.7)\r\n",
      "Requirement already satisfied: numpy>=1.13 in /Users/user/anaconda3/envs/python37/lib/python3.6/site-packages (from umap-learn) (1.19.5)\r\n",
      "Requirement already satisfied: scikit-learn>=0.16 in /Users/user/anaconda3/envs/python37/lib/python3.6/site-packages (from umap-learn) (0.22.2.post1)\r\n",
      "Requirement already satisfied: scipy>=0.19 in /Users/user/anaconda3/envs/python37/lib/python3.6/site-packages (from umap-learn) (1.4.1)\r\n",
      "Requirement already satisfied: numba>=0.37 in /Users/user/.local/lib/python3.6/site-packages (from umap-learn) (0.42.0)\r\n",
      "Requirement already satisfied: joblib>=0.11 in /Users/user/anaconda3/envs/python37/lib/python3.6/site-packages (from scikit-learn>=0.16->umap-learn) (0.13.2)\r\n",
      "Requirement already satisfied: llvmlite>=0.27.0dev0 in /Users/user/.local/lib/python3.6/site-packages (from numba>=0.37->umap-learn) (0.27.0)\r\n"
     ]
    }
   ],
   "source": [
    "!pip install umap-learn"
   ]
  },
  {
   "cell_type": "code",
   "execution_count": 135,
   "metadata": {},
   "outputs": [
    {
     "name": "stdout",
     "output_type": "stream",
     "text": [
      "Requirement already satisfied: umap-learn[plot] in /Users/user/.local/lib/python3.6/site-packages/umap_learn-0.3.7-py3.6.egg (0.3.7)\r\n",
      "\u001b[33m  umap-learn 0.3.7 does not provide the extra 'plot'\u001b[0m\r\n",
      "Requirement already satisfied: numpy>=1.13 in /Users/user/anaconda3/envs/python37/lib/python3.6/site-packages (from umap-learn[plot]) (1.19.5)\r\n",
      "Requirement already satisfied: scikit-learn>=0.16 in /Users/user/anaconda3/envs/python37/lib/python3.6/site-packages (from umap-learn[plot]) (0.22.2.post1)\r\n",
      "Requirement already satisfied: scipy>=0.19 in /Users/user/anaconda3/envs/python37/lib/python3.6/site-packages (from umap-learn[plot]) (1.4.1)\r\n",
      "Requirement already satisfied: numba>=0.37 in /Users/user/.local/lib/python3.6/site-packages (from umap-learn[plot]) (0.42.0)\r\n",
      "Requirement already satisfied: joblib>=0.11 in /Users/user/anaconda3/envs/python37/lib/python3.6/site-packages (from scikit-learn>=0.16->umap-learn[plot]) (0.13.2)\r\n",
      "Requirement already satisfied: llvmlite>=0.27.0dev0 in /Users/user/.local/lib/python3.6/site-packages (from numba>=0.37->umap-learn[plot]) (0.27.0)\r\n"
     ]
    }
   ],
   "source": [
    "!pip install \"umap-learn[plot]\""
   ]
  },
  {
   "cell_type": "code",
   "execution_count": null,
   "metadata": {},
   "outputs": [],
   "source": []
  },
  {
   "cell_type": "code",
   "execution_count": 144,
   "metadata": {},
   "outputs": [
    {
     "ename": "ModuleNotFoundError",
     "evalue": "No module named 'umap.plot'",
     "output_type": "error",
     "traceback": [
      "\u001b[0;31m---------------------------------------------------------------------------\u001b[0m",
      "\u001b[0;31mModuleNotFoundError\u001b[0m                       Traceback (most recent call last)",
      "\u001b[0;32m<ipython-input-144-1a11dd58eec5>\u001b[0m in \u001b[0;36m<module>\u001b[0;34m\u001b[0m\n\u001b[1;32m      5\u001b[0m \u001b[0;32mfrom\u001b[0m \u001b[0mumap\u001b[0m \u001b[0;32mimport\u001b[0m \u001b[0mUMAP\u001b[0m\u001b[0;34m\u001b[0m\u001b[0;34m\u001b[0m\u001b[0m\n\u001b[1;32m      6\u001b[0m \u001b[0;32mimport\u001b[0m \u001b[0mumap\u001b[0m\u001b[0;34m.\u001b[0m\u001b[0mumap_\u001b[0m \u001b[0;32mas\u001b[0m \u001b[0mumap\u001b[0m\u001b[0;34m\u001b[0m\u001b[0;34m\u001b[0m\u001b[0m\n\u001b[0;32m----> 7\u001b[0;31m \u001b[0;32mimport\u001b[0m \u001b[0mumap\u001b[0m\u001b[0;34m.\u001b[0m\u001b[0mplot\u001b[0m\u001b[0;34m\u001b[0m\u001b[0;34m\u001b[0m\u001b[0m\n\u001b[0m\u001b[1;32m      8\u001b[0m \u001b[0;32mimport\u001b[0m \u001b[0mumap\u001b[0m\u001b[0;34m\u001b[0m\u001b[0;34m\u001b[0m\u001b[0m\n",
      "\u001b[0;31mModuleNotFoundError\u001b[0m: No module named 'umap.plot'"
     ]
    }
   ],
   "source": [
    "import sklearn.datasets\n",
    "import pandas as pd\n",
    "import numpy as np\n",
    "import umap\n",
    "from umap import UMAP\n",
    "import umap.umap_ as umap\n",
    "import umap.plot\n",
    "import umap"
   ]
  },
  {
   "cell_type": "code",
   "execution_count": 137,
   "metadata": {},
   "outputs": [
    {
     "name": "stderr",
     "output_type": "stream",
     "text": [
      "/Users/user/.local/lib/python3.6/site-packages/umap_learn-0.3.7-py3.6.egg/umap/rp_tree.py:439: NumbaWarning: Function \"make_euclidean_tree\" failed type inference: \u001b[1m\u001b[1m\u001b[1mCannot unify RandomProjectionTreeNode(array(int64, 1d, C), bool, none, none, none, none) and RandomProjectionTreeNode(none, bool, array(float32, 1d, C), float64, RandomProjectionTreeNode(array(int64, 1d, C), bool, none, none, none, none), RandomProjectionTreeNode(array(int64, 1d, C), bool, none, none, none, none)) for '$14.16', defined at /Users/user/.local/lib/python3.6/site-packages/umap_learn-0.3.7-py3.6.egg/umap/rp_tree.py (446)\n",
      "\u001b[1m\n",
      "File \"../../.local/lib/python3.6/site-packages/umap_learn-0.3.7-py3.6.egg/umap/rp_tree.py\", line 446:\u001b[0m\n",
      "\u001b[1m<source missing, REPL/exec in use?>\u001b[0m\n",
      "\u001b[0m\n",
      "\u001b[0m\u001b[1m[1] During: resolving callee type: recursive(type(CPUDispatcher(<function make_euclidean_tree at 0x1a4c3a8048>)))\u001b[0m\n",
      "\u001b[0m\u001b[1m[2] During: typing of call at /Users/user/.local/lib/python3.6/site-packages/umap_learn-0.3.7-py3.6.egg/umap/rp_tree.py (446)\n",
      "\u001b[0m\n",
      "\u001b[1m\n",
      "File \"../../.local/lib/python3.6/site-packages/umap_learn-0.3.7-py3.6.egg/umap/rp_tree.py\", line 446:\u001b[0m\n",
      "\u001b[1m<source missing, REPL/exec in use?>\u001b[0m\n",
      "\n",
      "/Users/user/.local/lib/python3.6/site-packages/umap_learn-0.3.7-py3.6.egg/umap/rp_tree.py:439: NumbaWarning: Function \"make_euclidean_tree\" was compiled in object mode without forceobj=True.\n",
      "/Users/user/.local/lib/python3.6/site-packages/umap_learn-0.3.7-py3.6.egg/umap/umap_.py:328: NumbaWarning: Function \"fuzzy_simplicial_set\" failed type inference: \u001b[1mUntyped global name 'nearest_neighbors':\u001b[0m \u001b[1m\u001b[1mcannot determine Numba type of <class 'function'>\u001b[0m\n",
      "\u001b[1m\n",
      "File \"../../.local/lib/python3.6/site-packages/umap_learn-0.3.7-py3.6.egg/umap/umap_.py\", line 446:\u001b[0m\n",
      "\u001b[1m<source missing, REPL/exec in use?>\u001b[0m\n",
      "\u001b[0m\n",
      "/Users/user/.local/lib/python3.6/site-packages/umap_learn-0.3.7-py3.6.egg/umap/umap_.py:328: NumbaWarning: Function \"fuzzy_simplicial_set\" was compiled in object mode without forceobj=True.\n",
      "/Users/user/.local/lib/python3.6/site-packages/umap_learn-0.3.7-py3.6.egg/umap/spectral.py:229: UserWarning: Embedding a total of 6 separate connected components using meta-embedding (experimental)\n"
     ]
    }
   ],
   "source": [
    "mapper = UMAP().fit(X)"
   ]
  },
  {
   "cell_type": "code",
   "execution_count": 169,
   "metadata": {},
   "outputs": [
    {
     "name": "stderr",
     "output_type": "stream",
     "text": [
      "/Users/user/.local/lib/python3.6/site-packages/umap_learn-0.3.7-py3.6.egg/umap/spectral.py:229: UserWarning: Embedding a total of 6 separate connected components using meta-embedding (experimental)\n"
     ]
    }
   ],
   "source": [
    "reslut = UMAP().fit_transform(X)\n",
    "\n",
    "x_min, x_max = np.min(reslut, 0), np.max(reslut, 0)\n",
    "reslut = (reslut - x_min) / (x_max - x_min)"
   ]
  },
  {
   "cell_type": "code",
   "execution_count": 170,
   "metadata": {},
   "outputs": [
    {
     "data": {
      "image/png": "[encoded data removed]",
      "text/plain": [
       "<Figure size 432x288 with 1 Axes>"
      ]
     },
     "metadata": {
      "needs_background": "light"
     },
     "output_type": "display_data"
    }
   ],
   "source": [
    "import seaborn as sns\n",
    "df = pd.DataFrame()\n",
    "df[\"y\"] = labele\n",
    "df[\"comp-1\"] = reslut[:,0]\n",
    "df[\"comp-2\"] = reslut[:,1]\n",
    "\n",
    "sns.scatterplot(x=\"comp-1\", y=\"comp-2\", hue=df.y.tolist(),\n",
    "                palette=sns.color_palette(\"hls\", n_clusters),\n",
    "                data=df).set(title=\"Data T-SNE projection\")\n",
    "plt.show()"
   ]
  },
  {
   "cell_type": "code",
   "execution_count": null,
   "metadata": {},
   "outputs": [],
   "source": []
  },
  {
   "cell_type": "code",
   "execution_count": 171,
   "metadata": {},
   "outputs": [
    {
     "data": {
      "image/png": "[encoded data removed]",
      "text/plain": [
       "<Figure size 432x288 with 1 Axes>"
      ]
     },
     "metadata": {
      "needs_background": "light"
     },
     "output_type": "display_data"
    }
   ],
   "source": [
    "plt.scatter(reslut[:,0], reslut[:,1], c=X)\n",
    "plt.title('UMAP embedding of random colours');"
   ]
  },
  {
   "cell_type": "code",
   "execution_count": null,
   "metadata": {},
   "outputs": [],
   "source": []
  }
 ],
 "metadata": {
  "kernelspec": {
   "display_name": "Python 3",
   "language": "python",
   "name": "python3"
  },
  "language_info": {
   "codemirror_mode": {
    "name": "ipython",
    "version": 3
   },
   "file_extension": ".py",
   "mimetype": "text/x-python",
   "name": "python",
   "nbconvert_exporter": "python",
   "pygments_lexer": "ipython3",
   "version": "3.8.3"
  },
  "toc": {
   "base_numbering": 1,
   "nav_menu": {},
   "number_sections": true,
   "sideBar": true,
   "skip_h1_title": false,
   "title_cell": "Table of Contents",
   "title_sidebar": "Contents",
   "toc_cell": false,
   "toc_position": {},
   "toc_section_display": true,
   "toc_window_display": false
  }
 },
 "nbformat": 4,
 "nbformat_minor": 2
}
