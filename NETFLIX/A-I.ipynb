{
 "cells": [
  {
   "cell_type": "code",
   "execution_count": 30,
   "metadata": {},
   "outputs": [],
   "source": [
    "from processing import preprocessing,get_movies_aspect_matrix,dict_movie_aspect,viewed_matrix\n",
    "import json\n",
    "import pandas as pd\n",
    "import numpy as np\n",
    "import scipy\n",
    "import sklearn.preprocessing as pp\n",
    "from compute_strength import film_strength\n",
    "from sklearn.metrics import mean_squared_error\n",
    "from sklearn.metrics import mean_absolute_error\n",
    "from math import sqrt"
   ]
  },
  {
   "cell_type": "code",
   "execution_count": 4,
   "metadata": {},
   "outputs": [],
   "source": [
    "trainset = pd.read_csv('train.csv')\n",
    "testset = pd.read_csv('test.csv')\n",
    "def traite_train_test(df):\n",
    "    df['actors'] = df['actors'].apply(lambda x: json.loads(x))\n",
    "    df['director'] = df['director'].apply(lambda x: json.loads(x))\n",
    "    df['genre'] = df['genre'].apply(lambda x: json.loads(x))\n",
    "    return df\n",
    "hehe_test = traite_train_test(trainset)\n",
    "df_empty = traite_train_test(testset)\n",
    "df_empty['user_id'] = df_empty['user_id'].astype('int')\n",
    "df_empty['user_rating'] = df_empty['user_rating'].astype('float')\n",
    "df_empty['movie'] = df_empty['movie'].astype('int')\n",
    "hehe_test.index = range(len(hehe_test))\n",
    "df_empty.index = range(len(df_empty))"
   ]
  },
  {
   "cell_type": "code",
   "execution_count": 5,
   "metadata": {},
   "outputs": [
    {
     "name": "stderr",
     "output_type": "stream",
     "text": [
      "<ipython-input-5-e39932f4636d>:1: FutureWarning: The frame.append method is deprecated and will be removed from pandas in a future version. Use pandas.concat instead.\n",
      "  df_all = hehe_test.append(df_empty)\n"
     ]
    }
   ],
   "source": [
    "df_all = hehe_test.append(df_empty)"
   ]
  },
  {
   "cell_type": "code",
   "execution_count": 6,
   "metadata": {},
   "outputs": [],
   "source": [
    "df_sum = df_all.copy()\n",
    "movie_set = set(df_sum['movie'])\n",
    "movie = df_sum[['movie','actors','director','genre']].loc[df_sum[['movie','actors','director','genre']].astype(str).drop_duplicates().index]\n",
    "movie.index = range(len(movie))\n",
    "movie = movie[['movie','actors','director','genre']].loc[movie[['movie','actors','director','genre']].astype(str).drop_duplicates().index]"
   ]
  },
  {
   "cell_type": "code",
   "execution_count": 7,
   "metadata": {},
   "outputs": [],
   "source": [
    "ratings_dict = dict()\n",
    "train_ratings_dict = dict()\n",
    "\n",
    "train_ratings_dict[\"userID\"] = []\n",
    "train_ratings_dict[\"itemID\"] = []\n",
    "train_ratings_dict[\"rating\"] = []\n",
    "\n",
    "\n",
    "test_eva_dict = hehe_test.to_dict('records')\n",
    "for row in test_eva_dict[:]:\n",
    "    tuple_key = (row['user_id'],row['movie'])\n",
    "    ratings_dict[tuple_key] = row['user_rating']\n",
    "    train_ratings_dict[\"userID\"].append(row['user_id'])\n",
    "    train_ratings_dict[\"itemID\"].append(row['movie'])\n",
    "    train_ratings_dict[\"rating\"].append(row['user_rating'])"
   ]
  },
  {
   "cell_type": "code",
   "execution_count": 8,
   "metadata": {},
   "outputs": [],
   "source": [
    "compressed_test_ratings_dict = dict()\n",
    "test_eva_dict = df_empty.to_dict('records')\n",
    "for row in test_eva_dict[:]:\n",
    "    if row['user_id'] not in compressed_test_ratings_dict:\n",
    "        compressed_test_ratings_dict[row['user_id']] = []\n",
    "    compressed_test_ratings_dict[row['user_id']].append((row['movie'],row['user_rating']))"
   ]
  },
  {
   "cell_type": "code",
   "execution_count": 9,
   "metadata": {
    "scrolled": true
   },
   "outputs": [],
   "source": [
    "films = dict()\n",
    "\n",
    "\n",
    "test_eva_dict = movie.to_dict('records')\n",
    "for row in test_eva_dict[:]:\n",
    "    if row['movie'] not in films:\n",
    "        films[row['movie']] = dict()\n",
    "    films[row['movie']]['director'] = row['director']\n",
    "    films[row['movie']]['genre'] = row['genre']\n",
    "    films[row['movie']]['actors'] = row['actors']\n",
    "    \n",
    "    \n",
    "    "
   ]
  },
  {
   "cell_type": "code",
   "execution_count": 10,
   "metadata": {},
   "outputs": [
    {
     "name": "stderr",
     "output_type": "stream",
     "text": [
      "<ipython-input-10-7b9550262de4>:2: FutureWarning: In a future version, passing float-dtype values containing NaN and an integer dtype will raise IntCastingNaNError (subclass of ValueError) instead of silently ignoring the passed dtype. To retain the old behavior, call Series(arr) or DataFrame(arr) without passing a dtype.\n",
      "  movies_watched = pd.DataFrame.from_dict(\n"
     ]
    }
   ],
   "source": [
    "movies_watched = viewed_matrix(train_ratings_dict, films, 'netflix')\n",
    "movies_watched = pd.DataFrame.from_dict(\n",
    "    movies_watched, dtype='int64', orient='index').T\n",
    "movies_watched = movies_watched.replace(np.nan, 0)"
   ]
  },
  {
   "cell_type": "code",
   "execution_count": 11,
   "metadata": {},
   "outputs": [],
   "source": [
    "user_ids_in_matrix = movies_watched.index.values\n",
    "movies_watched = movies_watched.T\n",
    "movies_watched = scipy.sparse.csc_matrix(movies_watched.values)\n",
    "normalized_matrix_by_column = pp.normalize(\n",
    "    movies_watched.tocsc(), norm='l2', axis=0)\n",
    "cosine_sims = normalized_matrix_by_column.T * normalized_matrix_by_column\n",
    "assert cosine_sims.shape[0] == cosine_sims.shape[1] == len(\n",
    "    user_ids_in_matrix)"
   ]
  },
  {
   "cell_type": "code",
   "execution_count": 12,
   "metadata": {},
   "outputs": [],
   "source": [
    "sims = dict()\n",
    "for i in user_ids_in_matrix:\n",
    "    sims[i] = []\n",
    "cosine_sims = cosine_sims.todok().items()\n",
    "\n",
    "for ((row, col), sim) in cosine_sims:\n",
    "    if row != col:\n",
    "        sims[user_ids_in_matrix[row]].append(\n",
    "                (user_ids_in_matrix[col], sim))"
   ]
  },
  {
   "cell_type": "code",
   "execution_count": 13,
   "metadata": {},
   "outputs": [
    {
     "name": "stdout",
     "output_type": "stream",
     "text": [
      "We have 20 genre (an example is 1134)\n"
     ]
    },
    {
     "name": "stderr",
     "output_type": "stream",
     "text": [
      "/home/jinfeng/Downloads/doctorant/Conférences/machine learning/data_and_codes/NETFLIX/processing.py:70: FutureWarning: In a future version, passing float-dtype values containing NaN and an integer dtype will raise IntCastingNaNError (subclass of ValueError) instead of silently ignoring the passed dtype. To retain the old behavior, call Series(arr) or DataFrame(arr) without passing a dtype.\n",
      "  movies_all_aspects_matrix = pd.DataFrame.from_dict(aspects_associated_to_movies, dtype='int64', orient='index')\n"
     ]
    },
    {
     "name": "stdout",
     "output_type": "stream",
     "text": [
      "We have 389 director (an example is 745)\n",
      "We have 745 actors (an example is 0)\n",
      "We have 1154 total aspects\n"
     ]
    }
   ],
   "source": [
    "genres_in_db, movies_all_genres_matrix = get_movies_aspect_matrix(\n",
    "    films, \"genre\")\n",
    "directors_in_db, movies_all_directors_matrix = get_movies_aspect_matrix(\n",
    "    films, \"director\")\n",
    "actors_in_db, movies_all_actors_matrix = get_movies_aspect_matrix(\n",
    "    films, \"actors\")\n",
    "print('We have %d total aspects' %\n",
    "      (len(genres_in_db)+len(directors_in_db)+len(actors_in_db)))"
   ]
  },
  {
   "cell_type": "code",
   "execution_count": 50,
   "metadata": {},
   "outputs": [],
   "source": [
    "MUR = 0.1\n",
    "MUG = 0.8\n",
    "MUA = 0.1\n",
    "MUD = 0.8"
   ]
  },
  {
   "cell_type": "code",
   "execution_count": 55,
   "metadata": {},
   "outputs": [],
   "source": [
    "def dic_order_value_and_get_key(dicts, count):\n",
    "    final_result = []\n",
    "    sorted_dic = sorted([(k, v) for k, v in dicts.items()], reverse=True)\n",
    "    tmp_set = set()\n",
    "    for item in sorted_dic:\n",
    "        tmp_set.add(item[1])\n",
    "    for list_item in sorted(tmp_set, reverse=True)[:count]:\n",
    "        for dic_item in sorted_dic:\n",
    "            if dic_item[1] == list_item:\n",
    "                final_result.append(dic_item[0])\n",
    "    return final_result"
   ]
  },
  {
   "cell_type": "code",
   "execution_count": 57,
   "metadata": {},
   "outputs": [],
   "source": [
    "user_item = {}\n",
    "user_item_neg = {}\n",
    "\n",
    "for user in set(df_all['user_id']):\n",
    "    if user not in user_item:\n",
    "        mean_rating = hehe_test[hehe_test['user_id'] == user]['user_rating'].mean()\n",
    "        pos_df = hehe_test[hehe_test['user_id'] == user]\n",
    "        pos_df = pos_df[pos_df['user_rating'] > mean_rating]\n",
    "        user_item[user] = set(pos_df['user_id'].values)\n",
    "for user,pos_item_set in user_item.items():\n",
    "    unwatched_set = movie_set - pos_item_set\n",
    "    if user not in user_item_neg:\n",
    "        user_item_neg[user] = set()\n",
    "    user_item_neg[user] = set(np.random.choice(list(unwatched_set), size=100, replace=False))\n",
    "    "
   ]
  },
  {
   "cell_type": "code",
   "execution_count": 68,
   "metadata": {},
   "outputs": [],
   "source": [
    "num_i = 101\n",
    "def get_prediction_list(user, target,k):\n",
    "    \n",
    "    item_neg = user_item_neg[user]\n",
    "    test_ratings_dict = dict()\n",
    "    test_ratings_dict[user] = []\n",
    "    items_list = []\n",
    "    items_list.append(target)\n",
    "    test_ratings_dict[user].append((target,1))\n",
    "    for item in user_item_neg:\n",
    "        test_ratings_dict[user].append((item,1))\n",
    "        items_list.append(item)\n",
    "    predictions = []\n",
    "    for user_id, true_ratings in compressed_test_ratings_dict.items():\n",
    "        if true_ratings:\n",
    "            for (film_id, str_rating) in true_ratings:\n",
    "                strength = film_strength(MUR, MUG, MUA, MUD, user_id, film_id, films, ratings_dict,\n",
    "                                     sims[user_id], movies_all_genres_matrix, movies_all_directors_matrix, movies_all_actors_matrix)\n",
    "                predictions.append((int(str_rating), strength))\n",
    "    \n",
    "    predicted_ratings = [round(y) for (x, y) in predictions]\n",
    "    \n",
    "\n",
    "    prediction_dict = dict(zip(items_list, predicted_ratings))\n",
    "    top_k = dic_order_value_and_get_key(prediction_dict,k)\n",
    "    return top_k,prediction_dict"
   ]
  },
  {
   "cell_type": "code",
   "execution_count": 69,
   "metadata": {},
   "outputs": [],
   "source": [
    "import math\n",
    "def hr_ndcg():\n",
    "    hr1 = 0.0\n",
    "    ndcg1 = 0.0\n",
    "    hr2 = 0.0\n",
    "    ndcg2 = 0.0\n",
    "    test_eva_dict = df_empty.to_dict('records')\n",
    "    for row in test_eva_dict[:]:\n",
    "        user = row['user_id']\n",
    "        target = row['movie']\n",
    "        \n",
    "        \n",
    "        recommended_item_10,_ = get_prediction_list(user,target,10)\n",
    "        recommended_item_20,_ = get_prediction_list(user,target,20)\n",
    "        if target in recommended_item_10:\n",
    "            hr1 +=1\n",
    "            posi = recommended_item_10.index(target)\n",
    "            ndcg1 += 1 / math.log(posi + 2,2)\n",
    "        if target in recommended_item_20:\n",
    "            hr2 +=1\n",
    "            posi = recommended_item_20.index(target)\n",
    "            ndcg2 += 1 / math.log(posi + 2,2)\n",
    "    return hr1 / data.shape[0], ndcg1 / data.shape[0],hr2 / data.shape[0], ndcg2 / data.shape[0]\n",
    "        "
   ]
  },
  {
   "cell_type": "code",
   "execution_count": null,
   "metadata": {},
   "outputs": [],
   "source": [
    "hr_ndcg()"
   ]
  },
  {
   "cell_type": "code",
   "execution_count": null,
   "metadata": {},
   "outputs": [],
   "source": []
  },
  {
   "cell_type": "code",
   "execution_count": null,
   "metadata": {},
   "outputs": [],
   "source": []
  },
  {
   "cell_type": "code",
   "execution_count": 51,
   "metadata": {},
   "outputs": [],
   "source": [
    "# predictions = []\n",
    "# for user_id, true_ratings in compressed_test_ratings_dict.items():\n",
    "#     if true_ratings:\n",
    "#         for (film_id, str_rating) in true_ratings:\n",
    "#             strength = film_strength(MUR, MUG, MUA, MUD, user_id, film_id, films, ratings_dict,\n",
    "#                                      sims[user_id], movies_all_genres_matrix, movies_all_directors_matrix, movies_all_actors_matrix)\n",
    "   \n",
    "#             predictions.append((int(str_rating), strength))\n",
    "\n"
   ]
  },
  {
   "cell_type": "code",
   "execution_count": 52,
   "metadata": {},
   "outputs": [],
   "source": [
    "# true_ratings = [x for (x, y) in predictions]\n",
    "# predicted_ratings = [round(y) for (x, y) in predictions]"
   ]
  },
  {
   "cell_type": "code",
   "execution_count": 63,
   "metadata": {},
   "outputs": [],
   "source": [
    "# sqrt(mean_squared_error(true_ratings, predicted_ratings)), mean_absolute_error(true_ratings, predicted_ratings)"
   ]
  },
  {
   "cell_type": "code",
   "execution_count": null,
   "metadata": {},
   "outputs": [],
   "source": []
  }
 ],
 "metadata": {
  "kernelspec": {
   "display_name": "Python 3",
   "language": "python",
   "name": "python3"
  }
 },
 "nbformat": 4,
 "nbformat_minor": 4
}
