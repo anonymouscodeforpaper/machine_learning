{
 "cells": [
  {
   "cell_type": "code",
   "execution_count": 31,
   "metadata": {},
   "outputs": [],
   "source": [
    "import pandas as pd\n",
    "import csv\n",
    "from utilities import map_aspect_values_to_movies,dict_movie_aspect\n",
    "from operator import itemgetter\n",
    "def change_author(x):\n",
    "    qunima = itemgetter(*x)(authors_dict)\n",
    "    if type(qunima) == int:\n",
    "        return [qunima]\n",
    "    else:\n",
    "        return change_list(qunima)\n",
    "    \n",
    "def change_genre(x):\n",
    "    qunima = itemgetter(*x)(genres_dict)\n",
    "    if type(qunima) == int:\n",
    "        return [qunima]\n",
    "    else:\n",
    "        return change_list(qunima)    \n",
    "\n",
    "def change_list(x):\n",
    "    return list(x)"
   ]
  },
  {
   "cell_type": "code",
   "execution_count": 17,
   "metadata": {},
   "outputs": [],
   "source": [
    "train = pd.read_csv('train.dat',sep='\\t',header=None)\n",
    "train = train.rename(columns = {0:'user',1:'item',2:'rating'})\n",
    "test = pd.read_csv('test.dat',sep='\\t',header=None)\n",
    "test = test.rename(columns = {0:'user',1:'item',2:'rating'})\n",
    "validation = pd.read_csv('valid.dat',sep='\\t',header=None)\n",
    "validation = validation.rename(columns = {0:'user',1:'item',2:'rating'})\n",
    "df = pd.concat([train,test,validation])"
   ]
  },
  {
   "cell_type": "code",
   "execution_count": 18,
   "metadata": {},
   "outputs": [],
   "source": [
    "jiba = pd.read_csv('i_map.dat',sep = '\\t',header = None)\n",
    "jiba\n",
    "\n",
    "haha = pd.read_csv('i2kg_map.tsv',sep='\\t', header=None)\n",
    "haha = haha.rename(columns = {0:'item',1:'name',2:'url'})\n",
    "haha = haha.sort_values(by='item',ascending=True)"
   ]
  },
  {
   "cell_type": "code",
   "execution_count": 19,
   "metadata": {},
   "outputs": [],
   "source": [
    "haha = pd.read_csv('i2kg_map.tsv',sep='\\t', header=None)\n",
    "haha = haha.rename(columns = {0:'item',1:'name',2:'url'})\n",
    "haha = haha.sort_values(by='item',ascending=True)"
   ]
  },
  {
   "cell_type": "code",
   "execution_count": 20,
   "metadata": {},
   "outputs": [],
   "source": [
    "haha_final = haha[haha['item'].isin(jiba[1])]"
   ]
  },
  {
   "cell_type": "code",
   "execution_count": 21,
   "metadata": {},
   "outputs": [],
   "source": [
    "with open(\"attribute.json\", 'r', encoding='UTF-8') as f:\n",
    "    info = json.load(f)\n",
    "info = {int(k): v for k, v in info.items()}"
   ]
  },
  {
   "cell_type": "code",
   "execution_count": 22,
   "metadata": {},
   "outputs": [
    {
     "name": "stderr",
     "output_type": "stream",
     "text": [
      "<ipython-input-22-23b6162982d9>:3: FutureWarning: In a future version, passing float-dtype values containing NaN and an integer dtype will raise IntCastingNaNError (subclass of ValueError) instead of silently ignoring the passed dtype. To retain the old behavior, call Series(arr) or DataFrame(arr) without passing a dtype.\n",
      "  authors = pd.DataFrame.from_dict(book_authors,dtype = 'int64',orient = 'index').T.replace(np.nan, 0).index\n",
      "<ipython-input-22-23b6162982d9>:4: FutureWarning: In a future version, passing float-dtype values containing NaN and an integer dtype will raise IntCastingNaNError (subclass of ValueError) instead of silently ignoring the passed dtype. To retain the old behavior, call Series(arr) or DataFrame(arr) without passing a dtype.\n",
      "  genres = pd.DataFrame.from_dict(book_genres,dtype = 'int64',orient = 'index').T.replace(np.nan, 0).index\n"
     ]
    }
   ],
   "source": [
    "book_genres = dict_movie_aspect(info, \"genre\")\n",
    "book_authors = dict_movie_aspect(info,'author')\n",
    "authors = pd.DataFrame.from_dict(book_authors,dtype = 'int64',orient = 'index').T.replace(np.nan, 0).index\n",
    "genres = pd.DataFrame.from_dict(book_genres,dtype = 'int64',orient = 'index').T.replace(np.nan, 0).index"
   ]
  },
  {
   "cell_type": "code",
   "execution_count": 23,
   "metadata": {},
   "outputs": [
    {
     "name": "stderr",
     "output_type": "stream",
     "text": [
      "<ipython-input-23-4dc8e185da26>:1: SettingWithCopyWarning: \n",
      "A value is trying to be set on a copy of a slice from a DataFrame.\n",
      "Try using .loc[row_indexer,col_indexer] = value instead\n",
      "\n",
      "See the caveats in the documentation: https://pandas.pydata.org/pandas-docs/stable/user_guide/indexing.html#returning-a-view-versus-a-copy\n",
      "  haha_final['authors'] = haha_final['item'].map(info)\n",
      "<ipython-input-23-4dc8e185da26>:2: SettingWithCopyWarning: \n",
      "A value is trying to be set on a copy of a slice from a DataFrame.\n",
      "Try using .loc[row_indexer,col_indexer] = value instead\n",
      "\n",
      "See the caveats in the documentation: https://pandas.pydata.org/pandas-docs/stable/user_guide/indexing.html#returning-a-view-versus-a-copy\n",
      "  haha_final['genres'] = haha_final['item'].map(info)\n"
     ]
    }
   ],
   "source": [
    "haha_final['authors'] = haha_final['item'].map(info)\n",
    "haha_final['genres'] = haha_final['item'].map(info)"
   ]
  },
  {
   "cell_type": "code",
   "execution_count": 24,
   "metadata": {},
   "outputs": [
    {
     "name": "stderr",
     "output_type": "stream",
     "text": [
      "<ipython-input-24-c231ed7d4dfb>:2: SettingWithCopyWarning: \n",
      "A value is trying to be set on a copy of a slice from a DataFrame\n",
      "\n",
      "See the caveats in the documentation: https://pandas.pydata.org/pandas-docs/stable/user_guide/indexing.html#returning-a-view-versus-a-copy\n",
      "  haha_final['authors'][i] = info[haha_final['item'][i]]['author']\n",
      "<ipython-input-24-c231ed7d4dfb>:3: SettingWithCopyWarning: \n",
      "A value is trying to be set on a copy of a slice from a DataFrame\n",
      "\n",
      "See the caveats in the documentation: https://pandas.pydata.org/pandas-docs/stable/user_guide/indexing.html#returning-a-view-versus-a-copy\n",
      "  haha_final['genres'][i] = info[haha_final['item'][i]]['genre']\n"
     ]
    }
   ],
   "source": [
    "for i in haha_final.index:\n",
    "    haha_final['authors'][i] = info[haha_final['item'][i]]['author']\n",
    "    haha_final['genres'][i] = info[haha_final['item'][i]]['genre']"
   ]
  },
  {
   "cell_type": "code",
   "execution_count": 25,
   "metadata": {},
   "outputs": [],
   "source": [
    "haha_final.index = range(len(haha_final))\n",
    "#del haha_final['url']\n",
    "jiba = jiba.rename(columns = {0:'real',1:'item'})\n",
    "final = pd.merge(haha_final,jiba)"
   ]
  },
  {
   "cell_type": "code",
   "execution_count": 26,
   "metadata": {},
   "outputs": [],
   "source": [
    "del final['item']\n",
    "final = final.rename(columns = {\"real\":\"item\"})\n",
    "model_df = pd.merge(df,final)\n",
    "model_df = model_df[['user', 'item', 'authors', 'genres','rating']]\n",
    "authors_dict = dict(zip(authors, range(len(authors))))\n",
    "genres_dict = dict(zip(genres, range(\n",
    "    len(authors), len(authors) + len(genres))))"
   ]
  },
  {
   "cell_type": "code",
   "execution_count": 32,
   "metadata": {},
   "outputs": [],
   "source": [
    "hehe = model_df.copy()\n",
    "hehe['authors'] = hehe['authors'].map(change_author)\n",
    "hehe['genres'] = hehe['genres'].map(change_genre)"
   ]
  },
  {
   "cell_type": "code",
   "execution_count": null,
   "metadata": {},
   "outputs": [],
   "source": [
    "hehe_test = hehe.copy()\n",
    "df_empty = pd.DataFrame(columns=['user', 'item', 'authors', 'genres', 'rating'])\n",
    "for user in set(hehe_test['user']):\n",
    "    mean_rating = hehe_test[hehe_test['user'] == user]['rating'].mean()\n",
    "    pos_df = hehe_test[hehe_test['user'] == user]\n",
    "    pos_df = pos_df[pos_df['rating'] > mean_rating]\n",
    "    pos_df = pos_df.iloc[-1:]\n",
    "    index_to_remove = list(pos_df.iloc[-1:].index)\n",
    "    df_empty = df_empty.append(pos_df)\n",
    "    hehe_test.drop(index = index_to_remove)\n",
    "    \n",
    "    "
   ]
  },
  {
   "cell_type": "code",
   "execution_count": null,
   "metadata": {},
   "outputs": [],
   "source": []
  },
  {
   "cell_type": "code",
   "execution_count": null,
   "metadata": {},
   "outputs": [],
   "source": []
  }
 ],
 "metadata": {
  "kernelspec": {
   "display_name": "Python 3",
   "language": "python",
   "name": "python3"
  },
  "language_info": {
   "codemirror_mode": {
    "name": "ipython",
    "version": 3
   },
   "file_extension": ".py",
   "mimetype": "text/x-python",
   "name": "python",
   "nbconvert_exporter": "python",
   "pygments_lexer": "ipython3",
   "version": "3.8.3"
  }
 },
 "nbformat": 4,
 "nbformat_minor": 4
}
